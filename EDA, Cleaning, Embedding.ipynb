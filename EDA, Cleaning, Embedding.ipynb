{
 "cells": [
  {
   "cell_type": "markdown",
   "metadata": {},
   "source": [
    "# Intro\n",
    "In this notebook, we'll explore the genetics data set from MSKCC. We'll also clean up the data and embed them into vectors to be used for classification.\n",
    "\n",
    "We embed the text into vectors using three different methods\n",
    "* Doc2Vec\n",
    "* Bag of Words\n",
    "* TF-IDF\n",
    "\n",
    "The word embeddings are \"picked\" for future use"
   ]
  },
  {
   "cell_type": "code",
   "execution_count": 1,
   "metadata": {},
   "outputs": [],
   "source": [
    "import numpy as np # linear algebra\n",
    "import pandas as pd # data processing, CSV file I/O (e.g. pd.read_csv)\n",
    "import matplotlib.pyplot as plt\n",
    "import seaborn as sns\n",
    "import os\n",
    "color = sns.color_palette()\n",
    "sns.set_style('darkgrid')\n",
    "sns.set_context('notebook')\n",
    "\n",
    "%matplotlib inline\n",
    "\n",
    "pd.options.mode.chained_assignment = None\n",
    "pd.options.display.max_columns = 999"
   ]
  },
  {
   "cell_type": "markdown",
   "metadata": {},
   "source": [
    "# Start with some data exploration\n",
    "Import the files & start exploring them!"
   ]
  },
  {
   "cell_type": "code",
   "execution_count": 2,
   "metadata": {
    "scrolled": true
   },
   "outputs": [
    {
     "name": "stdout",
     "output_type": "stream",
     "text": [
      "Train and Test variants shape :  (3321, 4) (5668, 3)\n",
      "Train and Test text shape :  (3321, 2) (5668, 2)\n"
     ]
    }
   ],
   "source": [
    "train_variants_df = pd.read_csv(\"training_variants\")\n",
    "test_variants_df = pd.read_csv(\"test_variants\")\n",
    "train_text_df = pd.read_csv(\"training_text\", sep=\"\\|\\|\", engine='python', header=None, skiprows=1, names=[\"ID\",\"Text\"])\n",
    "test_text_df = pd.read_csv(\"test_text\", sep=\"\\|\\|\", engine='python', header=None, skiprows=1, names=[\"ID\",\"Text\"])\n",
    "\n",
    "print(\"Train and Test variants shape : \",train_variants_df.shape, test_variants_df.shape)\n",
    "print(\"Train and Test text shape : \",train_text_df.shape, test_text_df.shape)"
   ]
  },
  {
   "cell_type": "code",
   "execution_count": 3,
   "metadata": {},
   "outputs": [
    {
     "data": {
      "text/html": [
       "<div>\n",
       "<style scoped>\n",
       "    .dataframe tbody tr th:only-of-type {\n",
       "        vertical-align: middle;\n",
       "    }\n",
       "\n",
       "    .dataframe tbody tr th {\n",
       "        vertical-align: top;\n",
       "    }\n",
       "\n",
       "    .dataframe thead th {\n",
       "        text-align: right;\n",
       "    }\n",
       "</style>\n",
       "<table border=\"1\" class=\"dataframe\">\n",
       "  <thead>\n",
       "    <tr style=\"text-align: right;\">\n",
       "      <th></th>\n",
       "      <th>ID</th>\n",
       "      <th>Gene</th>\n",
       "      <th>Variation</th>\n",
       "      <th>Class</th>\n",
       "    </tr>\n",
       "  </thead>\n",
       "  <tbody>\n",
       "    <tr>\n",
       "      <th>0</th>\n",
       "      <td>0</td>\n",
       "      <td>FAM58A</td>\n",
       "      <td>Truncating Mutations</td>\n",
       "      <td>1</td>\n",
       "    </tr>\n",
       "    <tr>\n",
       "      <th>1</th>\n",
       "      <td>1</td>\n",
       "      <td>CBL</td>\n",
       "      <td>W802*</td>\n",
       "      <td>2</td>\n",
       "    </tr>\n",
       "    <tr>\n",
       "      <th>2</th>\n",
       "      <td>2</td>\n",
       "      <td>CBL</td>\n",
       "      <td>Q249E</td>\n",
       "      <td>2</td>\n",
       "    </tr>\n",
       "    <tr>\n",
       "      <th>3</th>\n",
       "      <td>3</td>\n",
       "      <td>CBL</td>\n",
       "      <td>N454D</td>\n",
       "      <td>3</td>\n",
       "    </tr>\n",
       "    <tr>\n",
       "      <th>4</th>\n",
       "      <td>4</td>\n",
       "      <td>CBL</td>\n",
       "      <td>L399V</td>\n",
       "      <td>4</td>\n",
       "    </tr>\n",
       "  </tbody>\n",
       "</table>\n",
       "</div>"
      ],
      "text/plain": [
       "   ID    Gene             Variation  Class\n",
       "0   0  FAM58A  Truncating Mutations      1\n",
       "1   1     CBL                 W802*      2\n",
       "2   2     CBL                 Q249E      2\n",
       "3   3     CBL                 N454D      3\n",
       "4   4     CBL                 L399V      4"
      ]
     },
     "execution_count": 3,
     "metadata": {},
     "output_type": "execute_result"
    }
   ],
   "source": [
    "train_variants_df.head()"
   ]
  },
  {
   "cell_type": "code",
   "execution_count": 4,
   "metadata": {},
   "outputs": [
    {
     "data": {
      "text/html": [
       "<div>\n",
       "<style scoped>\n",
       "    .dataframe tbody tr th:only-of-type {\n",
       "        vertical-align: middle;\n",
       "    }\n",
       "\n",
       "    .dataframe tbody tr th {\n",
       "        vertical-align: top;\n",
       "    }\n",
       "\n",
       "    .dataframe thead th {\n",
       "        text-align: right;\n",
       "    }\n",
       "</style>\n",
       "<table border=\"1\" class=\"dataframe\">\n",
       "  <thead>\n",
       "    <tr style=\"text-align: right;\">\n",
       "      <th></th>\n",
       "      <th>ID</th>\n",
       "      <th>Text</th>\n",
       "    </tr>\n",
       "  </thead>\n",
       "  <tbody>\n",
       "    <tr>\n",
       "      <th>0</th>\n",
       "      <td>0</td>\n",
       "      <td>2. This mutation resulted in a myeloproliferat...</td>\n",
       "    </tr>\n",
       "    <tr>\n",
       "      <th>1</th>\n",
       "      <td>1</td>\n",
       "      <td>Abstract The Large Tumor Suppressor 1 (LATS1)...</td>\n",
       "    </tr>\n",
       "    <tr>\n",
       "      <th>2</th>\n",
       "      <td>2</td>\n",
       "      <td>Vascular endothelial growth factor receptor (V...</td>\n",
       "    </tr>\n",
       "    <tr>\n",
       "      <th>3</th>\n",
       "      <td>3</td>\n",
       "      <td>Inflammatory myofibroblastic tumor (IMT) is a ...</td>\n",
       "    </tr>\n",
       "    <tr>\n",
       "      <th>4</th>\n",
       "      <td>4</td>\n",
       "      <td>Abstract Retinoblastoma is a pediatric retina...</td>\n",
       "    </tr>\n",
       "  </tbody>\n",
       "</table>\n",
       "</div>"
      ],
      "text/plain": [
       "   ID                                               Text\n",
       "0   0  2. This mutation resulted in a myeloproliferat...\n",
       "1   1   Abstract The Large Tumor Suppressor 1 (LATS1)...\n",
       "2   2  Vascular endothelial growth factor receptor (V...\n",
       "3   3  Inflammatory myofibroblastic tumor (IMT) is a ...\n",
       "4   4   Abstract Retinoblastoma is a pediatric retina..."
      ]
     },
     "execution_count": 4,
     "metadata": {},
     "output_type": "execute_result"
    }
   ],
   "source": [
    "test_text_df.head()"
   ]
  },
  {
   "cell_type": "code",
   "execution_count": 5,
   "metadata": {},
   "outputs": [
    {
     "data": {
      "text/html": [
       "<div>\n",
       "<style scoped>\n",
       "    .dataframe tbody tr th:only-of-type {\n",
       "        vertical-align: middle;\n",
       "    }\n",
       "\n",
       "    .dataframe tbody tr th {\n",
       "        vertical-align: top;\n",
       "    }\n",
       "\n",
       "    .dataframe thead th {\n",
       "        text-align: right;\n",
       "    }\n",
       "</style>\n",
       "<table border=\"1\" class=\"dataframe\">\n",
       "  <thead>\n",
       "    <tr style=\"text-align: right;\">\n",
       "      <th></th>\n",
       "      <th>ID</th>\n",
       "      <th>Text</th>\n",
       "    </tr>\n",
       "  </thead>\n",
       "  <tbody>\n",
       "    <tr>\n",
       "      <th>0</th>\n",
       "      <td>0</td>\n",
       "      <td>Cyclin-dependent kinases (CDKs) regulate a var...</td>\n",
       "    </tr>\n",
       "    <tr>\n",
       "      <th>1</th>\n",
       "      <td>1</td>\n",
       "      <td>Abstract Background  Non-small cell lung canc...</td>\n",
       "    </tr>\n",
       "    <tr>\n",
       "      <th>2</th>\n",
       "      <td>2</td>\n",
       "      <td>Abstract Background  Non-small cell lung canc...</td>\n",
       "    </tr>\n",
       "    <tr>\n",
       "      <th>3</th>\n",
       "      <td>3</td>\n",
       "      <td>Recent evidence has demonstrated that acquired...</td>\n",
       "    </tr>\n",
       "    <tr>\n",
       "      <th>4</th>\n",
       "      <td>4</td>\n",
       "      <td>Oncogenic mutations in the monomeric Casitas B...</td>\n",
       "    </tr>\n",
       "  </tbody>\n",
       "</table>\n",
       "</div>"
      ],
      "text/plain": [
       "   ID                                               Text\n",
       "0   0  Cyclin-dependent kinases (CDKs) regulate a var...\n",
       "1   1   Abstract Background  Non-small cell lung canc...\n",
       "2   2   Abstract Background  Non-small cell lung canc...\n",
       "3   3  Recent evidence has demonstrated that acquired...\n",
       "4   4  Oncogenic mutations in the monomeric Casitas B..."
      ]
     },
     "execution_count": 5,
     "metadata": {},
     "output_type": "execute_result"
    }
   ],
   "source": [
    "train_text_df.head()"
   ]
  },
  {
   "cell_type": "code",
   "execution_count": 6,
   "metadata": {},
   "outputs": [
    {
     "data": {
      "text/plain": [
       "\"Cyclin-dependent kinases (CDKs) regulate a variety of fundamental cellular processes. CDK10 stands out as one of the last orphan CDKs for which no activating cyclin has been identified and no kinase activity revealed. Previous work has shown that CDK10 silencing increases ETS2 (v-ets erythroblastosis virus E26 oncogene homolog 2)-driven activation of the MAPK pathway, which confers tamoxifen resistance to breast cancer cells. The precise mechanisms by which CDK10 modulates ETS2 activity, and more generally the functions of CDK10, remain elusive. Here we demonstrate that CDK10 is a cyclin-dependent kinase by identifying cyclin M as an activating cyclin. Cyclin M, an orphan cyclin, is the product of FAM58A, whose mutations cause STAR syndrome, a human developmental anomaly whose features include toe syndactyly, telecanthus, and anogenital and renal malformations. We show that STAR syndrome-associated cyclin M mutants are unable to interact with CDK10. Cyclin M silencing phenocopies CDK10 silencing in increasing c-Raf and in conferring tamoxifen resistance to breast cancer cells. CDK10/cyclin M phosphorylates ETS2 in vitro, and in cells it positively controls ETS2 degradation by the proteasome. ETS2 protein levels are increased in cells derived from a STAR patient, and this increase is attributable to decreased cyclin M levels. Altogether, our results reveal an additional regulatory mechanism for ETS2, which plays key roles in cancer and development. They also shed light on the molecular mechanisms underlying STAR syndrome.Cyclin-dependent kinases (CDKs) play a pivotal role in the control of a number of fundamental cellular processes (1). The human genome contains 21 genes encoding proteins that can be considered as members of the CDK family owing to their sequence similarity with bona fide CDKs, those known to be activated by cyclins (2). Although discovered almost 20 y ago (3, 4), CDK10 remains one of the two CDKs without an identified cyclin partner. This knowledge gap has largely impeded the exploration of its biological functions. CDK10 can act as a positive cell cycle regulator in some cells (5, 6) or as a tumor suppressor in others (7, 8). CDK10 interacts with the ETS2 (v-ets erythroblastosis virus E26 oncogene homolog 2) transcription factor and inhibits its transcriptional activity through an unknown mechanism (9). CDK10 knockdown derepresses ETS2, which increases the expression of the c-Raf protein kinase, activates the MAPK pathway, and induces resistance of MCF7 cells to tamoxifen (6).Here, we deorphanize CDK10 by identifying cyclin M, the product of FAM58A, as a binding partner. Mutations in this gene that predict absence or truncation of cyclin M are associated with STAR syndrome, whose features include toe syndactyly, telecanthus, and anogenital and renal malformations in heterozygous females (10). However, both the functions of cyclin M and the pathogenesis of STAR syndrome remain unknown. We show that a recombinant CDK10/cyclin M heterodimer is an active protein kinase that phosphorylates ETS2 in vitro. Cyclin M silencing phenocopies CDK10 silencing in increasing c-Raf and phospho-ERK expression levels and in inducing tamoxifen resistance in estrogen receptor (ER)+ breast cancer cells. We show that CDK10/cyclin M positively controls ETS2 degradation by the proteasome, through the phosphorylation of two neighboring serines. Finally, we detect an increased ETS2 expression level in cells derived from a STAR patient, and we demonstrate that it is attributable to the decreased cyclin M expression level observed in these cells.Previous SectionNext SectionResultsA yeast two-hybrid (Y2H) screen unveiled an interaction signal between CDK10 and a mouse protein whose C-terminal half presents a strong sequence homology with the human FAM58A gene product [whose proposed name is cyclin M (11)]. We thus performed Y2H mating assays to determine whether human CDK10 interacts with human cyclin M (Fig. 1 Aâ€“C). The longest CDK10 isoform (P1) expressed as a bait protein produced a strong interaction phenotype with full-length cyclin M (expressed as a prey protein) but no detectable phenotype with cyclin D1, p21 (CIP1), and Cdi1 (KAP), which are known binding partners of other CDKs (Fig. 1B). CDK1 and CDK3 also produced Y2H signals with cyclin M, albeit notably weaker than that observed with CDK10 (Fig. 1B). An interaction phenotype was also observed between full-length cyclin M and CDK10 proteins expressed as bait and prey, respectively (Fig. S1A). We then tested different isoforms of CDK10 and cyclin M originating from alternative gene splicing, and two truncated cyclin M proteins corresponding to the hypothetical products of two mutated FAM58A genes found in STAR syndrome patients (10). None of these shorter isoforms produced interaction phenotypes (Fig. 1 A and C and Fig. S1A).Fig. 1.In a new window Download PPTFig. 1.CDK10 and cyclin M form an interaction complex. (A) Schematic representation of the different protein isoforms analyzed by Y2H assays. Amino acid numbers are indicated. Black boxes indicate internal deletions. The red box indicates a differing amino acid sequence compared with CDK10 P1. (B) Y2H assay between a set of CDK proteins expressed as baits (in fusion to the LexA DNA binding domain) and CDK interacting proteins expressed as preys (in fusion to the B42 transcriptional activator). pEG202 and pJG4-5 are the empty bait and prey plasmids expressing LexA and B42, respectively. lacZ was used as a reporter gene, and blue yeast are indicative of a Y2H interaction phenotype. (C) Y2H assay between the different CDK10 and cyclin M isoforms. The amino-terminal region of ETS2, known to interact with CDK10 (9), was also assayed. (D) Western blot analysis of Myc-CDK10 (wt or kd) and CycM-V5-6His expression levels in transfected HEK293 cells. (E) Western blot analysis of Myc-CDK10 (wt or kd) immunoprecipitates obtained using the anti-Myc antibody. â€œInputsâ€� correspond to 10 Î¼g total lysates obtained from HEK293 cells coexpressing Myc-CDK10 (wt or kd) and CycM-V5-6His. (F) Western blot analysis of immunoprecipitates obtained using the anti-CDK10 antibody or a control goat antibody, from human breast cancer MCF7 cells. â€œInputâ€� corresponds to 30 Î¼g MCF7 total cell lysates. The lower band of the doublet observed on the upper panel comigrates with the exogenously expressed untagged CDK10 and thus corresponds to endogenous CDK10. The upper band of the doublet corresponds to a nonspecific signal, as demonstrated by it insensitivity to either overexpression of CDK10 (as seen on the left lane) or silencing of CDK10 (Fig. S2B). Another experiment with a longer gel migration is shown in Fig. S1D.Next we examined the ability of CDK10 and cyclin M to interact when expressed in human cells (Fig. 1 D and E). We tested wild-type CDK10 (wt) and a kinase dead (kd) mutant bearing a D181A amino acid substitution that abolishes ATP binding (12). We expressed cyclin M-V5-6His and/or Myc-CDK10 (wt or kd) in a human embryonic kidney cell line (HEK293). The expression level of cyclin M-V5-6His was significantly increased upon coexpression with Myc-CDK10 (wt or kd) and, to a lesser extent, that of Myc-CDK10 (wt or kd) was increased upon coexpression with cyclin M-V5-6His (Fig. 1D). We then immunoprecipitated Myc-CDK10 proteins and detected the presence of cyclin M in the CDK10 (wt) and (kd) immunoprecipitates only when these proteins were coexpressed pair-wise (Fig. 1E). We confirmed these observations by detecting the presence of Myc-CDK10 in cyclin M-V5-6His immunoprecipitates (Fig. S1B). These experiments confirmed the lack of robust interaction between the CDK10.P2 isoform and cyclin M (Fig. S1C). To detect the interaction between endogenous proteins, we performed immunoprecipitations on nontransfected MCF7 cells derived from a human breast cancer. CDK10 and cyclin M antibodies detected their cognate endogenous proteins by Western blotting. We readily detected cyclin M in immunoprecipitates obtained with the CDK10 antibody but not with a control antibody (Fig. 1F). These results confirm the physical interaction between CDK10 and cyclin M in human cells.To unveil a hypothesized CDK10/cyclin M protein kinase activity, we produced GST-CDK10 and StrepII-cyclin M fusion proteins in insect cells, either individually or in combination. We observed that GST-CDK10 and StrepII-cyclin M copurified, thus confirming their interaction in yet another cellular model (Fig. 2A). We then performed in vitro kinase assays with purified proteins, using histone H1 as a generic substrate. Histone H1 phosphorylation was detected only from lysates of cells coexpressing GST-CDK10 and StrepII-cyclin M. No phosphorylation was detected when GST-CDK10 or StrepII-cyclin M were expressed alone, or when StrepII-cyclin M was coexpressed with GST-CDK10(kd) (Fig. 2A). Next we investigated whether ETS2, which is known to interact with CDK10 (9) (Fig. 1C), is a phosphorylation substrate of CDK10/cyclin M. We detected strong phosphorylation of ETS2 by the GST-CDK10/StrepII-cyclin M purified heterodimer, whereas no phosphorylation was detected using GST-CDK10 alone or GST-CDK10(kd)/StrepII-cyclin M heterodimer (Fig. 2B).Fig. 2.In a new window Download PPTFig. 2.CDK10 is a cyclin M-dependent protein kinase. (A) In vitro protein kinase assay on histone H1. Lysates from insect cells expressing different proteins were purified on a glutathione Sepharose matrix to capture GST-CDK10(wt or kd) fusion proteins alone, or in complex with STR-CycM fusion protein. Purified protein expression levels were analyzed by Western blots (Top and Upper Middle). The kinase activity was determined by autoradiography of histone H1, whose added amounts were visualized by Coomassie staining (Lower Middle and Bottom). (B) Same as in A, using purified recombinant 6His-ETS2 as a substrate.CDK10 silencing has been shown to increase ETS2-driven c-RAF transcription and to activate the MAPK pathway (6). We investigated whether cyclin M is also involved in this regulatory pathway. To aim at a highly specific silencing, we used siRNA pools (mix of four different siRNAs) at low final concentration (10 nM). Both CDK10 and cyclin M siRNA pools silenced the expression of their cognate targets (Fig. 3 A and C and Fig. S2) and, interestingly, the cyclin M siRNA pool also caused a marked decrease in CDK10 protein level (Fig. 3A and Fig. S2B). These results, and those shown in Fig. 1D, suggest that cyclin M binding stabilizes CDK10. Cyclin M silencing induced an increase in c-Raf protein and mRNA levels (Fig. 3 B and C) and in phosphorylated ERK1 and ERK2 protein levels (Fig. S3B), similarly to CDK10 silencing. As expected from these effects (6), CDK10 and cyclin M silencing both decreased the sensitivity of ER+ MCF7 cells to tamoxifen, to a similar extent. The combined silencing of both genes did not result in a higher resistance to the drug (Fig. S3C). Altogether, these observations demonstrate a functional interaction between cyclin M and CDK10, which negatively controls ETS2.Fig. 3.In a new window Download PPTFig. 3.Cyclin M silencing up-regulates c-Raf expression. (A) Western blot analysis of endogenous CDK10 and cyclin M expression levels in MCF7 cells, in response to siRNA-mediated gene silencing. (B) Western blot analysis of endogenous c-Raf expression levels in MCF7 cells, in response to CDK10 or cyclin M silencing. A quantification is shown in Fig. S3A. (C) Quantitative RT-PCR analysis of CDK10, cyclin M, and c-Raf mRNA levels, in response to CDK10 (Upper) or cyclin M (Lower) silencing. **P â‰¤ 0.01; ***P â‰¤ 0.001.We then wished to explore the mechanism by which CDK10/cyclin M controls ETS2. ETS2 is a short-lived protein degraded by the proteasome (13). A straightforward hypothesis is that CDK10/cyclin M positively controls ETS2 degradation. We thus examined the impact of CDK10 or cyclin M silencing on ETS2 expression levels. The silencing of CDK10 and that of cyclin M caused an increase in the expression levels of an exogenously expressed Flag-ETS2 protein (Fig. S4A), as well as of the endogenous ETS2 protein (Fig. 4A). This increase is not attributable to increased ETS2 mRNA levels, which marginally fluctuated in response to CDK10 or cyclin M silencing (Fig. S4B). We then examined the expression levels of the Flag-tagged ETS2 protein when expressed alone or in combination with Myc-CDK10 or -CDK10(kd), with or without cyclin M-V5-6His. Flag-ETS2 was readily detected when expressed alone or, to a lesser extent, when coexpressed with CDK10(kd). However, its expression level was dramatically decreased when coexpressed with CDK10 alone, or with CDK10 and cyclin M (Fig. 4B). These observations suggest that endogenous cyclin M levels are in excess compared with those of CDK10 in MCF7 cells, and they show that the major decrease in ETS2 levels observed upon CDK10 coexpression involves CDK10 kinase activity. Treatment of cells coexpressing Flag-ETS2, CDK10, and cyclin M with the proteasome inhibitor MG132 largely rescued Flag-ETS2 expression levels (Fig. 4B).Fig. 4.In a new window Download PPTFig. 4.CDK10/cyclin M controls ETS2 stability in human cancer derived cells. (A) Western blot analysis of endogenous ETS2 expression levels in MCF7 cells, in response to siRNA-mediated CDK10 and/or cyclin M silencing. A quantification is shown in Fig. S4B. (B) Western blot analysis of exogenously expressed Flag-ETS2 protein levels in MCF7 cells cotransfected with empty vectors or coexpressing Myc-CDK10 (wt or kd), or Myc-CDK10/CycM-V5-6His. The latter cells were treated for 16 h with the MG132 proteasome inhibitor. Proper expression of CDK10 and cyclin M tagged proteins was verified by Western blot analysis. (C and D) Western blot analysis of expression levels of exogenously expressed Flag-ETS2 wild-type or mutant proteins in MCF7 cells, in the absence of (C) or in response to (D) Myc-CDK10/CycM-V5-6His expression. Quantifications are shown in Fig. S4 C and D.A mass spectrometry analysis of recombinant ETS2 phosphorylated by CDK10/cyclin M in vitro revealed the existence of multiple phosphorylated residues, among which are two neighboring phospho-serines (at positions 220 and 225) that may form a phosphodegron (14) (Figs. S5â€“S8). To confirm this finding, we compared the phosphorylation level of recombinant ETS2wt with that of ETS2SASA protein, a mutant bearing alanine substitutions of these two serines. As expected from the existence of multiple phosphorylation sites, we detected a small but reproducible, significant decrease of phosphorylation level of ETS2SASA compared with ETS2wt (Fig. S9), thus confirming that Ser220/Ser225 are phosphorylated by CDK10/cyclin M. To establish a direct link between ETS2 phosphorylation by CDK10/cyclin M and degradation, we examined the expression levels of Flag-ETS2SASA. In the absence of CDK10/cyclin M coexpression, it did not differ significantly from that of Flag-ETS2. This is contrary to that of Flag-ETS2DBM, bearing a deletion of the N-terminal destruction (D-) box that was previously shown to be involved in APC-Cdh1â€“mediated degradation of ETS2 (13) (Fig. 4C). However, contrary to Flag-ETS2 wild type, the expression level of Flag-ETS2SASA remained insensitive to CDK10/cyclin M coexpression (Fig. 4D). Altogether, these results suggest that CDK10/cyclin M directly controls ETS2 degradation through the phosphorylation of these two serines.Finally, we studied a lymphoblastoid cell line derived from a patient with STAR syndrome, bearing FAM58A mutation c.555+1G>A, predicted to result in aberrant splicing (10). In accordance with incomplete skewing of X chromosome inactivation previously found in this patient, we detected a decreased expression level of cyclin M protein in the STAR cell line, compared with a control lymphoblastoid cell line. In line with our preceding observations, we detected an increased expression level of ETS2 protein in the STAR cell line compared with the control (Fig. 5A and Fig. S10A). We then examined by quantitative RT-PCR the mRNA expression levels of the corresponding genes. The STAR cell line showed a decreased expression level of cyclin M mRNA but an expression level of ETS2 mRNA similar to that of the control cell line (Fig. 5B). To demonstrate that the increase in ETS2 protein expression is indeed a result of the decreased cyclin M expression observed in the STAR patient-derived cell line, we expressed cyclin M-V5-6His in this cell line. This expression caused a decrease in ETS2 protein levels (Fig. 5C).Fig. 5.In a new window Download PPTFig. 5.Decreased cyclin M expression in STAR patient-derived cells results in increased ETS2 protein level. (A) Western blot analysis of cyclin M and ETS2 protein levels in a STAR patient-derived lymphoblastoid cell line and in a control lymphoblastoid cell line, derived from a healthy individual. A quantification is shown in Fig. S10A. (B) Quantitative RT-PCR analysis of cyclin M and ETS2 mRNA levels in the same cells. ***P â‰¤ 0.001. (C) Western blot analysis of ETS2 protein levels in the STAR patient-derived lymphoblastoid cell line transfected with an empty vector or a vector directing the expression of cyclin M-V5-6His. Another Western blot revealing endogenously and exogenously expressed cyclin M levels is shown in Fig. S10B. A quantification of ETS2 protein levels is shown in Fig. S10C.Previous SectionNext SectionDiscussionIn this work, we unveil the interaction between CDK10, the last orphan CDK discovered in the pregenomic era (2), and cyclin M, the only cyclin associated with a human genetic disease so far, and whose functions remain unknown (10). The closest paralogs of CDK10 within the CDK family are the CDK11 proteins, which interact with L-type cyclins (15). Interestingly, the closest paralog of these cyclins within the cyclin family is cyclin M (Fig. S11). The fact that none of the shorter CDK10 isoforms interact robustly with cyclin M suggests that alternative splicing of the CDK10 gene (16, 17) plays an important role in regulating CDK10 functions.The functional relevance of the interaction between CDK10 and cyclin M is supported by different observations. Both proteins seem to enhance each otherâ€™s stability, as judged from their increased expression levels when their partner is exogenously coexpressed (Fig. 1D) and from the much reduced endogenous CDK10 expression level observed in response to cyclin M silencing (Fig. 3A and Fig. S2B). CDK10 is subject to ubiquitin-mediated degradation (18). Our observations suggest that cyclin M protects CDK10 from such degradation and that it is the only cyclin partner of CDK10, at least in MCF7 cells. They also suggest that cyclin M stability is enhanced upon binding to CDK10, independently from its kinase activity, as seen for cyclin C and CDK8 (19). We uncover a cyclin M-dependent CDK10 protein kinase activity in vitro, thus demonstrating that this protein, which was named a CDK on the sole basis of its amino acid sequence, is indeed a genuine cyclin-dependent kinase. Our Y2H assays reveal that truncated cyclin M proteins corresponding to the hypothetical products of two STAR syndrome-associated FAM58A mutations do not produce an interaction phenotype with CDK10. Hence, regardless of whether these mutated mRNAs undergo nonsense-mediated decay (as suggested from the decreased cyclin M mRNA levels in STAR cells, shown in Fig. 5B) or give rise to truncated cyclin M proteins, females affected by the STAR syndrome must exhibit compromised CDK10/cyclin M kinase activity at least in some tissues and during specific developmental stages.We show that ETS2, a known interactor of CDK10, is a phosphorylation substrate of CDK10/cyclin M in vitro and that CDK10/cyclin M kinase activity positively controls ETS2 degradation by the proteasome. This control seems to be exerted through a very fine mechanism, as judged from the sensitivity of ETS2 levels to partially decreased CDK10 and cyclin M levels, achieved in MCF7 cells and observed in STAR cells, respectively. These findings offer a straightforward explanation for the already reported up-regulation of ETS2-driven transcription of c-RAF in response to CDK10 silencing (6). We bring evidence that CDK10/cyclin M directly controls ETS2 degradation through the phosphorylation of two neighboring serines, which may form a noncanonical Î²-TRCP phosphodegron (DSMCPAS) (14). Because none of these two serines precede a proline, they do not conform to usual CDK phosphorylation sites. However, multiple so-called transcriptional CDKs (CDK7, -8, -9, and -11) (to which CDK10 may belong; Fig. S11) have been shown to phosphorylate a variety of motifs in a nonâ€“proline-directed fashion, especially in the context of molecular docking with the substrate (20). Here, it can be hypothesized that the high-affinity interaction between CDK10 and the Pointed domain of ETS2 (6, 9) (Fig. 1C) would allow docking-mediated phosphorylation of atypical sites. The control of ETS2 degradation involves a number of players, including APC-Cdh1 (13) and the cullin-RING ligase CRL4 (21). The formal identification of the ubiquitin ligase involved in the CDK10/cyclin M pathway and the elucidation of its concerted action with the other ubiquitin ligases to regulate ETS2 degradation will require further studies.Our results present a number of significant biological and medical implications. First, they shed light on the regulation of ETS2, which plays an important role in development (22) and is frequently deregulated in many cancers (23). Second, our results contribute to the understanding of the molecular mechanisms causing tamoxifen resistance associated with reduced CDK10 expression levels, and they suggest that, like CDK10 (6), cyclin M could also be a predictive clinical marker of hormone therapy response of ERÎ±-positive breast cancer patients. Third, our findings offer an interesting hypothesis on the molecular mechanisms underlying STAR syndrome. Ets2 transgenic mice showing a less than twofold overexpression of Ets2 present severe cranial abnormalities (24), and those observed in STAR patients could thus be caused at least in part by increased ETS2 protein levels. Another expected consequence of enhanced ETS2 expression levels would be a decreased risk to develop certain types of cancers and an increased risk to develop others. Studies on various mouse models (including models of Down syndrome, in which three copies of ETS2 exist) have revealed that ETS2 dosage can repress or promote tumor growth and, hence, that ETS2 exerts noncell autonomous functions in cancer (25). Intringuingly, one of the very few STAR patients identified so far has been diagnosed with a nephroblastoma (26). Finally, our findings will facilitate the general exploration of the biological functions of CDK10 and, in particular, its role in the control of cell division. Previous studies have suggested either a positive role in cell cycle control (5, 6) or a tumor-suppressive activity in some cancers (7, 8). The severe growth retardation exhibited by STAR patients strongly suggests that CDK10/cyclin M plays an important role in the control of cell proliferation.Previous SectionNext SectionMaterials and MethodsCloning of CDK10 and cyclin M cDNAs, plasmid constructions, tamoxifen response analysis, quantitative RT-PCR, mass spectrometry experiments, and antibody production are detailed in SI Materials and Methods.Yeast Two-Hybrid Interaction Assays. We performed yeast interaction mating assays as previously described (27).Mammalian Cell Cultures and Transfections. We grew human HEK293 and MCF7 cells in DMEM supplemented with 10% (vol/vol) FBS (Invitrogen), and we grew lymphoblastoid cells in RPMI 1640 GlutaMAX supplemented with 15% (vol/vol) FBS. We transfected HEK293 and MCF7 cells using Lipofectamine 2000 (Invitrogen) for plasmids, Lipofectamine RNAiMAX (Invitrogen) for siRNAs, and Jetprime (Polyplus) for plasmids/siRNAs combinations according to the manufacturersâ€™ instructions. We transfected lymphoblastoid cells by electroporation (Neon, Invitrogen). For ETS2 stability studies we treated MCF7 cells 32 h after transfection with 10 Î¼M MG132 (Fisher Scientific) for 16 h.Coimmunoprecipitation and Western Blot Experiments. We collected cells by scraping in PBS (or centrifugation for lymphoblastoid cells) and lysed them by sonication in a lysis buffer containing 60 mM Î²-glycerophosphate, 15 mM p-nitrophenylphosphate, 25 mM 3-(N-morpholino)propanesulfonic acid (Mops) (pH 7.2), 15 mM EGTA, 15 mM MgCl2, 1 mM Na vanadate, 1 mM NaF, 1mM phenylphosphate, 0.1% Nonidet P-40, and a protease inhibitor mixture (Roche). We spun the lysates 15 min at 20,000 Ã— g at 4 Â°C, collected the supernatants, and determined the protein content using a Bradford assay. We performed the immunoprecipitation experiments on 500 Î¼g of total proteins, in lysis buffer. We precleared the lysates with 20 Î¼L of protein A or G-agarose beads, incubated 1 h 4 Â°C on a rotating wheel. We added 5 Î¼g of antibody to the supernatants, incubated 1 h 4 Â°C on a rotating wheel, added 20 Î¼L of protein A or G-agarose beads, and incubated 1 h 4 Â°C on a rotating wheel. We collected the beads by centrifugation 30 s at 18,000 Ã— g at 4 Â°C and washed three times in a bead buffer containing 50 mM Tris (pH 7.4), 5 mM NaF, 250 mM NaCl, 5 mM EDTA, 5 mM EGTA, 0.1% Nonidet P-40, and a protease inhibitor coktail (Roche). We directly added sample buffer to the washed pellets, heat-denatured the proteins, and ran the samples on 10% Bis-Tris SDS/PAGE. We transferred the proteins onto Hybond nitrocellulose membranes and processed the blots according to standard procedures. For Western blot experiments, we used the following primary antibodies: anti-Myc (Abcam ab9106, 1:2,000), anti-V5 (Invitrogen R960, 1:5,000), anti-tubulin (Santa Cruz Biotechnology B-7, 1:500), anti-CDK10 (Covalab pab0847p, 1:500 or Santa Cruz Biotechnology C-19, 1:500), anti-CycM (home-made, dilution 1:500 or Covalab pab0882-P, dilution 1:500), anti-Raf1 (Santa Cruz Biotechnology C-20, 1:1,000), anti-ETS2 (Santa Cruz Biotechnology C-20, 1:1,000), anti-Flag (Sigma F7425, 1:1,000), and anti-actin (Sigma A5060, 1:5,000). We used HRP-coupled anti-goat (Santa Cruz Biotechnology SC-2033, dilution 1:2,000), anti-mouse (Bio-Rad 170â€“6516, dilution 1:3,000) or anti-rabbit (Bio-Rad 172â€“1019, 1:5,000) as secondary antibodies. We revealed the blots by enhanced chemiluminescence (SuperSignal West Femto, Thermo Scientific).Production and Purification of Recombinant Proteins.GST-CDK10(kd)/StrepII-CycM. We generated recombinant bacmids in DH10Bac Escherichia coli and baculoviruses in Sf9 cells using the Bac-to-Bac system, as described by the provider (Invitrogen). We infected Sf9 cells with GST-CDK10- (or GST-CDK10kd)-producing viruses, or coinfected the cells with StrepII-CycMâ€“producing viruses, and we collected the cells 72 h after infection. To purify GST-fusion proteins, we spun 250 mL cells and resuspended the pellet in 40 mL lysis buffer (PBS, 250 mM NaCl, 0.5% Nonidet P-40, 50 mM NaF, 10 mM Î²-glycerophosphate, and 0.3 mM Na-vanadate) containing a protease inhibitor mixture (Roche). We lysed the cells by sonication, spun the lysate 30 min at 15,000 Ã— g, collected the soluble fraction, and added it to a 1-mL glutathione-Sepharose matrix. We incubated 1 h at 4 Â°C, washed four times with lysis buffer, one time with kinase buffer A (see below), and finally resuspended the beads in 100 Î¼L kinase buffer A containing 10% (vol/vol) glycerol for storage.6His-ETS2. We transformed Origami2 DE3 (Novagen) with the 6His-ETS2 expression vector. We induced expression with 0.2 mM isopropyl-Î²-d-1-thiogalactopyranoside for 3 h at 22 Â°C. To purify 6His-ETS2, we spun 50 mL cells and resuspended the pellet in 2 mL lysis buffer (PBS, 300 mM NaCl, 10 mM Imidazole, 1 mM DTT, and 0.1% Nonidet P-40) containing a protease inhibitor mixture without EDTA (Roche). We lysed the cells at 1.6 bar using a cell disruptor and spun the lysate 10 min at 20,000 Ã— g. We collected the soluble fraction and added it to 200 Î¼L Cobalt beads (Thermo Scientific). After 1 h incubation at 4 Â°C on a rotating wheel, we washed four times with lysis buffer. To elute, we incubated beads 30 min with elution buffer (PBS, 250 mM imidazole, pH 7.6) containing the protease inhibitor mixture, spun 30 s at 10,000 Ã— g, and collected the eluted protein.Protein Kinase Assays. We mixed glutathione-Sepharose beads (harboring GST-CDK10 wt or kd, either monomeric or complexed with StrepII-CycM), 22.7 Î¼M BSA, 15 mM DTT, 100 Î¼M ATP, 5 Î¼Ci ATP[Î³-32P], 7.75 Î¼M histone H1, or 1 Î¼M 6His-ETS2 and added kinase buffer A (25 mM TrisÂ·HCl, 10 mM MgCl2, 1 mM EGTA, 1 mM DTT, and 3.7 Î¼M heparin, pH 7.5) up to a total volume of 30 Î¼L. We incubated the reactions 30 min at 30 Â°C, added Laemli sample buffer, heat-denatured the samples, and ran 10% Bis-Tris SDS/PAGE. We cut gel slices to detect GST-CDK10 and StrepII-CycM by Western blotting. We stained the gel slices containing the substrate with Coomassie (R-250, Bio-Rad), dried them, and detected the incorporated radioactivity by autoradiography. We identified four unrelated girls with anogenital and renal malformations, dysmorphic facial features, normal intellect and syndactyly of toes. A similar combination of features had been reported previously in a motherâ€“daughter pair1 (Table 1 and Supplementary Note online). These authors noted clinical overlap with Townes-Brocks syndrome but suggested that the phenotype represented a separate autosomal dominant entity (MIM601446). Here we define the cardinal features of this syndrome as a characteristic facial appearance with apparent telecanthus and broad tripartite nasal tip, variable syndactyly of toes 2â€“5, hypoplastic labia, anal atresia and urogenital malformations (Fig. 1aâ€“h). We also observed a variety of other features (Table 1).  Figure 1: Clinical and molecular characterization of STAR syndrome.  Figure 1 : Clinical and molecular characterization of STAR syndrome. (aâ€“f) Facial appearances of cases 1â€“3 (apparent telecanthus, dysplastic ears and thin upper lips; a,c,e), and toe syndactyly 2â€“5, 3â€“5 or 4â€“5 (b,d,f) in these cases illustrate recognizable features of STAR syndrome (specific parental consent has been obtained for publication of these photographs). Anal atresia and hypoplastic labia are not shown. (g,h) X-ray films of the feet of case 2 showing only four rays on the left and delta-shaped 4th and 5th metatarsals on the right (h; compare to clinical picture in d). (i) Array-CGH data. Log2 ratio represents copy number loss of six probes spanning between 37.9 and 50.7 kb, with one probe positioned within FAM58A. The deletion does not remove parts of other functional genes. (j) Schematic structure of FAM58A and position of the mutations. FAM58A has five coding exons (boxes). The cyclin domain (green) is encoded by exons 2â€“4. The horizontal arrow indicates the deletion extending 5' in case 1, which includes exons 1 and 2, whereas the horizontal line below exon 5 indicates the deletion found in case 3, which removes exon 5 and some 3' sequence. The pink horizontal bars above the boxes indicate the amplicons used for qPCR and sequencing (one alternative exon 5 amplicon is not indicated because of space constraints). The mutation 201dupT (case 4) results in an immediate stop codon, and the 555+1G>A and 555-1G>A splice mutations in cases 2, 5 and 6 are predicted to be deleterious because they alter the conserved splice donor and acceptor site of intron 4, respectively.  Full size image (97 KB)  Table 1: Clinical features in STAR syndrome cases  Table 1 - Clinical features in STAR syndrome cases  Full table  On the basis of the phenotypic overlap with Townes-Brocks, Okihiro and Feingold syndromes, we analyzed SALL1 (ref. 2), SALL4 (ref. 3) and MYCN4 but found no mutations in any of these genes (Supplementary Methods online). Next, we carried out genome-wide high-resolution oligonucleotide array comparative genomic hybridization (CGH)5 analysis (Supplementary Methods) of genomic DNA from the most severely affected individual (case 1, with lower lid coloboma, epilepsy and syringomyelia) and identified a heterozygous deletion of 37.9â€“50.7 kb on Xq28, which removed exons 1 and 2 of FAM58A (Fig. 1i,j). Using real-time PCR, we confirmed the deletion in the child and excluded it in her unaffected parents (Supplementary Fig. 1a online, Supplementary Methods and Supplementary Table 1 online). Through CGH with a customized oligonucleotide array enriched in probes for Xq28, followed by breakpoint cloning, we defined the exact deletion size as 40,068 bp (g.152,514,164_152,554,231del(chromosome X, NCBI Build 36.2); Fig. 1j and Supplementary Figs. 2,3 online). The deletion removes the coding regions of exons 1 and 2 as well as intron 1 (2,774 bp), 492 bp of intron 2, and 36,608 bp of 5' sequence, including the 5' UTR and the entire KRT18P48 pseudogene (NCBI gene ID 340598). Paternity was proven using routine methods. We did not find deletions overlapping FAM58A in the available copy number variation (CNV) databases.  Subsequently, we carried out qPCR analysis of the three other affected individuals (cases 2, 3 and 4) and the mother-daughter pair from the literature (cases 5 and 6). In case 3, we detected a de novo heterozygous deletion of 1.1â€“10.3 kb overlapping exon 5 (Supplementary Fig. 1b online). Using Xq28-targeted array CGH and breakpoint cloning, we identified a deletion of 4,249 bp (g.152,504,123_152,508,371del(chromosome X, NCBI Build 36.2); Fig. 1j and Supplementary Figs. 2,3), which removed 1,265 bp of intron 4, all of exon 5, including the 3' UTR, and 2,454 bp of 3' sequence.  We found heterozygous FAM58A point mutations in the remaining cases (Fig. 1j, Supplementary Fig. 2, Supplementary Methods and Supplementary Table 1). In case 2, we identified the mutation 555+1G>A, affecting the splice donor site of intron 4. In case 4, we identified the frameshift mutation 201dupT, which immediately results in a premature stop codon N68XfsX1. In cases 5 and 6, we detected the mutation 556-1G>A, which alters the splice acceptor site of intron 4. We validated the point mutations and deletions by independent rounds of PCR and sequencing or by qPCR. We confirmed paternity and de novo status of the point mutations and deletions in all sporadic cases. None of the mutations were seen in the DNA of 60 unaffected female controls, and no larger deletions involving FAM58A were found in 93 unrelated array-CGH investigations.  By analyzing X-chromosome inactivation (Supplementary Methods and Supplementary Fig. 4 online), we found complete skewing of X inactivation in cases 1 and 3â€“6 and almost complete skewing in case 2, suggesting that cells carrying the mutation on the active X chromosome have a growth disadvantage during fetal development. Using RT-PCR on RNA from lymphoblastoid cells of case 2 (Supplementary Fig. 2), we did not find any aberrant splice products as additional evidence that the mutated allele is inactivated. Furthermore, FAM58A is subjected to X inactivation6. In cases 1 and 3, the parental origin of the deletions could not be determined, as a result of lack of informative SNPs. Case 5, the mother of case 6, gave birth to two boys, both clinically unaffected (samples not available). We cannot exclude that the condition is lethal in males. No fetal losses were reported from any of the families.  The function of FAM58A is unknown. The gene consists of five coding exons, and the 642-bp coding region encodes a protein of 214 amino acids. GenBank lists a mRNA length of 1,257 bp for the reference sequence (NM_152274.2). Expression of the gene (by EST data) was found in 27 of 48 adult tissues including kidney, colon, cervix and uterus, but not heart (NCBI expression viewer, UniGene Hs.496943). Expression was also noted in 24 of 26 listed tumor tissues as well as in embryo and fetus. Genes homologous to FAM58A (NCBI HomoloGene: 13362) are found on the X chromosome in the chimpanzee and the dog. The zebrafish has a similar gene on chromosome 23. However, in the mouse and rat, there are no true homologs. These species have similar but intronless genes on chromosomes 11 (mouse) and 10 (rat), most likely arising from a retrotransposon insertion event. On the murine X chromosome, the flanking genes Atp2b3 and Dusp9 are conserved, but only remnants of the FAM58A sequence can be detected.  FAM58A contains a cyclin-box-fold domain, a protein-binding domain found in cyclins with a role in cell cycle and transcription control. No human phenotype resulting from a cyclin gene mutation has yet been reported. Homozygous knockout mice for Ccnd1 (encoding cyclin D1) are viable but small and have reduced lifespan. They also have dystrophic changes of the retina, likely as a result of decreased cell proliferation and degeneration of photoreceptor cells during embryogenesis7, 8.  Cyclin D1 colocalizes with SALL4 in the nucleus, and both proteins cooperatively mediate transcriptional repression9. As the phenotype of our cases overlaps considerably with that of Townes-Brocks syndrome caused by SALL1 mutations1, we carried out co-immunoprecipitation to find out if SALL1 or SALL4 would interact with FAM58A in a manner similar to that observed for SALL4 and cyclin D1. We found that FAM58A interacts with SALL1 but not with SALL4 (Supplementary Fig. 5 online), supporting the hypothesis that FAM58A and SALL1 participate in the same developmental pathway.  How do FAM58A mutations lead to STAR syndrome? Growth retardation (all cases; Table 1) and retinal abnormalities (three cases) are reminiscent of the reduced body size and retinal anomalies in cyclin D1 knockout mice7, 8. Therefore, a proliferation defect might be partly responsible for STAR syndrome. To address this question, we carried out a knockdown of FAM58A mRNA followed by a proliferation assay. Transfection of HEK293 cells with three different FAM58A-specific RNAi oligonucleotides resulted in a significant reduction of both FAM58A mRNA expression and proliferation of transfected cells (Supplementary Methods and Supplementary Fig. 6 online), supporting the link between FAM58A and cell proliferation.  We found that loss-of-function mutations of FAM58A result in a rather homogeneous clinical phenotype. The additional anomalies in case 1 are likely to result from an effect of the 40-kb deletion on expression of a neighboring gene, possibly ATP2B3 or DUSP9. However, we cannot exclude that the homogeneous phenotype results from an ascertainment bias and that FAM58A mutations, including missense changes, could result in a broader spectrum of malformations. The genes causing the overlapping phenotypes of STAR syndrome and Townes-Brocks syndrome seem to act in the same pathway. Of note, MYCN, a gene mutated in Feingold syndrome, is a direct regulator of cyclin D2 (refs. 10,11); thus, it is worth exploring whether the phenotypic similarities between Feingold and STAR syndrome might be explained by direct regulation of FAM58A by MYCN.  FAM58A is located approximately 0.56 Mb centromeric to MECP2 on Xq28. Duplications overlapping both MECP2 and FAM58A have been described and are not associated with a clinical phenotype in females12, but no deletions overlapping both MECP2 and FAM58A have been observed to date13. Although other genes between FAM58A and MECP2 have been implicated in brain development, FAM58A and MECP2 are the only genes in this region known to result in X-linked dominant phenotypes; thus, deletion of both genes on the same allele might be lethal in both males and females.\""
      ]
     },
     "execution_count": 6,
     "metadata": {},
     "output_type": "execute_result"
    }
   ],
   "source": [
    "train_text_df['Text'][0]"
   ]
  },
  {
   "cell_type": "markdown",
   "metadata": {},
   "source": [
    "Seems like a paper or conference proceeding"
   ]
  },
  {
   "cell_type": "markdown",
   "metadata": {},
   "source": [
    "## Distributions"
   ]
  },
  {
   "cell_type": "code",
   "execution_count": 7,
   "metadata": {},
   "outputs": [
    {
     "data": {
      "image/png": "[encoded data removed]",
      "text/plain": [
       "<Figure size 864x576 with 1 Axes>"
      ]
     },
     "metadata": {
      "needs_background": "light"
     },
     "output_type": "display_data"
    }
   ],
   "source": [
    "plt.figure(figsize=(12,8))\n",
    "#sns.countplot(x=\"Class\", data=train_variants_df)\n",
    "train_variants_df.Class.value_counts().plot(kind='bar')\n",
    "plt.ylabel('Frequency', fontsize=12)\n",
    "plt.xlabel('Class number', fontsize=12)\n",
    "plt.xticks(rotation='vertical')\n",
    "plt.title(\"Frequency of Classes\", fontsize=15)\n",
    "plt.show()"
   ]
  },
  {
   "cell_type": "markdown",
   "metadata": {},
   "source": [
    "Some classes are much more rare than others"
   ]
  },
  {
   "cell_type": "code",
   "execution_count": 8,
   "metadata": {},
   "outputs": [
    {
     "data": {
      "image/png": "[encoded data removed]",
      "text/plain": [
       "<Figure size 864x576 with 1 Axes>"
      ]
     },
     "metadata": {
      "needs_background": "light"
     },
     "output_type": "display_data"
    }
   ],
   "source": [
    "plt.figure(figsize=(12,8))\n",
    "#sns.countplot(x=\"Class\", data=train_variants_df)\n",
    "train_variants_df.Gene.value_counts().plot(kind='bar')\n",
    "plt.ylabel('Frequency', fontsize=12)\n",
    "plt.xlabel('Gene name', fontsize=12)\n",
    "plt.xticks(rotation='vertical')\n",
    "plt.title(\"Frequency of Genes\", fontsize=15)\n",
    "plt.show()"
   ]
  },
  {
   "cell_type": "markdown",
   "metadata": {},
   "source": [
    "Seems like some genes are much more prone to mutation than others. Which genes are these?"
   ]
  },
  {
   "cell_type": "code",
   "execution_count": 9,
   "metadata": {
    "scrolled": true
   },
   "outputs": [
    {
     "data": {
      "text/plain": [
       "BRCA1     264\n",
       "TP53      163\n",
       "EGFR      141\n",
       "PTEN      126\n",
       "BRCA2     125\n",
       "KIT        99\n",
       "BRAF       93\n",
       "ERBB2      69\n",
       "ALK        69\n",
       "PDGFRA     60\n",
       "PIK3CA     56\n",
       "CDKN2A     52\n",
       "FGFR2      50\n",
       "FLT3       49\n",
       "TSC2       47\n",
       "MTOR       45\n",
       "KRAS       44\n",
       "MAP2K1     43\n",
       "VHL        41\n",
       "RET        40\n",
       "Name: Gene, dtype: int64"
      ]
     },
     "execution_count": 9,
     "metadata": {},
     "output_type": "execute_result"
    }
   ],
   "source": [
    "geneCounts = train_variants_df.Gene.value_counts()\n",
    "geneCounts.nlargest(20)"
   ]
  },
  {
   "cell_type": "markdown",
   "metadata": {},
   "source": [
    "Are genes and classes correlated?"
   ]
  },
  {
   "cell_type": "code",
   "execution_count": 17,
   "metadata": {},
   "outputs": [
    {
     "data": {
      "image/png": "[encoded data removed]",
      "text/plain": [
       "<Figure size 720x720 with 4 Axes>"
      ]
     },
     "metadata": {
      "needs_background": "light"
     },
     "output_type": "display_data"
    }
   ],
   "source": [
    "f,axs = plt.subplots(2,2, figsize = (10,10))\n",
    "f.suptitle(\"Distribution of frequency occuring genes into various classes\", fontsize=20)\n",
    "\n",
    "train_variants_df.loc[train_variants_df['Gene'] =='BRCA1'].Class.value_counts().plot(kind='bar',ax=axs[0,0])\n",
    "axs[0,0].set_title('BRCA1',fontsize=20)\n",
    "train_variants_df.loc[train_variants_df['Gene'] =='TP53'].Class.value_counts().plot(kind='bar',ax=axs[0,1])\n",
    "axs[0,1].set_title('TP53',fontsize=20)\n",
    "train_variants_df.loc[train_variants_df['Gene'] =='EGFR'].Class.value_counts().plot(kind='bar',ax=axs[1,0])\n",
    "axs[1,0].set_title('EGFR',fontsize=20)\n",
    "train_variants_df.loc[train_variants_df['Gene'] =='PTEN'].Class.value_counts().plot(kind='bar',ax=axs[1,1])\n",
    "axs[1,1].set_title('PTEN',fontsize=20)\n",
    "plt.xlabel('Class', fontsize=16)\n",
    "plt.ylabel('Count', fontsize=16)\n",
    "plt.show()"
   ]
  },
  {
   "cell_type": "markdown",
   "metadata": {},
   "source": [
    "It seems like the gene itself has some predictive power on the class in which it belongs. Now let's look at the variation types."
   ]
  },
  {
   "cell_type": "code",
   "execution_count": 11,
   "metadata": {},
   "outputs": [
    {
     "data": {
      "text/plain": [
       "Truncating Mutations    93\n",
       "Deletion                74\n",
       "Amplification           71\n",
       "Fusions                 34\n",
       "Overexpression           6\n",
       "G12V                     4\n",
       "T58I                     3\n",
       "Q61R                     3\n",
       "Q61L                     3\n",
       "Q61H                     3\n",
       "E17K                     3\n",
       "G12A                     2\n",
       "A146V                    2\n",
       "G12C                     2\n",
       "Y64A                     2\n",
       "R841K                    2\n",
       "G13V                     2\n",
       "G13C                     2\n",
       "Q209L                    2\n",
       "TMPRSS2-ETV1 Fusion      2\n",
       "Name: Variation, dtype: int64"
      ]
     },
     "execution_count": 11,
     "metadata": {},
     "output_type": "execute_result"
    }
   ],
   "source": [
    "variationCounts = train_variants_df.Variation.value_counts()\n",
    "variationCounts.nlargest(20)"
   ]
  },
  {
   "cell_type": "markdown",
   "metadata": {},
   "source": [
    "Most mutations are protein-swaps. Does variation correlate wtih class?"
   ]
  },
  {
   "cell_type": "code",
   "execution_count": 12,
   "metadata": {
    "scrolled": true
   },
   "outputs": [],
   "source": [
    "# replace X123X variation types with \"protein swap\" and look at distribution of classes for each variation\n",
    "\n",
    "mutationTypes = {'Truncating Mutations','Deletion','Amplification','Fusions','Overexpression','Amino Acid Swap'}\n",
    "\n",
    "# copy the variation column\n",
    "train_variants_df['Variation_Alt'] = train_variants_df['Variation']\n",
    "\n",
    "# replace values\n",
    "train_variants_df['Variation_Alt'] = np.where(train_variants_df['Variation_Alt'].isin(mutationTypes), train_variants_df['Variation_Alt'], 'Amino Acid Swap')\n"
   ]
  },
  {
   "cell_type": "code",
   "execution_count": 13,
   "metadata": {},
   "outputs": [
    {
     "data": {
      "text/plain": [
       "0       Truncating Mutations\n",
       "1            Amino Acid Swap\n",
       "2            Amino Acid Swap\n",
       "3            Amino Acid Swap\n",
       "4            Amino Acid Swap\n",
       "                ...         \n",
       "3316         Amino Acid Swap\n",
       "3317         Amino Acid Swap\n",
       "3318                 Fusions\n",
       "3319         Amino Acid Swap\n",
       "3320         Amino Acid Swap\n",
       "Name: Variation_Alt, Length: 3321, dtype: object"
      ]
     },
     "execution_count": 13,
     "metadata": {},
     "output_type": "execute_result"
    }
   ],
   "source": [
    "train_variants_df['Variation_Alt']"
   ]
  },
  {
   "cell_type": "code",
   "execution_count": 14,
   "metadata": {
    "scrolled": false
   },
   "outputs": [
    {
     "data": {
      "image/png": "[encoded data removed]",
      "text/plain": [
       "<Figure size 2160x1440 with 6 Axes>"
      ]
     },
     "metadata": {
      "needs_background": "light"
     },
     "output_type": "display_data"
    }
   ],
   "source": [
    "g = sns.catplot(x='Class',data=train_variants_df[['Variation_Alt','Class']],col='Variation_Alt',kind='count',col_wrap=3,\n",
    "           height = 10,sharey=False,sharex=False)\n",
    "g.set_yticklabels(size = 25)\n",
    "g.set_xticklabels(size = 25)\n",
    "g.set_ylabels(size = 25)\n",
    "g.set_xlabels(size = 25)\n",
    "g.set_titles(size = 30)\n",
    "\n",
    "plt.show()"
   ]
  },
  {
   "cell_type": "markdown",
   "metadata": {},
   "source": [
    "Seems like the variation type also has some predictive power!"
   ]
  },
  {
   "cell_type": "markdown",
   "metadata": {},
   "source": [
    "# Interim Summary\n",
    "Based on their distributions, these variables seem to have some predictive power for the class which a mutation belongs:\n",
    "* Variation type\n",
    "* Gene that was mutated\n",
    "\n",
    "Some other interesting things we saw:\n",
    "* Seems like some genes are much more prone to mutation than others\n",
    "* Some classes occur more often than others\n"
   ]
  },
  {
   "cell_type": "markdown",
   "metadata": {},
   "source": [
    "## Now let's take a look at the text data"
   ]
  },
  {
   "cell_type": "code",
   "execution_count": 34,
   "metadata": {},
   "outputs": [],
   "source": [
    "# add information about word count and character count\n",
    "train_text_df[\"num_words\"] = train_text_df[\"Text\"].apply(lambda x: len(str(x).split()) )\n",
    "train_text_df[\"num_chars\"] = train_text_df[\"Text\"].apply(lambda x: len(str(x)) )\n",
    "\n",
    "test_text_df[\"num_words\"] = test_text_df[\"Text\"].apply(lambda x: len(str(x).split()) )\n",
    "test_text_df[\"num_chars\"] = test_text_df[\"Text\"].apply(lambda x: len(str(x)) )"
   ]
  },
  {
   "cell_type": "code",
   "execution_count": 35,
   "metadata": {
    "scrolled": true
   },
   "outputs": [
    {
     "data": {
      "image/png": "[encoded data removed]",
      "text/plain": [
       "<Figure size 864x576 with 1 Axes>"
      ]
     },
     "metadata": {
      "needs_background": "light"
     },
     "output_type": "display_data"
    }
   ],
   "source": [
    "plt.figure(figsize=(12, 8))\n",
    "sns.distplot(train_text_df.num_words.values, bins=50, kde=False, color='red')\n",
    "plt.xlabel('Number of words in text', fontsize=12)\n",
    "plt.ylabel('Count', fontsize=12)\n",
    "plt.title(\"Frequency of number of words\", fontsize=15)\n",
    "plt.show()"
   ]
  },
  {
   "cell_type": "code",
   "execution_count": 36,
   "metadata": {},
   "outputs": [
    {
     "data": {
      "text/plain": [
       "count     3321.000000\n",
       "mean      9542.505872\n",
       "std       7845.251814\n",
       "min          1.000000\n",
       "25%       4733.000000\n",
       "50%       6871.000000\n",
       "75%      11996.000000\n",
       "max      76708.000000\n",
       "Name: num_words, dtype: float64"
      ]
     },
     "execution_count": 36,
     "metadata": {},
     "output_type": "execute_result"
    }
   ],
   "source": [
    "train_text_df.num_words.describe()"
   ]
  },
  {
   "cell_type": "markdown",
   "metadata": {},
   "source": [
    "While it is interesting that some mutations have a longer text description than others, intuition tells me what it wouldn't make sense for the description length to have predictive power. Notice that the mean word count is 1; let's check if there are any entries with empty text descriptors."
   ]
  },
  {
   "cell_type": "code",
   "execution_count": 37,
   "metadata": {
    "scrolled": false
   },
   "outputs": [
    {
     "data": {
      "text/html": [
       "<div>\n",
       "<style scoped>\n",
       "    .dataframe tbody tr th:only-of-type {\n",
       "        vertical-align: middle;\n",
       "    }\n",
       "\n",
       "    .dataframe tbody tr th {\n",
       "        vertical-align: top;\n",
       "    }\n",
       "\n",
       "    .dataframe thead th {\n",
       "        text-align: right;\n",
       "    }\n",
       "</style>\n",
       "<table border=\"1\" class=\"dataframe\">\n",
       "  <thead>\n",
       "    <tr style=\"text-align: right;\">\n",
       "      <th></th>\n",
       "      <th>ID</th>\n",
       "      <th>Text</th>\n",
       "      <th>num_words</th>\n",
       "      <th>num_chars</th>\n",
       "    </tr>\n",
       "  </thead>\n",
       "  <tbody>\n",
       "    <tr>\n",
       "      <th>1109</th>\n",
       "      <td>1109</td>\n",
       "      <td>NaN</td>\n",
       "      <td>1</td>\n",
       "      <td>3</td>\n",
       "    </tr>\n",
       "    <tr>\n",
       "      <th>1277</th>\n",
       "      <td>1277</td>\n",
       "      <td>NaN</td>\n",
       "      <td>1</td>\n",
       "      <td>3</td>\n",
       "    </tr>\n",
       "    <tr>\n",
       "      <th>1407</th>\n",
       "      <td>1407</td>\n",
       "      <td>NaN</td>\n",
       "      <td>1</td>\n",
       "      <td>3</td>\n",
       "    </tr>\n",
       "    <tr>\n",
       "      <th>1639</th>\n",
       "      <td>1639</td>\n",
       "      <td>NaN</td>\n",
       "      <td>1</td>\n",
       "      <td>3</td>\n",
       "    </tr>\n",
       "    <tr>\n",
       "      <th>2755</th>\n",
       "      <td>2755</td>\n",
       "      <td>NaN</td>\n",
       "      <td>1</td>\n",
       "      <td>3</td>\n",
       "    </tr>\n",
       "  </tbody>\n",
       "</table>\n",
       "</div>"
      ],
      "text/plain": [
       "        ID Text  num_words  num_chars\n",
       "1109  1109  NaN          1          3\n",
       "1277  1277  NaN          1          3\n",
       "1407  1407  NaN          1          3\n",
       "1639  1639  NaN          1          3\n",
       "2755  2755  NaN          1          3"
      ]
     },
     "execution_count": 37,
     "metadata": {},
     "output_type": "execute_result"
    }
   ],
   "source": [
    "train_text_df[train_text_df[\"num_words\"]<5]"
   ]
  },
  {
   "cell_type": "markdown",
   "metadata": {},
   "source": [
    "This will give us trouble -  let's remove these entries. But first, we should combine the text dataframe with the variants dataframe."
   ]
  },
  {
   "cell_type": "markdown",
   "metadata": {},
   "source": [
    "## Combine text data w/ variation data"
   ]
  },
  {
   "cell_type": "code",
   "execution_count": 38,
   "metadata": {},
   "outputs": [],
   "source": [
    "# first merge dataframes\n",
    "train_df = train_variants_df.merge(train_text_df, how='inner', left_on='ID', right_on='ID')\n",
    "test_df = test_variants_df.merge(test_text_df, how='inner', left_on='ID', right_on='ID')"
   ]
  },
  {
   "cell_type": "code",
   "execution_count": 39,
   "metadata": {
    "scrolled": true
   },
   "outputs": [
    {
     "data": {
      "text/html": [
       "<div>\n",
       "<style scoped>\n",
       "    .dataframe tbody tr th:only-of-type {\n",
       "        vertical-align: middle;\n",
       "    }\n",
       "\n",
       "    .dataframe tbody tr th {\n",
       "        vertical-align: top;\n",
       "    }\n",
       "\n",
       "    .dataframe thead th {\n",
       "        text-align: right;\n",
       "    }\n",
       "</style>\n",
       "<table border=\"1\" class=\"dataframe\">\n",
       "  <thead>\n",
       "    <tr style=\"text-align: right;\">\n",
       "      <th></th>\n",
       "      <th>ID</th>\n",
       "      <th>Gene</th>\n",
       "      <th>Variation</th>\n",
       "      <th>Class</th>\n",
       "      <th>Variation_Alt</th>\n",
       "      <th>Text</th>\n",
       "      <th>num_words</th>\n",
       "      <th>num_chars</th>\n",
       "    </tr>\n",
       "  </thead>\n",
       "  <tbody>\n",
       "    <tr>\n",
       "      <th>140</th>\n",
       "      <td>140</td>\n",
       "      <td>EGFR</td>\n",
       "      <td>I491M</td>\n",
       "      <td>5</td>\n",
       "      <td>Amino Acid Swap</td>\n",
       "      <td>The accurate determination of perfluoroalkyl s...</td>\n",
       "      <td>430</td>\n",
       "      <td>2925</td>\n",
       "    </tr>\n",
       "    <tr>\n",
       "      <th>145</th>\n",
       "      <td>145</td>\n",
       "      <td>EGFR</td>\n",
       "      <td>K467T</td>\n",
       "      <td>2</td>\n",
       "      <td>Amino Acid Swap</td>\n",
       "      <td>The accurate determination of perfluoroalkyl s...</td>\n",
       "      <td>430</td>\n",
       "      <td>2925</td>\n",
       "    </tr>\n",
       "    <tr>\n",
       "      <th>259</th>\n",
       "      <td>259</td>\n",
       "      <td>EGFR</td>\n",
       "      <td>S464L</td>\n",
       "      <td>2</td>\n",
       "      <td>Amino Acid Swap</td>\n",
       "      <td>The accurate determination of perfluoroalkyl s...</td>\n",
       "      <td>430</td>\n",
       "      <td>2925</td>\n",
       "    </tr>\n",
       "    <tr>\n",
       "      <th>344</th>\n",
       "      <td>344</td>\n",
       "      <td>CDH1</td>\n",
       "      <td>A617T</td>\n",
       "      <td>4</td>\n",
       "      <td>Amino Acid Swap</td>\n",
       "      <td>E-cadherin is involved in the formation of cel...</td>\n",
       "      <td>187</td>\n",
       "      <td>1315</td>\n",
       "    </tr>\n",
       "    <tr>\n",
       "      <th>346</th>\n",
       "      <td>346</td>\n",
       "      <td>CDH1</td>\n",
       "      <td>A634V</td>\n",
       "      <td>4</td>\n",
       "      <td>Amino Acid Swap</td>\n",
       "      <td>E-cadherin is involved in the formation of cel...</td>\n",
       "      <td>187</td>\n",
       "      <td>1315</td>\n",
       "    </tr>\n",
       "    <tr>\n",
       "      <th>348</th>\n",
       "      <td>348</td>\n",
       "      <td>CDH1</td>\n",
       "      <td>T340A</td>\n",
       "      <td>4</td>\n",
       "      <td>Amino Acid Swap</td>\n",
       "      <td>E-cadherin is involved in the formation of cel...</td>\n",
       "      <td>187</td>\n",
       "      <td>1315</td>\n",
       "    </tr>\n",
       "    <tr>\n",
       "      <th>648</th>\n",
       "      <td>648</td>\n",
       "      <td>CDKN2A</td>\n",
       "      <td>Q50*</td>\n",
       "      <td>4</td>\n",
       "      <td>Amino Acid Swap</td>\n",
       "      <td>The p16 gene is located in chromosome 9p21, a ...</td>\n",
       "      <td>103</td>\n",
       "      <td>706</td>\n",
       "    </tr>\n",
       "    <tr>\n",
       "      <th>688</th>\n",
       "      <td>688</td>\n",
       "      <td>CDKN2A</td>\n",
       "      <td>R79P</td>\n",
       "      <td>4</td>\n",
       "      <td>Amino Acid Swap</td>\n",
       "      <td>Cell division is controlled by a series of pos...</td>\n",
       "      <td>228</td>\n",
       "      <td>1540</td>\n",
       "    </tr>\n",
       "    <tr>\n",
       "      <th>692</th>\n",
       "      <td>692</td>\n",
       "      <td>CDKN2A</td>\n",
       "      <td>G93W</td>\n",
       "      <td>4</td>\n",
       "      <td>Amino Acid Swap</td>\n",
       "      <td>Cell division is controlled by a series of pos...</td>\n",
       "      <td>228</td>\n",
       "      <td>1540</td>\n",
       "    </tr>\n",
       "    <tr>\n",
       "      <th>693</th>\n",
       "      <td>693</td>\n",
       "      <td>CDKN2A</td>\n",
       "      <td>V118D</td>\n",
       "      <td>4</td>\n",
       "      <td>Amino Acid Swap</td>\n",
       "      <td>Cell division is controlled by a series of pos...</td>\n",
       "      <td>228</td>\n",
       "      <td>1540</td>\n",
       "    </tr>\n",
       "    <tr>\n",
       "      <th>868</th>\n",
       "      <td>868</td>\n",
       "      <td>HLA-A</td>\n",
       "      <td>596_619splice</td>\n",
       "      <td>1</td>\n",
       "      <td>Amino Acid Swap</td>\n",
       "      <td>A new variant of the HLA-A*010101 allele desig...</td>\n",
       "      <td>184</td>\n",
       "      <td>1219</td>\n",
       "    </tr>\n",
       "    <tr>\n",
       "      <th>941</th>\n",
       "      <td>941</td>\n",
       "      <td>PDGFRB</td>\n",
       "      <td>ATF7IP-PDGFRB Fusion</td>\n",
       "      <td>2</td>\n",
       "      <td>Amino Acid Swap</td>\n",
       "      <td>Chronic myelomonocytic leukemia (CMML) is a my...</td>\n",
       "      <td>116</td>\n",
       "      <td>776</td>\n",
       "    </tr>\n",
       "    <tr>\n",
       "      <th>1057</th>\n",
       "      <td>1057</td>\n",
       "      <td>EWSR1</td>\n",
       "      <td>EWSR1-FEV Fusion</td>\n",
       "      <td>2</td>\n",
       "      <td>Amino Acid Swap</td>\n",
       "      <td>As a result of chromosome translocations, the ...</td>\n",
       "      <td>207</td>\n",
       "      <td>1215</td>\n",
       "    </tr>\n",
       "    <tr>\n",
       "      <th>1109</th>\n",
       "      <td>1109</td>\n",
       "      <td>FANCA</td>\n",
       "      <td>S1088F</td>\n",
       "      <td>1</td>\n",
       "      <td>Amino Acid Swap</td>\n",
       "      <td>NaN</td>\n",
       "      <td>1</td>\n",
       "      <td>3</td>\n",
       "    </tr>\n",
       "    <tr>\n",
       "      <th>1154</th>\n",
       "      <td>1154</td>\n",
       "      <td>KMT2C</td>\n",
       "      <td>S3660L</td>\n",
       "      <td>5</td>\n",
       "      <td>Amino Acid Swap</td>\n",
       "      <td>Several studies indicated that the expression ...</td>\n",
       "      <td>341</td>\n",
       "      <td>2176</td>\n",
       "    </tr>\n",
       "    <tr>\n",
       "      <th>1277</th>\n",
       "      <td>1277</td>\n",
       "      <td>ARID5B</td>\n",
       "      <td>Truncating Mutations</td>\n",
       "      <td>1</td>\n",
       "      <td>Truncating Mutations</td>\n",
       "      <td>NaN</td>\n",
       "      <td>1</td>\n",
       "      <td>3</td>\n",
       "    </tr>\n",
       "    <tr>\n",
       "      <th>1286</th>\n",
       "      <td>1286</td>\n",
       "      <td>HRAS</td>\n",
       "      <td>A146V</td>\n",
       "      <td>2</td>\n",
       "      <td>Amino Acid Swap</td>\n",
       "      <td>Costello syndrome is a rare congenital disorde...</td>\n",
       "      <td>244</td>\n",
       "      <td>1692</td>\n",
       "    </tr>\n",
       "    <tr>\n",
       "      <th>1290</th>\n",
       "      <td>1290</td>\n",
       "      <td>HRAS</td>\n",
       "      <td>T58I</td>\n",
       "      <td>2</td>\n",
       "      <td>Amino Acid Swap</td>\n",
       "      <td>We report a 10-year-old girl presenting with s...</td>\n",
       "      <td>231</td>\n",
       "      <td>1668</td>\n",
       "    </tr>\n",
       "    <tr>\n",
       "      <th>1368</th>\n",
       "      <td>1368</td>\n",
       "      <td>AKT2</td>\n",
       "      <td>D32H</td>\n",
       "      <td>7</td>\n",
       "      <td>Amino Acid Swap</td>\n",
       "      <td>The activating E17K mutations recently discove...</td>\n",
       "      <td>448</td>\n",
       "      <td>2864</td>\n",
       "    </tr>\n",
       "    <tr>\n",
       "      <th>1378</th>\n",
       "      <td>1378</td>\n",
       "      <td>AKT2</td>\n",
       "      <td>D399N</td>\n",
       "      <td>7</td>\n",
       "      <td>Amino Acid Swap</td>\n",
       "      <td>The activating E17K mutations recently discove...</td>\n",
       "      <td>448</td>\n",
       "      <td>2864</td>\n",
       "    </tr>\n",
       "    <tr>\n",
       "      <th>1407</th>\n",
       "      <td>1407</td>\n",
       "      <td>FGFR3</td>\n",
       "      <td>K508M</td>\n",
       "      <td>6</td>\n",
       "      <td>Amino Acid Swap</td>\n",
       "      <td>NaN</td>\n",
       "      <td>1</td>\n",
       "      <td>3</td>\n",
       "    </tr>\n",
       "    <tr>\n",
       "      <th>1583</th>\n",
       "      <td>1583</td>\n",
       "      <td>PMS1</td>\n",
       "      <td>Q233*</td>\n",
       "      <td>4</td>\n",
       "      <td>Amino Acid Swap</td>\n",
       "      <td>HEREDITARY nonpolyposis colorectal cancer (HNP...</td>\n",
       "      <td>114</td>\n",
       "      <td>742</td>\n",
       "    </tr>\n",
       "    <tr>\n",
       "      <th>1613</th>\n",
       "      <td>1613</td>\n",
       "      <td>VHL</td>\n",
       "      <td>L158Q</td>\n",
       "      <td>4</td>\n",
       "      <td>Amino Acid Swap</td>\n",
       "      <td>The case of a 40-year-old woman with severe ed...</td>\n",
       "      <td>53</td>\n",
       "      <td>337</td>\n",
       "    </tr>\n",
       "    <tr>\n",
       "      <th>1620</th>\n",
       "      <td>1620</td>\n",
       "      <td>VHL</td>\n",
       "      <td>P25L</td>\n",
       "      <td>5</td>\n",
       "      <td>Amino Acid Swap</td>\n",
       "      <td>Background: von Hippel-Lindau (VHL) disease is...</td>\n",
       "      <td>431</td>\n",
       "      <td>2643</td>\n",
       "    </tr>\n",
       "    <tr>\n",
       "      <th>1639</th>\n",
       "      <td>1639</td>\n",
       "      <td>FLT1</td>\n",
       "      <td>Amplification</td>\n",
       "      <td>6</td>\n",
       "      <td>Amplification</td>\n",
       "      <td>NaN</td>\n",
       "      <td>1</td>\n",
       "      <td>3</td>\n",
       "    </tr>\n",
       "    <tr>\n",
       "      <th>2146</th>\n",
       "      <td>2146</td>\n",
       "      <td>PTCH1</td>\n",
       "      <td>Truncating Mutations</td>\n",
       "      <td>1</td>\n",
       "      <td>Truncating Mutations</td>\n",
       "      <td>Basal cell carcinoma (BCC) is the most common ...</td>\n",
       "      <td>212</td>\n",
       "      <td>1407</td>\n",
       "    </tr>\n",
       "    <tr>\n",
       "      <th>2504</th>\n",
       "      <td>2504</td>\n",
       "      <td>BRCA1</td>\n",
       "      <td>V11A</td>\n",
       "      <td>6</td>\n",
       "      <td>Amino Acid Swap</td>\n",
       "      <td>Identification of protein-protein interaction...</td>\n",
       "      <td>230</td>\n",
       "      <td>1632</td>\n",
       "    </tr>\n",
       "    <tr>\n",
       "      <th>2755</th>\n",
       "      <td>2755</td>\n",
       "      <td>BRAF</td>\n",
       "      <td>G596C</td>\n",
       "      <td>7</td>\n",
       "      <td>Amino Acid Swap</td>\n",
       "      <td>NaN</td>\n",
       "      <td>1</td>\n",
       "      <td>3</td>\n",
       "    </tr>\n",
       "    <tr>\n",
       "      <th>2900</th>\n",
       "      <td>2900</td>\n",
       "      <td>NF2</td>\n",
       "      <td>E106G</td>\n",
       "      <td>1</td>\n",
       "      <td>Amino Acid Swap</td>\n",
       "      <td>Neurofibromatosis 2 (NF2) is a tumor predispos...</td>\n",
       "      <td>183</td>\n",
       "      <td>1219</td>\n",
       "    </tr>\n",
       "    <tr>\n",
       "      <th>2906</th>\n",
       "      <td>2906</td>\n",
       "      <td>NF2</td>\n",
       "      <td>Q538P</td>\n",
       "      <td>1</td>\n",
       "      <td>Amino Acid Swap</td>\n",
       "      <td>Neurofibromatosis 2 (NF2) is a tumor predispos...</td>\n",
       "      <td>183</td>\n",
       "      <td>1219</td>\n",
       "    </tr>\n",
       "    <tr>\n",
       "      <th>2908</th>\n",
       "      <td>2908</td>\n",
       "      <td>NF2</td>\n",
       "      <td>Q324L</td>\n",
       "      <td>5</td>\n",
       "      <td>Amino Acid Swap</td>\n",
       "      <td>Neurofibromatosis 2 (NF2) is a tumor predispos...</td>\n",
       "      <td>183</td>\n",
       "      <td>1219</td>\n",
       "    </tr>\n",
       "    <tr>\n",
       "      <th>2980</th>\n",
       "      <td>2980</td>\n",
       "      <td>KIT</td>\n",
       "      <td>N655K</td>\n",
       "      <td>2</td>\n",
       "      <td>Amino Acid Swap</td>\n",
       "      <td>TO THE EDITOR: I commend Drs. Freeman and Bank...</td>\n",
       "      <td>362</td>\n",
       "      <td>2689</td>\n",
       "    </tr>\n",
       "  </tbody>\n",
       "</table>\n",
       "</div>"
      ],
      "text/plain": [
       "        ID    Gene             Variation  Class         Variation_Alt  \\\n",
       "140    140    EGFR                 I491M      5       Amino Acid Swap   \n",
       "145    145    EGFR                 K467T      2       Amino Acid Swap   \n",
       "259    259    EGFR                 S464L      2       Amino Acid Swap   \n",
       "344    344    CDH1                 A617T      4       Amino Acid Swap   \n",
       "346    346    CDH1                 A634V      4       Amino Acid Swap   \n",
       "348    348    CDH1                 T340A      4       Amino Acid Swap   \n",
       "648    648  CDKN2A                  Q50*      4       Amino Acid Swap   \n",
       "688    688  CDKN2A                  R79P      4       Amino Acid Swap   \n",
       "692    692  CDKN2A                  G93W      4       Amino Acid Swap   \n",
       "693    693  CDKN2A                 V118D      4       Amino Acid Swap   \n",
       "868    868   HLA-A         596_619splice      1       Amino Acid Swap   \n",
       "941    941  PDGFRB  ATF7IP-PDGFRB Fusion      2       Amino Acid Swap   \n",
       "1057  1057   EWSR1      EWSR1-FEV Fusion      2       Amino Acid Swap   \n",
       "1109  1109   FANCA                S1088F      1       Amino Acid Swap   \n",
       "1154  1154   KMT2C                S3660L      5       Amino Acid Swap   \n",
       "1277  1277  ARID5B  Truncating Mutations      1  Truncating Mutations   \n",
       "1286  1286    HRAS                 A146V      2       Amino Acid Swap   \n",
       "1290  1290    HRAS                  T58I      2       Amino Acid Swap   \n",
       "1368  1368    AKT2                  D32H      7       Amino Acid Swap   \n",
       "1378  1378    AKT2                 D399N      7       Amino Acid Swap   \n",
       "1407  1407   FGFR3                 K508M      6       Amino Acid Swap   \n",
       "1583  1583    PMS1                 Q233*      4       Amino Acid Swap   \n",
       "1613  1613     VHL                 L158Q      4       Amino Acid Swap   \n",
       "1620  1620     VHL                  P25L      5       Amino Acid Swap   \n",
       "1639  1639    FLT1         Amplification      6         Amplification   \n",
       "2146  2146   PTCH1  Truncating Mutations      1  Truncating Mutations   \n",
       "2504  2504   BRCA1                  V11A      6       Amino Acid Swap   \n",
       "2755  2755    BRAF                 G596C      7       Amino Acid Swap   \n",
       "2900  2900     NF2                 E106G      1       Amino Acid Swap   \n",
       "2906  2906     NF2                 Q538P      1       Amino Acid Swap   \n",
       "2908  2908     NF2                 Q324L      5       Amino Acid Swap   \n",
       "2980  2980     KIT                 N655K      2       Amino Acid Swap   \n",
       "\n",
       "                                                   Text  num_words  num_chars  \n",
       "140   The accurate determination of perfluoroalkyl s...        430       2925  \n",
       "145   The accurate determination of perfluoroalkyl s...        430       2925  \n",
       "259   The accurate determination of perfluoroalkyl s...        430       2925  \n",
       "344   E-cadherin is involved in the formation of cel...        187       1315  \n",
       "346   E-cadherin is involved in the formation of cel...        187       1315  \n",
       "348   E-cadherin is involved in the formation of cel...        187       1315  \n",
       "648   The p16 gene is located in chromosome 9p21, a ...        103        706  \n",
       "688   Cell division is controlled by a series of pos...        228       1540  \n",
       "692   Cell division is controlled by a series of pos...        228       1540  \n",
       "693   Cell division is controlled by a series of pos...        228       1540  \n",
       "868   A new variant of the HLA-A*010101 allele desig...        184       1219  \n",
       "941   Chronic myelomonocytic leukemia (CMML) is a my...        116        776  \n",
       "1057  As a result of chromosome translocations, the ...        207       1215  \n",
       "1109                                                NaN          1          3  \n",
       "1154  Several studies indicated that the expression ...        341       2176  \n",
       "1277                                                NaN          1          3  \n",
       "1286  Costello syndrome is a rare congenital disorde...        244       1692  \n",
       "1290  We report a 10-year-old girl presenting with s...        231       1668  \n",
       "1368  The activating E17K mutations recently discove...        448       2864  \n",
       "1378  The activating E17K mutations recently discove...        448       2864  \n",
       "1407                                                NaN          1          3  \n",
       "1583  HEREDITARY nonpolyposis colorectal cancer (HNP...        114        742  \n",
       "1613  The case of a 40-year-old woman with severe ed...         53        337  \n",
       "1620  Background: von Hippel-Lindau (VHL) disease is...        431       2643  \n",
       "1639                                                NaN          1          3  \n",
       "2146  Basal cell carcinoma (BCC) is the most common ...        212       1407  \n",
       "2504   Identification of protein-protein interaction...        230       1632  \n",
       "2755                                                NaN          1          3  \n",
       "2900  Neurofibromatosis 2 (NF2) is a tumor predispos...        183       1219  \n",
       "2906  Neurofibromatosis 2 (NF2) is a tumor predispos...        183       1219  \n",
       "2908  Neurofibromatosis 2 (NF2) is a tumor predispos...        183       1219  \n",
       "2980  TO THE EDITOR: I commend Drs. Freeman and Bank...        362       2689  "
      ]
     },
     "execution_count": 39,
     "metadata": {},
     "output_type": "execute_result"
    }
   ],
   "source": [
    "train_df[train_df[\"num_words\"]<500]\n"
   ]
  },
  {
   "cell_type": "code",
   "execution_count": 40,
   "metadata": {},
   "outputs": [
    {
     "data": {
      "text/plain": [
       "'Neurofibromatosis 2 (NF2) is a tumor predisposition syndrome in which affected individuals develop nervous system tumors at an increased frequency. The most common tumor in individuals with NF2 is the schwannoma, which is composed of neoplastic Schwann cells lacking NF2 gene expression. Moreover, inactivation of the NF2 gene is observed in nearly all sporadic schwannomas, suggesting that the NF2 gene is a critical growth regulator for Schwann cells. In an effort to gain insights into the function of the NF2 gene product, merlin or schwannomin, we performed a detailed functional analysis of eight naturally occurring non-conservative missense mutations in the NF2 gene. Using a regulatable expression system in rat schwannoma cells, we analyzed proliferation, actin cytoskeleton-mediated events and merlin folding. In this report, we demonstrate that mutations clustered in the predicted alpha-helical region did not impair the function of merlin whereas those in either the N- or C-terminus of the protein rendered merlin inactive as a negative growth regulator. These results suggest that the key functional domains of merlin lie within the highly conserved FERM domain and the unique C-terminus of the protein.'"
      ]
     },
     "execution_count": 40,
     "metadata": {},
     "output_type": "execute_result"
    }
   ],
   "source": [
    "train_df.iloc[2900].Text"
   ]
  },
  {
   "cell_type": "code",
   "execution_count": 41,
   "metadata": {},
   "outputs": [
    {
     "data": {
      "text/html": [
       "<div>\n",
       "<style scoped>\n",
       "    .dataframe tbody tr th:only-of-type {\n",
       "        vertical-align: middle;\n",
       "    }\n",
       "\n",
       "    .dataframe tbody tr th {\n",
       "        vertical-align: top;\n",
       "    }\n",
       "\n",
       "    .dataframe thead th {\n",
       "        text-align: right;\n",
       "    }\n",
       "</style>\n",
       "<table border=\"1\" class=\"dataframe\">\n",
       "  <thead>\n",
       "    <tr style=\"text-align: right;\">\n",
       "      <th></th>\n",
       "      <th>ID</th>\n",
       "      <th>Gene</th>\n",
       "      <th>Variation</th>\n",
       "      <th>Class</th>\n",
       "      <th>Variation_Alt</th>\n",
       "      <th>Text</th>\n",
       "      <th>num_words</th>\n",
       "      <th>num_chars</th>\n",
       "    </tr>\n",
       "  </thead>\n",
       "  <tbody>\n",
       "    <tr>\n",
       "      <th>2901</th>\n",
       "      <td>2901</td>\n",
       "      <td>NF2</td>\n",
       "      <td>K413E</td>\n",
       "      <td>6</td>\n",
       "      <td>Amino Acid Swap</td>\n",
       "      <td>Neurofibromatosis type 2 (NF2) is a multiple n...</td>\n",
       "      <td>3863</td>\n",
       "      <td>27293</td>\n",
       "    </tr>\n",
       "  </tbody>\n",
       "</table>\n",
       "</div>"
      ],
      "text/plain": [
       "        ID Gene Variation  Class    Variation_Alt  \\\n",
       "2901  2901  NF2     K413E      6  Amino Acid Swap   \n",
       "\n",
       "                                                   Text  num_words  num_chars  \n",
       "2901  Neurofibromatosis type 2 (NF2) is a multiple n...       3863      27293  "
      ]
     },
     "execution_count": 41,
     "metadata": {},
     "output_type": "execute_result"
    }
   ],
   "source": [
    "train_df[train_df['Variation'].str.match('K413E')]"
   ]
  },
  {
   "cell_type": "code",
   "execution_count": 54,
   "metadata": {
    "scrolled": true
   },
   "outputs": [
    {
     "name": "stdout",
     "output_type": "stream",
     "text": [
      "size after removing NaN is (3316, 8) (5667, 6)\n"
     ]
    },
    {
     "data": {
      "text/html": [
       "<div>\n",
       "<style scoped>\n",
       "    .dataframe tbody tr th:only-of-type {\n",
       "        vertical-align: middle;\n",
       "    }\n",
       "\n",
       "    .dataframe tbody tr th {\n",
       "        vertical-align: top;\n",
       "    }\n",
       "\n",
       "    .dataframe thead th {\n",
       "        text-align: right;\n",
       "    }\n",
       "</style>\n",
       "<table border=\"1\" class=\"dataframe\">\n",
       "  <thead>\n",
       "    <tr style=\"text-align: right;\">\n",
       "      <th></th>\n",
       "      <th>ID</th>\n",
       "      <th>Gene</th>\n",
       "      <th>Variation</th>\n",
       "      <th>Class</th>\n",
       "      <th>Variation_Alt</th>\n",
       "      <th>Text</th>\n",
       "      <th>num_words</th>\n",
       "      <th>num_chars</th>\n",
       "    </tr>\n",
       "  </thead>\n",
       "  <tbody>\n",
       "    <tr>\n",
       "      <th>140</th>\n",
       "      <td>140</td>\n",
       "      <td>EGFR</td>\n",
       "      <td>I491M</td>\n",
       "      <td>5</td>\n",
       "      <td>Amino Acid Swap</td>\n",
       "      <td>The accurate determination of perfluoroalkyl s...</td>\n",
       "      <td>430</td>\n",
       "      <td>2925</td>\n",
       "    </tr>\n",
       "    <tr>\n",
       "      <th>145</th>\n",
       "      <td>145</td>\n",
       "      <td>EGFR</td>\n",
       "      <td>K467T</td>\n",
       "      <td>2</td>\n",
       "      <td>Amino Acid Swap</td>\n",
       "      <td>The accurate determination of perfluoroalkyl s...</td>\n",
       "      <td>430</td>\n",
       "      <td>2925</td>\n",
       "    </tr>\n",
       "    <tr>\n",
       "      <th>259</th>\n",
       "      <td>259</td>\n",
       "      <td>EGFR</td>\n",
       "      <td>S464L</td>\n",
       "      <td>2</td>\n",
       "      <td>Amino Acid Swap</td>\n",
       "      <td>The accurate determination of perfluoroalkyl s...</td>\n",
       "      <td>430</td>\n",
       "      <td>2925</td>\n",
       "    </tr>\n",
       "    <tr>\n",
       "      <th>344</th>\n",
       "      <td>344</td>\n",
       "      <td>CDH1</td>\n",
       "      <td>A617T</td>\n",
       "      <td>4</td>\n",
       "      <td>Amino Acid Swap</td>\n",
       "      <td>E-cadherin is involved in the formation of cel...</td>\n",
       "      <td>187</td>\n",
       "      <td>1315</td>\n",
       "    </tr>\n",
       "    <tr>\n",
       "      <th>346</th>\n",
       "      <td>346</td>\n",
       "      <td>CDH1</td>\n",
       "      <td>A634V</td>\n",
       "      <td>4</td>\n",
       "      <td>Amino Acid Swap</td>\n",
       "      <td>E-cadherin is involved in the formation of cel...</td>\n",
       "      <td>187</td>\n",
       "      <td>1315</td>\n",
       "    </tr>\n",
       "    <tr>\n",
       "      <th>348</th>\n",
       "      <td>348</td>\n",
       "      <td>CDH1</td>\n",
       "      <td>T340A</td>\n",
       "      <td>4</td>\n",
       "      <td>Amino Acid Swap</td>\n",
       "      <td>E-cadherin is involved in the formation of cel...</td>\n",
       "      <td>187</td>\n",
       "      <td>1315</td>\n",
       "    </tr>\n",
       "    <tr>\n",
       "      <th>648</th>\n",
       "      <td>648</td>\n",
       "      <td>CDKN2A</td>\n",
       "      <td>Q50*</td>\n",
       "      <td>4</td>\n",
       "      <td>Amino Acid Swap</td>\n",
       "      <td>The p16 gene is located in chromosome 9p21, a ...</td>\n",
       "      <td>103</td>\n",
       "      <td>706</td>\n",
       "    </tr>\n",
       "    <tr>\n",
       "      <th>688</th>\n",
       "      <td>688</td>\n",
       "      <td>CDKN2A</td>\n",
       "      <td>R79P</td>\n",
       "      <td>4</td>\n",
       "      <td>Amino Acid Swap</td>\n",
       "      <td>Cell division is controlled by a series of pos...</td>\n",
       "      <td>228</td>\n",
       "      <td>1540</td>\n",
       "    </tr>\n",
       "    <tr>\n",
       "      <th>692</th>\n",
       "      <td>692</td>\n",
       "      <td>CDKN2A</td>\n",
       "      <td>G93W</td>\n",
       "      <td>4</td>\n",
       "      <td>Amino Acid Swap</td>\n",
       "      <td>Cell division is controlled by a series of pos...</td>\n",
       "      <td>228</td>\n",
       "      <td>1540</td>\n",
       "    </tr>\n",
       "    <tr>\n",
       "      <th>693</th>\n",
       "      <td>693</td>\n",
       "      <td>CDKN2A</td>\n",
       "      <td>V118D</td>\n",
       "      <td>4</td>\n",
       "      <td>Amino Acid Swap</td>\n",
       "      <td>Cell division is controlled by a series of pos...</td>\n",
       "      <td>228</td>\n",
       "      <td>1540</td>\n",
       "    </tr>\n",
       "    <tr>\n",
       "      <th>868</th>\n",
       "      <td>868</td>\n",
       "      <td>HLA-A</td>\n",
       "      <td>596_619splice</td>\n",
       "      <td>1</td>\n",
       "      <td>Amino Acid Swap</td>\n",
       "      <td>A new variant of the HLA-A*010101 allele desig...</td>\n",
       "      <td>184</td>\n",
       "      <td>1219</td>\n",
       "    </tr>\n",
       "    <tr>\n",
       "      <th>941</th>\n",
       "      <td>941</td>\n",
       "      <td>PDGFRB</td>\n",
       "      <td>ATF7IP-PDGFRB Fusion</td>\n",
       "      <td>2</td>\n",
       "      <td>Amino Acid Swap</td>\n",
       "      <td>Chronic myelomonocytic leukemia (CMML) is a my...</td>\n",
       "      <td>116</td>\n",
       "      <td>776</td>\n",
       "    </tr>\n",
       "    <tr>\n",
       "      <th>1057</th>\n",
       "      <td>1057</td>\n",
       "      <td>EWSR1</td>\n",
       "      <td>EWSR1-FEV Fusion</td>\n",
       "      <td>2</td>\n",
       "      <td>Amino Acid Swap</td>\n",
       "      <td>As a result of chromosome translocations, the ...</td>\n",
       "      <td>207</td>\n",
       "      <td>1215</td>\n",
       "    </tr>\n",
       "    <tr>\n",
       "      <th>1154</th>\n",
       "      <td>1154</td>\n",
       "      <td>KMT2C</td>\n",
       "      <td>S3660L</td>\n",
       "      <td>5</td>\n",
       "      <td>Amino Acid Swap</td>\n",
       "      <td>Several studies indicated that the expression ...</td>\n",
       "      <td>341</td>\n",
       "      <td>2176</td>\n",
       "    </tr>\n",
       "    <tr>\n",
       "      <th>1286</th>\n",
       "      <td>1286</td>\n",
       "      <td>HRAS</td>\n",
       "      <td>A146V</td>\n",
       "      <td>2</td>\n",
       "      <td>Amino Acid Swap</td>\n",
       "      <td>Costello syndrome is a rare congenital disorde...</td>\n",
       "      <td>244</td>\n",
       "      <td>1692</td>\n",
       "    </tr>\n",
       "    <tr>\n",
       "      <th>1290</th>\n",
       "      <td>1290</td>\n",
       "      <td>HRAS</td>\n",
       "      <td>T58I</td>\n",
       "      <td>2</td>\n",
       "      <td>Amino Acid Swap</td>\n",
       "      <td>We report a 10-year-old girl presenting with s...</td>\n",
       "      <td>231</td>\n",
       "      <td>1668</td>\n",
       "    </tr>\n",
       "    <tr>\n",
       "      <th>1368</th>\n",
       "      <td>1368</td>\n",
       "      <td>AKT2</td>\n",
       "      <td>D32H</td>\n",
       "      <td>7</td>\n",
       "      <td>Amino Acid Swap</td>\n",
       "      <td>The activating E17K mutations recently discove...</td>\n",
       "      <td>448</td>\n",
       "      <td>2864</td>\n",
       "    </tr>\n",
       "    <tr>\n",
       "      <th>1378</th>\n",
       "      <td>1378</td>\n",
       "      <td>AKT2</td>\n",
       "      <td>D399N</td>\n",
       "      <td>7</td>\n",
       "      <td>Amino Acid Swap</td>\n",
       "      <td>The activating E17K mutations recently discove...</td>\n",
       "      <td>448</td>\n",
       "      <td>2864</td>\n",
       "    </tr>\n",
       "    <tr>\n",
       "      <th>1583</th>\n",
       "      <td>1583</td>\n",
       "      <td>PMS1</td>\n",
       "      <td>Q233*</td>\n",
       "      <td>4</td>\n",
       "      <td>Amino Acid Swap</td>\n",
       "      <td>HEREDITARY nonpolyposis colorectal cancer (HNP...</td>\n",
       "      <td>114</td>\n",
       "      <td>742</td>\n",
       "    </tr>\n",
       "    <tr>\n",
       "      <th>1613</th>\n",
       "      <td>1613</td>\n",
       "      <td>VHL</td>\n",
       "      <td>L158Q</td>\n",
       "      <td>4</td>\n",
       "      <td>Amino Acid Swap</td>\n",
       "      <td>The case of a 40-year-old woman with severe ed...</td>\n",
       "      <td>53</td>\n",
       "      <td>337</td>\n",
       "    </tr>\n",
       "    <tr>\n",
       "      <th>1620</th>\n",
       "      <td>1620</td>\n",
       "      <td>VHL</td>\n",
       "      <td>P25L</td>\n",
       "      <td>5</td>\n",
       "      <td>Amino Acid Swap</td>\n",
       "      <td>Background: von Hippel-Lindau (VHL) disease is...</td>\n",
       "      <td>431</td>\n",
       "      <td>2643</td>\n",
       "    </tr>\n",
       "    <tr>\n",
       "      <th>2146</th>\n",
       "      <td>2146</td>\n",
       "      <td>PTCH1</td>\n",
       "      <td>Truncating Mutations</td>\n",
       "      <td>1</td>\n",
       "      <td>Truncating Mutations</td>\n",
       "      <td>Basal cell carcinoma (BCC) is the most common ...</td>\n",
       "      <td>212</td>\n",
       "      <td>1407</td>\n",
       "    </tr>\n",
       "    <tr>\n",
       "      <th>2504</th>\n",
       "      <td>2504</td>\n",
       "      <td>BRCA1</td>\n",
       "      <td>V11A</td>\n",
       "      <td>6</td>\n",
       "      <td>Amino Acid Swap</td>\n",
       "      <td>Identification of protein-protein interaction...</td>\n",
       "      <td>230</td>\n",
       "      <td>1632</td>\n",
       "    </tr>\n",
       "    <tr>\n",
       "      <th>2900</th>\n",
       "      <td>2900</td>\n",
       "      <td>NF2</td>\n",
       "      <td>E106G</td>\n",
       "      <td>1</td>\n",
       "      <td>Amino Acid Swap</td>\n",
       "      <td>Neurofibromatosis 2 (NF2) is a tumor predispos...</td>\n",
       "      <td>183</td>\n",
       "      <td>1219</td>\n",
       "    </tr>\n",
       "    <tr>\n",
       "      <th>2906</th>\n",
       "      <td>2906</td>\n",
       "      <td>NF2</td>\n",
       "      <td>Q538P</td>\n",
       "      <td>1</td>\n",
       "      <td>Amino Acid Swap</td>\n",
       "      <td>Neurofibromatosis 2 (NF2) is a tumor predispos...</td>\n",
       "      <td>183</td>\n",
       "      <td>1219</td>\n",
       "    </tr>\n",
       "    <tr>\n",
       "      <th>2908</th>\n",
       "      <td>2908</td>\n",
       "      <td>NF2</td>\n",
       "      <td>Q324L</td>\n",
       "      <td>5</td>\n",
       "      <td>Amino Acid Swap</td>\n",
       "      <td>Neurofibromatosis 2 (NF2) is a tumor predispos...</td>\n",
       "      <td>183</td>\n",
       "      <td>1219</td>\n",
       "    </tr>\n",
       "    <tr>\n",
       "      <th>2980</th>\n",
       "      <td>2980</td>\n",
       "      <td>KIT</td>\n",
       "      <td>N655K</td>\n",
       "      <td>2</td>\n",
       "      <td>Amino Acid Swap</td>\n",
       "      <td>TO THE EDITOR: I commend Drs. Freeman and Bank...</td>\n",
       "      <td>362</td>\n",
       "      <td>2689</td>\n",
       "    </tr>\n",
       "  </tbody>\n",
       "</table>\n",
       "</div>"
      ],
      "text/plain": [
       "        ID    Gene             Variation  Class         Variation_Alt  \\\n",
       "140    140    EGFR                 I491M      5       Amino Acid Swap   \n",
       "145    145    EGFR                 K467T      2       Amino Acid Swap   \n",
       "259    259    EGFR                 S464L      2       Amino Acid Swap   \n",
       "344    344    CDH1                 A617T      4       Amino Acid Swap   \n",
       "346    346    CDH1                 A634V      4       Amino Acid Swap   \n",
       "348    348    CDH1                 T340A      4       Amino Acid Swap   \n",
       "648    648  CDKN2A                  Q50*      4       Amino Acid Swap   \n",
       "688    688  CDKN2A                  R79P      4       Amino Acid Swap   \n",
       "692    692  CDKN2A                  G93W      4       Amino Acid Swap   \n",
       "693    693  CDKN2A                 V118D      4       Amino Acid Swap   \n",
       "868    868   HLA-A         596_619splice      1       Amino Acid Swap   \n",
       "941    941  PDGFRB  ATF7IP-PDGFRB Fusion      2       Amino Acid Swap   \n",
       "1057  1057   EWSR1      EWSR1-FEV Fusion      2       Amino Acid Swap   \n",
       "1154  1154   KMT2C                S3660L      5       Amino Acid Swap   \n",
       "1286  1286    HRAS                 A146V      2       Amino Acid Swap   \n",
       "1290  1290    HRAS                  T58I      2       Amino Acid Swap   \n",
       "1368  1368    AKT2                  D32H      7       Amino Acid Swap   \n",
       "1378  1378    AKT2                 D399N      7       Amino Acid Swap   \n",
       "1583  1583    PMS1                 Q233*      4       Amino Acid Swap   \n",
       "1613  1613     VHL                 L158Q      4       Amino Acid Swap   \n",
       "1620  1620     VHL                  P25L      5       Amino Acid Swap   \n",
       "2146  2146   PTCH1  Truncating Mutations      1  Truncating Mutations   \n",
       "2504  2504   BRCA1                  V11A      6       Amino Acid Swap   \n",
       "2900  2900     NF2                 E106G      1       Amino Acid Swap   \n",
       "2906  2906     NF2                 Q538P      1       Amino Acid Swap   \n",
       "2908  2908     NF2                 Q324L      5       Amino Acid Swap   \n",
       "2980  2980     KIT                 N655K      2       Amino Acid Swap   \n",
       "\n",
       "                                                   Text  num_words  num_chars  \n",
       "140   The accurate determination of perfluoroalkyl s...        430       2925  \n",
       "145   The accurate determination of perfluoroalkyl s...        430       2925  \n",
       "259   The accurate determination of perfluoroalkyl s...        430       2925  \n",
       "344   E-cadherin is involved in the formation of cel...        187       1315  \n",
       "346   E-cadherin is involved in the formation of cel...        187       1315  \n",
       "348   E-cadherin is involved in the formation of cel...        187       1315  \n",
       "648   The p16 gene is located in chromosome 9p21, a ...        103        706  \n",
       "688   Cell division is controlled by a series of pos...        228       1540  \n",
       "692   Cell division is controlled by a series of pos...        228       1540  \n",
       "693   Cell division is controlled by a series of pos...        228       1540  \n",
       "868   A new variant of the HLA-A*010101 allele desig...        184       1219  \n",
       "941   Chronic myelomonocytic leukemia (CMML) is a my...        116        776  \n",
       "1057  As a result of chromosome translocations, the ...        207       1215  \n",
       "1154  Several studies indicated that the expression ...        341       2176  \n",
       "1286  Costello syndrome is a rare congenital disorde...        244       1692  \n",
       "1290  We report a 10-year-old girl presenting with s...        231       1668  \n",
       "1368  The activating E17K mutations recently discove...        448       2864  \n",
       "1378  The activating E17K mutations recently discove...        448       2864  \n",
       "1583  HEREDITARY nonpolyposis colorectal cancer (HNP...        114        742  \n",
       "1613  The case of a 40-year-old woman with severe ed...         53        337  \n",
       "1620  Background: von Hippel-Lindau (VHL) disease is...        431       2643  \n",
       "2146  Basal cell carcinoma (BCC) is the most common ...        212       1407  \n",
       "2504   Identification of protein-protein interaction...        230       1632  \n",
       "2900  Neurofibromatosis 2 (NF2) is a tumor predispos...        183       1219  \n",
       "2906  Neurofibromatosis 2 (NF2) is a tumor predispos...        183       1219  \n",
       "2908  Neurofibromatosis 2 (NF2) is a tumor predispos...        183       1219  \n",
       "2980  TO THE EDITOR: I commend Drs. Freeman and Bank...        362       2689  "
      ]
     },
     "execution_count": 54,
     "metadata": {},
     "output_type": "execute_result"
    }
   ],
   "source": [
    "# remove rows with NaN\n",
    "train_df = train_df[train_df['Text'].notna()]\n",
    "test_df = test_df[test_df['Text'].notna()]\n",
    "\n",
    "print('size after removing NaN is', train_df.shape, test_df.shape)\n",
    "\n",
    "train_df[train_df[\"num_words\"]<500]"
   ]
  },
  {
   "cell_type": "markdown",
   "metadata": {},
   "source": [
    "Some variations have the same text descriptor, and belong to the same class. Some variations have the same text descriptor, but belongs to a separate class (see IDs [140,145,259], and [2906,2908]). This will definitely give us trouble later on...\n",
    "\n",
    "Let's take a look at the test data"
   ]
  },
  {
   "cell_type": "code",
   "execution_count": 43,
   "metadata": {
    "scrolled": true
   },
   "outputs": [
    {
     "data": {
      "text/html": [
       "<div>\n",
       "<style scoped>\n",
       "    .dataframe tbody tr th:only-of-type {\n",
       "        vertical-align: middle;\n",
       "    }\n",
       "\n",
       "    .dataframe tbody tr th {\n",
       "        vertical-align: top;\n",
       "    }\n",
       "\n",
       "    .dataframe thead th {\n",
       "        text-align: right;\n",
       "    }\n",
       "</style>\n",
       "<table border=\"1\" class=\"dataframe\">\n",
       "  <thead>\n",
       "    <tr style=\"text-align: right;\">\n",
       "      <th></th>\n",
       "      <th>ID</th>\n",
       "      <th>Gene</th>\n",
       "      <th>Variation</th>\n",
       "      <th>Text</th>\n",
       "      <th>num_words</th>\n",
       "      <th>num_chars</th>\n",
       "    </tr>\n",
       "  </thead>\n",
       "  <tbody>\n",
       "    <tr>\n",
       "      <th>206</th>\n",
       "      <td>206</td>\n",
       "      <td>AR</td>\n",
       "      <td>H690P</td>\n",
       "      <td>The estrogen receptor complex is a known trans...</td>\n",
       "      <td>341</td>\n",
       "      <td>2419</td>\n",
       "    </tr>\n",
       "    <tr>\n",
       "      <th>527</th>\n",
       "      <td>527</td>\n",
       "      <td>MCFD2</td>\n",
       "      <td>D129E</td>\n",
       "      <td>THE critical pathways through which protein-ty...</td>\n",
       "      <td>487</td>\n",
       "      <td>3272</td>\n",
       "    </tr>\n",
       "    <tr>\n",
       "      <th>859</th>\n",
       "      <td>859</td>\n",
       "      <td>MSH2</td>\n",
       "      <td>R621*</td>\n",
       "      <td>Hereditary nonpolyposis colon cancer (HN-PCC) ...</td>\n",
       "      <td>134</td>\n",
       "      <td>882</td>\n",
       "    </tr>\n",
       "    <tr>\n",
       "      <th>1193</th>\n",
       "      <td>1193</td>\n",
       "      <td>TYR</td>\n",
       "      <td>C55Y</td>\n",
       "      <td>Familial adenomatous polyposis (FAP) is an aut...</td>\n",
       "      <td>299</td>\n",
       "      <td>2009</td>\n",
       "    </tr>\n",
       "    <tr>\n",
       "      <th>1309</th>\n",
       "      <td>1309</td>\n",
       "      <td>LDLR</td>\n",
       "      <td>D175N</td>\n",
       "      <td>It has previously been shown that, in the hete...</td>\n",
       "      <td>339</td>\n",
       "      <td>2219</td>\n",
       "    </tr>\n",
       "    <tr>\n",
       "      <th>1575</th>\n",
       "      <td>1575</td>\n",
       "      <td>NCF1</td>\n",
       "      <td>R42Q</td>\n",
       "      <td>Glioblastoma multiforme (GBM) is the most comm...</td>\n",
       "      <td>401</td>\n",
       "      <td>2803</td>\n",
       "    </tr>\n",
       "    <tr>\n",
       "      <th>2765</th>\n",
       "      <td>2765</td>\n",
       "      <td>KRAS</td>\n",
       "      <td>Q25H</td>\n",
       "      <td>Gallbladder cancer (GBC) is more prevalent tha...</td>\n",
       "      <td>272</td>\n",
       "      <td>1688</td>\n",
       "    </tr>\n",
       "    <tr>\n",
       "      <th>3299</th>\n",
       "      <td>3299</td>\n",
       "      <td>ARSA</td>\n",
       "      <td>P233T</td>\n",
       "      <td>A 44-year-old male presented with a violaceous...</td>\n",
       "      <td>378</td>\n",
       "      <td>2673</td>\n",
       "    </tr>\n",
       "    <tr>\n",
       "      <th>3322</th>\n",
       "      <td>3322</td>\n",
       "      <td>CDKN2A</td>\n",
       "      <td>P73L</td>\n",
       "      <td>Cell division is controlled by a series of pos...</td>\n",
       "      <td>228</td>\n",
       "      <td>1540</td>\n",
       "    </tr>\n",
       "    <tr>\n",
       "      <th>3996</th>\n",
       "      <td>3996</td>\n",
       "      <td>BRCA1</td>\n",
       "      <td>A1752G</td>\n",
       "      <td>Abstract Germline mutations in the tumor supp...</td>\n",
       "      <td>165</td>\n",
       "      <td>1127</td>\n",
       "    </tr>\n",
       "    <tr>\n",
       "      <th>4061</th>\n",
       "      <td>4061</td>\n",
       "      <td>XRCC2</td>\n",
       "      <td>R188H</td>\n",
       "      <td>An acquired genetic instability, resulting fro...</td>\n",
       "      <td>217</td>\n",
       "      <td>1394</td>\n",
       "    </tr>\n",
       "    <tr>\n",
       "      <th>5010</th>\n",
       "      <td>5010</td>\n",
       "      <td>ACADM</td>\n",
       "      <td>G195R</td>\n",
       "      <td>A single missense mutation in the human erbB-2...</td>\n",
       "      <td>463</td>\n",
       "      <td>3173</td>\n",
       "    </tr>\n",
       "  </tbody>\n",
       "</table>\n",
       "</div>"
      ],
      "text/plain": [
       "        ID    Gene Variation  \\\n",
       "206    206      AR     H690P   \n",
       "527    527   MCFD2     D129E   \n",
       "859    859    MSH2     R621*   \n",
       "1193  1193     TYR      C55Y   \n",
       "1309  1309    LDLR     D175N   \n",
       "1575  1575    NCF1      R42Q   \n",
       "2765  2765    KRAS      Q25H   \n",
       "3299  3299    ARSA     P233T   \n",
       "3322  3322  CDKN2A      P73L   \n",
       "3996  3996   BRCA1    A1752G   \n",
       "4061  4061   XRCC2     R188H   \n",
       "5010  5010   ACADM     G195R   \n",
       "\n",
       "                                                   Text  num_words  num_chars  \n",
       "206   The estrogen receptor complex is a known trans...        341       2419  \n",
       "527   THE critical pathways through which protein-ty...        487       3272  \n",
       "859   Hereditary nonpolyposis colon cancer (HN-PCC) ...        134        882  \n",
       "1193  Familial adenomatous polyposis (FAP) is an aut...        299       2009  \n",
       "1309  It has previously been shown that, in the hete...        339       2219  \n",
       "1575  Glioblastoma multiforme (GBM) is the most comm...        401       2803  \n",
       "2765  Gallbladder cancer (GBC) is more prevalent tha...        272       1688  \n",
       "3299  A 44-year-old male presented with a violaceous...        378       2673  \n",
       "3322  Cell division is controlled by a series of pos...        228       1540  \n",
       "3996   Abstract Germline mutations in the tumor supp...        165       1127  \n",
       "4061  An acquired genetic instability, resulting fro...        217       1394  \n",
       "5010  A single missense mutation in the human erbB-2...        463       3173  "
      ]
     },
     "execution_count": 43,
     "metadata": {},
     "output_type": "execute_result"
    }
   ],
   "source": [
    "test_df[test_df[\"num_words\"]<500]"
   ]
  },
  {
   "cell_type": "markdown",
   "metadata": {},
   "source": [
    "## Prep solution set & test set (using stage1 & stage2 solution)"
   ]
  },
  {
   "cell_type": "code",
   "execution_count": 44,
   "metadata": {},
   "outputs": [],
   "source": [
    "solution = pd.read_csv('stage1_solution_filtered.csv')\n",
    "solution2 = pd.read_csv('stage_2_private_solution.csv')"
   ]
  },
  {
   "cell_type": "code",
   "execution_count": 45,
   "metadata": {},
   "outputs": [
    {
     "data": {
      "text/html": [
       "<div>\n",
       "<style scoped>\n",
       "    .dataframe tbody tr th:only-of-type {\n",
       "        vertical-align: middle;\n",
       "    }\n",
       "\n",
       "    .dataframe tbody tr th {\n",
       "        vertical-align: top;\n",
       "    }\n",
       "\n",
       "    .dataframe thead th {\n",
       "        text-align: right;\n",
       "    }\n",
       "</style>\n",
       "<table border=\"1\" class=\"dataframe\">\n",
       "  <thead>\n",
       "    <tr style=\"text-align: right;\">\n",
       "      <th></th>\n",
       "      <th>ID</th>\n",
       "      <th>class1</th>\n",
       "      <th>class2</th>\n",
       "      <th>class3</th>\n",
       "      <th>class4</th>\n",
       "      <th>class5</th>\n",
       "      <th>class6</th>\n",
       "      <th>class7</th>\n",
       "      <th>class8</th>\n",
       "      <th>class9</th>\n",
       "    </tr>\n",
       "  </thead>\n",
       "  <tbody>\n",
       "    <tr>\n",
       "      <th>0</th>\n",
       "      <td>12</td>\n",
       "      <td>1</td>\n",
       "      <td>0</td>\n",
       "      <td>0</td>\n",
       "      <td>0</td>\n",
       "      <td>0</td>\n",
       "      <td>0</td>\n",
       "      <td>0</td>\n",
       "      <td>0</td>\n",
       "      <td>0</td>\n",
       "    </tr>\n",
       "    <tr>\n",
       "      <th>1</th>\n",
       "      <td>19</td>\n",
       "      <td>0</td>\n",
       "      <td>1</td>\n",
       "      <td>0</td>\n",
       "      <td>0</td>\n",
       "      <td>0</td>\n",
       "      <td>0</td>\n",
       "      <td>0</td>\n",
       "      <td>0</td>\n",
       "      <td>0</td>\n",
       "    </tr>\n",
       "    <tr>\n",
       "      <th>2</th>\n",
       "      <td>21</td>\n",
       "      <td>0</td>\n",
       "      <td>1</td>\n",
       "      <td>0</td>\n",
       "      <td>0</td>\n",
       "      <td>0</td>\n",
       "      <td>0</td>\n",
       "      <td>0</td>\n",
       "      <td>0</td>\n",
       "      <td>0</td>\n",
       "    </tr>\n",
       "    <tr>\n",
       "      <th>3</th>\n",
       "      <td>55</td>\n",
       "      <td>0</td>\n",
       "      <td>0</td>\n",
       "      <td>0</td>\n",
       "      <td>1</td>\n",
       "      <td>0</td>\n",
       "      <td>0</td>\n",
       "      <td>0</td>\n",
       "      <td>0</td>\n",
       "      <td>0</td>\n",
       "    </tr>\n",
       "    <tr>\n",
       "      <th>4</th>\n",
       "      <td>64</td>\n",
       "      <td>0</td>\n",
       "      <td>0</td>\n",
       "      <td>0</td>\n",
       "      <td>1</td>\n",
       "      <td>0</td>\n",
       "      <td>0</td>\n",
       "      <td>0</td>\n",
       "      <td>0</td>\n",
       "      <td>0</td>\n",
       "    </tr>\n",
       "  </tbody>\n",
       "</table>\n",
       "</div>"
      ],
      "text/plain": [
       "   ID  class1  class2  class3  class4  class5  class6  class7  class8  class9\n",
       "0  12       1       0       0       0       0       0       0       0       0\n",
       "1  19       0       1       0       0       0       0       0       0       0\n",
       "2  21       0       1       0       0       0       0       0       0       0\n",
       "3  55       0       0       0       1       0       0       0       0       0\n",
       "4  64       0       0       0       1       0       0       0       0       0"
      ]
     },
     "execution_count": 45,
     "metadata": {},
     "output_type": "execute_result"
    }
   ],
   "source": [
    "solution.head()"
   ]
  },
  {
   "cell_type": "code",
   "execution_count": 46,
   "metadata": {},
   "outputs": [
    {
     "data": {
      "text/html": [
       "<div>\n",
       "<style scoped>\n",
       "    .dataframe tbody tr th:only-of-type {\n",
       "        vertical-align: middle;\n",
       "    }\n",
       "\n",
       "    .dataframe tbody tr th {\n",
       "        vertical-align: top;\n",
       "    }\n",
       "\n",
       "    .dataframe thead th {\n",
       "        text-align: right;\n",
       "    }\n",
       "</style>\n",
       "<table border=\"1\" class=\"dataframe\">\n",
       "  <thead>\n",
       "    <tr style=\"text-align: right;\">\n",
       "      <th></th>\n",
       "      <th>ID</th>\n",
       "      <th>class1</th>\n",
       "      <th>class2</th>\n",
       "      <th>class3</th>\n",
       "      <th>class4</th>\n",
       "      <th>class5</th>\n",
       "      <th>class6</th>\n",
       "      <th>class7</th>\n",
       "      <th>class8</th>\n",
       "      <th>class9</th>\n",
       "    </tr>\n",
       "  </thead>\n",
       "  <tbody>\n",
       "    <tr>\n",
       "      <th>0</th>\n",
       "      <td>8</td>\n",
       "      <td>0</td>\n",
       "      <td>0</td>\n",
       "      <td>0</td>\n",
       "      <td>1</td>\n",
       "      <td>0</td>\n",
       "      <td>0</td>\n",
       "      <td>0</td>\n",
       "      <td>0</td>\n",
       "      <td>0</td>\n",
       "    </tr>\n",
       "    <tr>\n",
       "      <th>1</th>\n",
       "      <td>15</td>\n",
       "      <td>0</td>\n",
       "      <td>0</td>\n",
       "      <td>0</td>\n",
       "      <td>0</td>\n",
       "      <td>0</td>\n",
       "      <td>0</td>\n",
       "      <td>0</td>\n",
       "      <td>0</td>\n",
       "      <td>1</td>\n",
       "    </tr>\n",
       "    <tr>\n",
       "      <th>2</th>\n",
       "      <td>16</td>\n",
       "      <td>0</td>\n",
       "      <td>0</td>\n",
       "      <td>0</td>\n",
       "      <td>0</td>\n",
       "      <td>0</td>\n",
       "      <td>0</td>\n",
       "      <td>0</td>\n",
       "      <td>1</td>\n",
       "      <td>0</td>\n",
       "    </tr>\n",
       "    <tr>\n",
       "      <th>3</th>\n",
       "      <td>18</td>\n",
       "      <td>0</td>\n",
       "      <td>1</td>\n",
       "      <td>0</td>\n",
       "      <td>0</td>\n",
       "      <td>0</td>\n",
       "      <td>0</td>\n",
       "      <td>0</td>\n",
       "      <td>0</td>\n",
       "      <td>0</td>\n",
       "    </tr>\n",
       "    <tr>\n",
       "      <th>4</th>\n",
       "      <td>19</td>\n",
       "      <td>0</td>\n",
       "      <td>1</td>\n",
       "      <td>0</td>\n",
       "      <td>0</td>\n",
       "      <td>0</td>\n",
       "      <td>0</td>\n",
       "      <td>0</td>\n",
       "      <td>0</td>\n",
       "      <td>0</td>\n",
       "    </tr>\n",
       "  </tbody>\n",
       "</table>\n",
       "</div>"
      ],
      "text/plain": [
       "   ID  class1  class2  class3  class4  class5  class6  class7  class8  class9\n",
       "0   8       0       0       0       1       0       0       0       0       0\n",
       "1  15       0       0       0       0       0       0       0       0       1\n",
       "2  16       0       0       0       0       0       0       0       1       0\n",
       "3  18       0       1       0       0       0       0       0       0       0\n",
       "4  19       0       1       0       0       0       0       0       0       0"
      ]
     },
     "execution_count": 46,
     "metadata": {},
     "output_type": "execute_result"
    }
   ],
   "source": [
    "solution2.head()"
   ]
  },
  {
   "cell_type": "code",
   "execution_count": 47,
   "metadata": {},
   "outputs": [
    {
     "name": "stdout",
     "output_type": "stream",
     "text": [
      "Stage-1 solution has 368 entries\n",
      "Stage-2 solution has 125 entries\n",
      "The testing set has 5667 entries\n"
     ]
    }
   ],
   "source": [
    "print('Stage-1 solution has', len(solution), 'entries')\n",
    "print('Stage-2 solution has', len(solution2), 'entries')\n",
    "print('The testing set has', len(test_df), 'entries')"
   ]
  },
  {
   "cell_type": "markdown",
   "metadata": {},
   "source": [
    "We need to address the dimension mismatch by dropping the rows in the test set without a corresponding entry in the solution set.\n",
    "\n",
    "One way to do this is to\n",
    "1. merge two dataframes\n",
    "2. separate merged dataframes into 2 separate truncated dataframes"
   ]
  },
  {
   "cell_type": "code",
   "execution_count": 48,
   "metadata": {},
   "outputs": [
    {
     "data": {
      "text/plain": [
       "(493, 10)"
      ]
     },
     "execution_count": 48,
     "metadata": {},
     "output_type": "execute_result"
    }
   ],
   "source": [
    "#combine solution sets\n",
    "stacked_solution = solution.append(solution2)\n",
    "stacked_solution.shape"
   ]
  },
  {
   "cell_type": "code",
   "execution_count": 49,
   "metadata": {
    "scrolled": true
   },
   "outputs": [
    {
     "data": {
      "text/html": [
       "<div>\n",
       "<style scoped>\n",
       "    .dataframe tbody tr th:only-of-type {\n",
       "        vertical-align: middle;\n",
       "    }\n",
       "\n",
       "    .dataframe tbody tr th {\n",
       "        vertical-align: top;\n",
       "    }\n",
       "\n",
       "    .dataframe thead th {\n",
       "        text-align: right;\n",
       "    }\n",
       "</style>\n",
       "<table border=\"1\" class=\"dataframe\">\n",
       "  <thead>\n",
       "    <tr style=\"text-align: right;\">\n",
       "      <th></th>\n",
       "      <th>ID</th>\n",
       "      <th>Gene</th>\n",
       "      <th>Variation</th>\n",
       "      <th>Text</th>\n",
       "      <th>num_words</th>\n",
       "      <th>num_chars</th>\n",
       "      <th>class1</th>\n",
       "      <th>class2</th>\n",
       "      <th>class3</th>\n",
       "      <th>class4</th>\n",
       "      <th>class5</th>\n",
       "      <th>class6</th>\n",
       "      <th>class7</th>\n",
       "      <th>class8</th>\n",
       "      <th>class9</th>\n",
       "    </tr>\n",
       "  </thead>\n",
       "  <tbody>\n",
       "    <tr>\n",
       "      <th>0</th>\n",
       "      <td>8</td>\n",
       "      <td>CLCF1</td>\n",
       "      <td>R197L</td>\n",
       "      <td>NPM1 gene at chromosome 5q35 is involved in re...</td>\n",
       "      <td>3737</td>\n",
       "      <td>25881</td>\n",
       "      <td>0</td>\n",
       "      <td>0</td>\n",
       "      <td>0</td>\n",
       "      <td>1</td>\n",
       "      <td>0</td>\n",
       "      <td>0</td>\n",
       "      <td>0</td>\n",
       "      <td>0</td>\n",
       "      <td>0</td>\n",
       "    </tr>\n",
       "    <tr>\n",
       "      <th>1</th>\n",
       "      <td>12</td>\n",
       "      <td>TET2</td>\n",
       "      <td>Y1902A</td>\n",
       "      <td>TET proteins oxidize 5-methylcytosine (5mC) on...</td>\n",
       "      <td>7123</td>\n",
       "      <td>46418</td>\n",
       "      <td>1</td>\n",
       "      <td>0</td>\n",
       "      <td>0</td>\n",
       "      <td>0</td>\n",
       "      <td>0</td>\n",
       "      <td>0</td>\n",
       "      <td>0</td>\n",
       "      <td>0</td>\n",
       "      <td>0</td>\n",
       "    </tr>\n",
       "    <tr>\n",
       "      <th>2</th>\n",
       "      <td>15</td>\n",
       "      <td>EFNB1</td>\n",
       "      <td>M158V</td>\n",
       "      <td>Mutations leading to activation of the RAF-mit...</td>\n",
       "      <td>10126</td>\n",
       "      <td>67612</td>\n",
       "      <td>0</td>\n",
       "      <td>0</td>\n",
       "      <td>0</td>\n",
       "      <td>0</td>\n",
       "      <td>0</td>\n",
       "      <td>0</td>\n",
       "      <td>0</td>\n",
       "      <td>0</td>\n",
       "      <td>1</td>\n",
       "    </tr>\n",
       "    <tr>\n",
       "      <th>3</th>\n",
       "      <td>16</td>\n",
       "      <td>PKHD1</td>\n",
       "      <td>V3471G</td>\n",
       "      <td>Janus (Jak) tyrosine kinases contain a tyrosin...</td>\n",
       "      <td>10372</td>\n",
       "      <td>69262</td>\n",
       "      <td>0</td>\n",
       "      <td>0</td>\n",
       "      <td>0</td>\n",
       "      <td>0</td>\n",
       "      <td>0</td>\n",
       "      <td>0</td>\n",
       "      <td>0</td>\n",
       "      <td>1</td>\n",
       "      <td>0</td>\n",
       "    </tr>\n",
       "    <tr>\n",
       "      <th>4</th>\n",
       "      <td>18</td>\n",
       "      <td>PGK1</td>\n",
       "      <td>T352N</td>\n",
       "      <td>The actions of RhoA in cytoskeletal regulation...</td>\n",
       "      <td>5868</td>\n",
       "      <td>39859</td>\n",
       "      <td>0</td>\n",
       "      <td>1</td>\n",
       "      <td>0</td>\n",
       "      <td>0</td>\n",
       "      <td>0</td>\n",
       "      <td>0</td>\n",
       "      <td>0</td>\n",
       "      <td>0</td>\n",
       "      <td>0</td>\n",
       "    </tr>\n",
       "  </tbody>\n",
       "</table>\n",
       "</div>"
      ],
      "text/plain": [
       "   ID   Gene Variation                                               Text  \\\n",
       "0   8  CLCF1     R197L  NPM1 gene at chromosome 5q35 is involved in re...   \n",
       "1  12   TET2    Y1902A  TET proteins oxidize 5-methylcytosine (5mC) on...   \n",
       "2  15  EFNB1     M158V  Mutations leading to activation of the RAF-mit...   \n",
       "3  16  PKHD1    V3471G  Janus (Jak) tyrosine kinases contain a tyrosin...   \n",
       "4  18   PGK1     T352N  The actions of RhoA in cytoskeletal regulation...   \n",
       "\n",
       "   num_words  num_chars  class1  class2  class3  class4  class5  class6  \\\n",
       "0       3737      25881       0       0       0       1       0       0   \n",
       "1       7123      46418       1       0       0       0       0       0   \n",
       "2      10126      67612       0       0       0       0       0       0   \n",
       "3      10372      69262       0       0       0       0       0       0   \n",
       "4       5868      39859       0       1       0       0       0       0   \n",
       "\n",
       "   class7  class8  class9  \n",
       "0       0       0       0  \n",
       "1       0       0       0  \n",
       "2       0       0       1  \n",
       "3       0       1       0  \n",
       "4       0       0       0  "
      ]
     },
     "execution_count": 49,
     "metadata": {},
     "output_type": "execute_result"
    }
   ],
   "source": [
    "merge_test_solution = pd.merge(test_df,stacked_solution,on='ID')\n",
    "merge_test_solution.head()"
   ]
  },
  {
   "cell_type": "code",
   "execution_count": 50,
   "metadata": {},
   "outputs": [
    {
     "name": "stdout",
     "output_type": "stream",
     "text": [
      "size of combined & truncated solution is (492, 9)\n"
     ]
    },
    {
     "data": {
      "text/html": [
       "<div>\n",
       "<style scoped>\n",
       "    .dataframe tbody tr th:only-of-type {\n",
       "        vertical-align: middle;\n",
       "    }\n",
       "\n",
       "    .dataframe tbody tr th {\n",
       "        vertical-align: top;\n",
       "    }\n",
       "\n",
       "    .dataframe thead th {\n",
       "        text-align: right;\n",
       "    }\n",
       "</style>\n",
       "<table border=\"1\" class=\"dataframe\">\n",
       "  <thead>\n",
       "    <tr style=\"text-align: right;\">\n",
       "      <th></th>\n",
       "      <th>class1</th>\n",
       "      <th>class2</th>\n",
       "      <th>class3</th>\n",
       "      <th>class4</th>\n",
       "      <th>class5</th>\n",
       "      <th>class6</th>\n",
       "      <th>class7</th>\n",
       "      <th>class8</th>\n",
       "      <th>class9</th>\n",
       "    </tr>\n",
       "    <tr>\n",
       "      <th>ID</th>\n",
       "      <th></th>\n",
       "      <th></th>\n",
       "      <th></th>\n",
       "      <th></th>\n",
       "      <th></th>\n",
       "      <th></th>\n",
       "      <th></th>\n",
       "      <th></th>\n",
       "      <th></th>\n",
       "    </tr>\n",
       "  </thead>\n",
       "  <tbody>\n",
       "    <tr>\n",
       "      <th>8</th>\n",
       "      <td>0</td>\n",
       "      <td>0</td>\n",
       "      <td>0</td>\n",
       "      <td>1</td>\n",
       "      <td>0</td>\n",
       "      <td>0</td>\n",
       "      <td>0</td>\n",
       "      <td>0</td>\n",
       "      <td>0</td>\n",
       "    </tr>\n",
       "    <tr>\n",
       "      <th>12</th>\n",
       "      <td>1</td>\n",
       "      <td>0</td>\n",
       "      <td>0</td>\n",
       "      <td>0</td>\n",
       "      <td>0</td>\n",
       "      <td>0</td>\n",
       "      <td>0</td>\n",
       "      <td>0</td>\n",
       "      <td>0</td>\n",
       "    </tr>\n",
       "    <tr>\n",
       "      <th>15</th>\n",
       "      <td>0</td>\n",
       "      <td>0</td>\n",
       "      <td>0</td>\n",
       "      <td>0</td>\n",
       "      <td>0</td>\n",
       "      <td>0</td>\n",
       "      <td>0</td>\n",
       "      <td>0</td>\n",
       "      <td>1</td>\n",
       "    </tr>\n",
       "    <tr>\n",
       "      <th>16</th>\n",
       "      <td>0</td>\n",
       "      <td>0</td>\n",
       "      <td>0</td>\n",
       "      <td>0</td>\n",
       "      <td>0</td>\n",
       "      <td>0</td>\n",
       "      <td>0</td>\n",
       "      <td>1</td>\n",
       "      <td>0</td>\n",
       "    </tr>\n",
       "    <tr>\n",
       "      <th>18</th>\n",
       "      <td>0</td>\n",
       "      <td>1</td>\n",
       "      <td>0</td>\n",
       "      <td>0</td>\n",
       "      <td>0</td>\n",
       "      <td>0</td>\n",
       "      <td>0</td>\n",
       "      <td>0</td>\n",
       "      <td>0</td>\n",
       "    </tr>\n",
       "  </tbody>\n",
       "</table>\n",
       "</div>"
      ],
      "text/plain": [
       "    class1  class2  class3  class4  class5  class6  class7  class8  class9\n",
       "ID                                                                        \n",
       "8        0       0       0       1       0       0       0       0       0\n",
       "12       1       0       0       0       0       0       0       0       0\n",
       "15       0       0       0       0       0       0       0       0       1\n",
       "16       0       0       0       0       0       0       0       1       0\n",
       "18       0       1       0       0       0       0       0       0       0"
      ]
     },
     "execution_count": 50,
     "metadata": {},
     "output_type": "execute_result"
    }
   ],
   "source": [
    "solution_df_truncated = merge_test_solution.iloc[:,6:6+9]\n",
    "solution_df_truncated.index = merge_test_solution.ID\n",
    "print('size of combined & truncated solution is', solution_df_truncated.shape)\n",
    "solution_df_truncated.head()"
   ]
  },
  {
   "cell_type": "code",
   "execution_count": 51,
   "metadata": {
    "scrolled": false
   },
   "outputs": [
    {
     "name": "stdout",
     "output_type": "stream",
     "text": [
      "size of truncated test set is (492, 6)\n"
     ]
    },
    {
     "data": {
      "text/html": [
       "<div>\n",
       "<style scoped>\n",
       "    .dataframe tbody tr th:only-of-type {\n",
       "        vertical-align: middle;\n",
       "    }\n",
       "\n",
       "    .dataframe tbody tr th {\n",
       "        vertical-align: top;\n",
       "    }\n",
       "\n",
       "    .dataframe thead th {\n",
       "        text-align: right;\n",
       "    }\n",
       "</style>\n",
       "<table border=\"1\" class=\"dataframe\">\n",
       "  <thead>\n",
       "    <tr style=\"text-align: right;\">\n",
       "      <th></th>\n",
       "      <th>ID</th>\n",
       "      <th>Gene</th>\n",
       "      <th>Variation</th>\n",
       "      <th>Text</th>\n",
       "      <th>num_words</th>\n",
       "      <th>num_chars</th>\n",
       "    </tr>\n",
       "  </thead>\n",
       "  <tbody>\n",
       "    <tr>\n",
       "      <th>0</th>\n",
       "      <td>8</td>\n",
       "      <td>CLCF1</td>\n",
       "      <td>R197L</td>\n",
       "      <td>NPM1 gene at chromosome 5q35 is involved in re...</td>\n",
       "      <td>3737</td>\n",
       "      <td>25881</td>\n",
       "    </tr>\n",
       "    <tr>\n",
       "      <th>1</th>\n",
       "      <td>12</td>\n",
       "      <td>TET2</td>\n",
       "      <td>Y1902A</td>\n",
       "      <td>TET proteins oxidize 5-methylcytosine (5mC) on...</td>\n",
       "      <td>7123</td>\n",
       "      <td>46418</td>\n",
       "    </tr>\n",
       "    <tr>\n",
       "      <th>2</th>\n",
       "      <td>15</td>\n",
       "      <td>EFNB1</td>\n",
       "      <td>M158V</td>\n",
       "      <td>Mutations leading to activation of the RAF-mit...</td>\n",
       "      <td>10126</td>\n",
       "      <td>67612</td>\n",
       "    </tr>\n",
       "    <tr>\n",
       "      <th>3</th>\n",
       "      <td>16</td>\n",
       "      <td>PKHD1</td>\n",
       "      <td>V3471G</td>\n",
       "      <td>Janus (Jak) tyrosine kinases contain a tyrosin...</td>\n",
       "      <td>10372</td>\n",
       "      <td>69262</td>\n",
       "    </tr>\n",
       "    <tr>\n",
       "      <th>4</th>\n",
       "      <td>18</td>\n",
       "      <td>PGK1</td>\n",
       "      <td>T352N</td>\n",
       "      <td>The actions of RhoA in cytoskeletal regulation...</td>\n",
       "      <td>5868</td>\n",
       "      <td>39859</td>\n",
       "    </tr>\n",
       "  </tbody>\n",
       "</table>\n",
       "</div>"
      ],
      "text/plain": [
       "   ID   Gene Variation                                               Text  \\\n",
       "0   8  CLCF1     R197L  NPM1 gene at chromosome 5q35 is involved in re...   \n",
       "1  12   TET2    Y1902A  TET proteins oxidize 5-methylcytosine (5mC) on...   \n",
       "2  15  EFNB1     M158V  Mutations leading to activation of the RAF-mit...   \n",
       "3  16  PKHD1    V3471G  Janus (Jak) tyrosine kinases contain a tyrosin...   \n",
       "4  18   PGK1     T352N  The actions of RhoA in cytoskeletal regulation...   \n",
       "\n",
       "   num_words  num_chars  \n",
       "0       3737      25881  \n",
       "1       7123      46418  \n",
       "2      10126      67612  \n",
       "3      10372      69262  \n",
       "4       5868      39859  "
      ]
     },
     "execution_count": 51,
     "metadata": {},
     "output_type": "execute_result"
    }
   ],
   "source": [
    "test_df_truncated = merge_test_solution.iloc[:,0:6]\n",
    "print('size of truncated test set is', test_df_truncated.shape)\n",
    "test_df_truncated.head()"
   ]
  },
  {
   "cell_type": "markdown",
   "metadata": {},
   "source": [
    "We'll use `test_df_truncated` and `solution_df_truncated` from here on."
   ]
  },
  {
   "cell_type": "markdown",
   "metadata": {},
   "source": [
    "Here's another way to accomplish the same thing. It's less streamlined but yields a bit more information. This code is just here as an example, you can ignore it if you wish."
   ]
  },
  {
   "cell_type": "code",
   "execution_count": 33,
   "metadata": {
    "scrolled": true
   },
   "outputs": [
    {
     "name": "stdout",
     "output_type": "stream",
     "text": [
      "The solution has 368 entries\n",
      "The testing set has 5667 entries\n",
      "The truncated testing set has 367 entries\n"
     ]
    }
   ],
   "source": [
    "IDs_to_drop = set(test_df.ID) - set(solution.ID)\n",
    "test_df_stage1 = test_df.drop(labels=list(IDs_to_drop))\n",
    "print('The solution has', len(solution), 'entries')\n",
    "print('The testing set has', len(test_df), 'entries')\n",
    "print('The truncated testing set has', len(test_df_stage1), 'entries')"
   ]
  },
  {
   "cell_type": "markdown",
   "metadata": {},
   "source": [
    "Why is there a size discrepency?"
   ]
  },
  {
   "cell_type": "code",
   "execution_count": 34,
   "metadata": {
    "scrolled": true
   },
   "outputs": [
    {
     "data": {
      "text/plain": [
       "{1623}"
      ]
     },
     "execution_count": 34,
     "metadata": {},
     "output_type": "execute_result"
    }
   ],
   "source": [
    "# find the ID that exists in one set but not the other\n",
    "set(test_df_stage1.ID).symmetric_difference(set(solution.ID))"
   ]
  },
  {
   "cell_type": "code",
   "execution_count": 35,
   "metadata": {},
   "outputs": [
    {
     "data": {
      "text/html": [
       "<div>\n",
       "<style scoped>\n",
       "    .dataframe tbody tr th:only-of-type {\n",
       "        vertical-align: middle;\n",
       "    }\n",
       "\n",
       "    .dataframe tbody tr th {\n",
       "        vertical-align: top;\n",
       "    }\n",
       "\n",
       "    .dataframe thead th {\n",
       "        text-align: right;\n",
       "    }\n",
       "</style>\n",
       "<table border=\"1\" class=\"dataframe\">\n",
       "  <thead>\n",
       "    <tr style=\"text-align: right;\">\n",
       "      <th></th>\n",
       "      <th>ID</th>\n",
       "      <th>Text</th>\n",
       "      <th>num_words</th>\n",
       "      <th>num_chars</th>\n",
       "    </tr>\n",
       "  </thead>\n",
       "  <tbody>\n",
       "    <tr>\n",
       "      <th>1623</th>\n",
       "      <td>1623</td>\n",
       "      <td>NaN</td>\n",
       "      <td>1</td>\n",
       "      <td>3</td>\n",
       "    </tr>\n",
       "  </tbody>\n",
       "</table>\n",
       "</div>"
      ],
      "text/plain": [
       "        ID Text  num_words  num_chars\n",
       "1623  1623  NaN          1          3"
      ]
     },
     "execution_count": 35,
     "metadata": {},
     "output_type": "execute_result"
    }
   ],
   "source": [
    "test_text_df[test_text_df.ID==1623]"
   ]
  },
  {
   "cell_type": "markdown",
   "metadata": {},
   "source": [
    "Because one entry from the solution set is associated with a NaN text entry."
   ]
  },
  {
   "cell_type": "code",
   "execution_count": 36,
   "metadata": {
    "scrolled": true
   },
   "outputs": [],
   "source": [
    "# so now we have to drop this row.\n",
    "# notice that the earlier solution using pd.merge does this entire process in one step\n",
    "row_to_drop = solution[solution.ID==1623].index\n",
    "solution_df_stage1 = solution.drop(labels=row_to_drop)"
   ]
  },
  {
   "cell_type": "markdown",
   "metadata": {},
   "source": [
    "# Clean text data"
   ]
  },
  {
   "cell_type": "code",
   "execution_count": 37,
   "metadata": {},
   "outputs": [],
   "source": [
    "import string\n",
    "import re #regular expressions\n",
    "from nltk.corpus import stopwords\n",
    "# note: to use stopwords, first do nltk.download() to download the various corpi in nltk.\n",
    "\n",
    "# TO DO:\n",
    "# we should remove the references from the text field!! e.g., if there are references like (1,2) or [5][6]\n",
    "# use regex expression to clean these up!\n",
    "\n",
    "def textClean(text):\n",
    "    text = re.sub(r\"[^A-Za-z0-9^,!.\\/'+-=]\", \" \", text)\n",
    "    text = text.lower().split()\n",
    "    stops = set(stopwords.words(\"english\"))\n",
    "    text = [w for w in text if not w in stops]    \n",
    "    text = \" \".join(text)\n",
    "    return(text)\n",
    "\n",
    "def cleanup(text):\n",
    "    text = textClean(text)\n",
    "    text= text.translate(str.maketrans(\"\",\"\", string.punctuation))\n",
    "    return text"
   ]
  },
  {
   "cell_type": "code",
   "execution_count": 38,
   "metadata": {},
   "outputs": [],
   "source": [
    "allText_train = train_df['Text'].apply(cleanup)\n",
    "allText_test = test_df_truncated['Text'].apply(cleanup)"
   ]
  },
  {
   "cell_type": "code",
   "execution_count": 39,
   "metadata": {
    "scrolled": true
   },
   "outputs": [
    {
     "data": {
      "text/plain": [
       "'molecular mechanisms underlying STAR syndrome.Cyclin-dependent kinases (CDKs) play a pivotal role in the control of a number of fundamental cellular processes (1). The human genome contains 21 genes encoding proteins that can be considered as members of the CDK family owing to their sequence similarity with bona fide CDKs, those known to be activated by cyclins (2). Although discovered almost 20 y ago (3, 4), CDK10 remains one of the two CDKs without an identified cyclin partner. This knowledge gap has largely impeded the exploration of its biological functions. CDK10 can act as a positive cell cycle regulator in some cells (5, 6) or as a tumor suppressor in others (7, 8). CDK10 interacts with the ETS2 (v-ets erythroblastosis virus E26 oncogene homolog 2) transcription factor and inhibits its transcriptional activity through an unknown mechanism (9). CDK10 knockdown derepresses ETS2, which increases the expression of the c-Raf protein kinase, activates the MAPK pathway, and induces res'"
      ]
     },
     "execution_count": 39,
     "metadata": {},
     "output_type": "execute_result"
    }
   ],
   "source": [
    "# before\n",
    "train_df['Text'][0][1500:2500]"
   ]
  },
  {
   "cell_type": "code",
   "execution_count": 40,
   "metadata": {
    "scrolled": false
   },
   "outputs": [
    {
     "data": {
      "text/plain": [
       "' 20 ago 3 4  cdk10 remains one two cdks without identified cyclin partner knowledge gap largely impeded exploration biological functions cdk10 act positive cell cycle regulator cells 5 6 tumor suppressor others 7 8  cdk10 interacts ets2 vets erythroblastosis virus e26 oncogene homolog 2 transcription factor inhibits transcriptional activity unknown mechanism 9  cdk10 knockdown derepresses ets2 increases expression craf protein kinase activates mapk pathway induces resistance mcf7 cells tamoxifen 6 here deorphanize cdk10 identifying cyclin m product fam58a binding partner mutations gene predict absence truncation cyclin associated star syndrome whose features include toe syndactyly telecanthus anogenital renal malformations heterozygous females 10  however functions cyclin pathogenesis star syndrome remain unknown show recombinant cdk10cyclin heterodimer active protein kinase phosphorylates ets2 vitro cyclin silencing phenocopies cdk10 silencing increasing craf phosphoerk expression lev'"
      ]
     },
     "execution_count": 40,
     "metadata": {},
     "output_type": "execute_result"
    }
   ],
   "source": [
    "# after\n",
    "allText_train[0][1500:2500]"
   ]
  },
  {
   "cell_type": "markdown",
   "metadata": {},
   "source": [
    "# Embed into vectors"
   ]
  },
  {
   "cell_type": "markdown",
   "metadata": {},
   "source": [
    "## Doc2Vec\n",
    "https://radimrehurek.com/gensim_3.8.3/auto_examples/tutorials/run_doc2vec_lee.html\n",
    "\n",
    "general procedure is\n",
    "1. construct \"labeled sentences\"\n",
    "2. embed labeled sentences w/ doc2vec, save results (large file)\n",
    "3. since doc2vec inherently places documents in a vector space based on content, we can see how well the classification performance is solely based on the doc2vec embedding."
   ]
  },
  {
   "cell_type": "code",
   "execution_count": 41,
   "metadata": {},
   "outputs": [],
   "source": [
    "from gensim.models.doc2vec import LabeledSentence\n",
    "from gensim import utils\n",
    "\n",
    "def constructLabeledSentences(data):\n",
    "    sentences=[]\n",
    "    for index, row in data.iteritems():\n",
    "        sentences.append(LabeledSentence(utils.to_unicode(row).split(), ['Text' + '_%s' % str(index)]))\n",
    "    return sentences"
   ]
  },
  {
   "cell_type": "code",
   "execution_count": 42,
   "metadata": {},
   "outputs": [
    {
     "name": "stderr",
     "output_type": "stream",
     "text": [
      "C:\\Users\\Kenny\\Anaconda3\\lib\\site-packages\\ipykernel_launcher.py:7: DeprecationWarning: Call to deprecated `LabeledSentence` (Class will be removed in 4.0.0, use TaggedDocument instead).\n",
      "  import sys\n"
     ]
    },
    {
     "data": {
      "text/plain": [
       "LabeledSentence(words=['cyclindependent', 'kinases', 'cdks', 'regulate', 'variety', 'fundamental', 'cellular', 'processes', 'cdk10', 'stands', 'one', 'last', 'orphan', 'cdks', 'activating', 'cyclin', 'identified', 'kinase', 'activity', 'revealed', 'previous', 'work', 'shown', 'cdk10', 'silencing', 'increases', 'ets2', 'vets', 'erythroblastosis', 'virus', 'e26', 'oncogene', 'homolog', '2', 'driven', 'activation', 'mapk', 'pathway', 'confers', 'tamoxifen', 'resistance', 'breast', 'cancer', 'cells', 'precise', 'mechanisms', 'cdk10', 'modulates', 'ets2', 'activity', 'generally', 'functions', 'cdk10', 'remain', 'elusive', 'demonstrate', 'cdk10', 'cyclindependent', 'kinase', 'identifying', 'cyclin', 'activating', 'cyclin', 'cyclin', 'm', 'orphan', 'cyclin', 'product', 'fam58a', 'whose', 'mutations', 'cause', 'star', 'syndrome', 'human', 'developmental', 'anomaly', 'whose', 'features', 'include', 'toe', 'syndactyly', 'telecanthus', 'anogenital', 'renal', 'malformations', 'show', 'star', 'syndromeassociated', 'cyclin', 'mutants', 'unable', 'interact', 'cdk10', 'cyclin', 'silencing', 'phenocopies', 'cdk10', 'silencing', 'increasing', 'craf', 'conferring', 'tamoxifen', 'resistance', 'breast', 'cancer', 'cells', 'cdk10cyclin', 'phosphorylates', 'ets2', 'vitro', 'cells', 'positively', 'controls', 'ets2', 'degradation', 'proteasome', 'ets2', 'protein', 'levels', 'increased', 'cells', 'derived', 'star', 'patient', 'increase', 'attributable', 'decreased', 'cyclin', 'levels', 'altogether', 'results', 'reveal', 'additional', 'regulatory', 'mechanism', 'ets2', 'plays', 'key', 'roles', 'cancer', 'development', 'also', 'shed', 'light', 'molecular', 'mechanisms', 'underlying', 'star', 'syndromecyclindependent', 'kinases', 'cdks', 'play', 'pivotal', 'role', 'control', 'number', 'fundamental', 'cellular', 'processes', '1', 'human', 'genome', 'contains', '21', 'genes', 'encoding', 'proteins', 'considered', 'members', 'cdk', 'family', 'owing', 'sequence', 'similarity', 'bona', 'fide', 'cdks', 'known', 'activated', 'cyclins', '2', 'although', 'discovered', 'almost', '20', 'ago', '3', '4', 'cdk10', 'remains', 'one', 'two', 'cdks', 'without', 'identified', 'cyclin', 'partner', 'knowledge', 'gap', 'largely', 'impeded', 'exploration', 'biological', 'functions', 'cdk10', 'act', 'positive', 'cell', 'cycle', 'regulator', 'cells', '5', '6', 'tumor', 'suppressor', 'others', '7', '8', 'cdk10', 'interacts', 'ets2', 'vets', 'erythroblastosis', 'virus', 'e26', 'oncogene', 'homolog', '2', 'transcription', 'factor', 'inhibits', 'transcriptional', 'activity', 'unknown', 'mechanism', '9', 'cdk10', 'knockdown', 'derepresses', 'ets2', 'increases', 'expression', 'craf', 'protein', 'kinase', 'activates', 'mapk', 'pathway', 'induces', 'resistance', 'mcf7', 'cells', 'tamoxifen', '6', 'here', 'deorphanize', 'cdk10', 'identifying', 'cyclin', 'm', 'product', 'fam58a', 'binding', 'partner', 'mutations', 'gene', 'predict', 'absence', 'truncation', 'cyclin', 'associated', 'star', 'syndrome', 'whose', 'features', 'include', 'toe', 'syndactyly', 'telecanthus', 'anogenital', 'renal', 'malformations', 'heterozygous', 'females', '10', 'however', 'functions', 'cyclin', 'pathogenesis', 'star', 'syndrome', 'remain', 'unknown', 'show', 'recombinant', 'cdk10cyclin', 'heterodimer', 'active', 'protein', 'kinase', 'phosphorylates', 'ets2', 'vitro', 'cyclin', 'silencing', 'phenocopies', 'cdk10', 'silencing', 'increasing', 'craf', 'phosphoerk', 'expression', 'levels', 'inducing', 'tamoxifen', 'resistance', 'estrogen', 'receptor', 'er', 'breast', 'cancer', 'cells', 'show', 'cdk10cyclin', 'positively', 'controls', 'ets2', 'degradation', 'proteasome', 'phosphorylation', 'two', 'neighboring', 'serines', 'finally', 'detect', 'increased', 'ets2', 'expression', 'level', 'cells', 'derived', 'star', 'patient', 'demonstrate', 'attributable', 'decreased', 'cyclin', 'expression', 'level', 'observed', 'cellsprevious', 'sectionnext', 'sectionresultsa', 'yeast', 'twohybrid', 'y2h', 'screen', 'unveiled', 'interaction', 'signal', 'cdk10', 'mouse', 'protein', 'whose', 'cterminal', 'half', 'presents', 'strong', 'sequence', 'homology', 'human', 'fam58a', 'gene', 'product', 'whose', 'proposed', 'name', 'cyclin', '11', 'thus', 'performed', 'y2h', 'mating', 'assays', 'determine', 'whether', 'human', 'cdk10', 'interacts', 'human', 'cyclin', 'fig', '1', 'c', 'longest', 'cdk10', 'isoform', 'p1', 'expressed', 'bait', 'protein', 'produced', 'strong', 'interaction', 'phenotype', 'fulllength', 'cyclin', 'expressed', 'prey', 'protein', 'detectable', 'phenotype', 'cyclin', 'd1', 'p21', 'cip1', 'cdi1', 'kap', 'known', 'binding', 'partners', 'cdks', 'fig', '1b', 'cdk1', 'cdk3', 'also', 'produced', 'y2h', 'signals', 'cyclin', 'm', 'albeit', 'notably', 'weaker', 'observed', 'cdk10', 'fig', '1b', 'interaction', 'phenotype', 'also', 'observed', 'fulllength', 'cyclin', 'cdk10', 'proteins', 'expressed', 'bait', 'prey', 'respectively', 'fig', 's1a', 'tested', 'different', 'isoforms', 'cdk10', 'cyclin', 'originating', 'alternative', 'gene', 'splicing', 'two', 'truncated', 'cyclin', 'proteins', 'corresponding', 'hypothetical', 'products', 'two', 'mutated', 'fam58a', 'genes', 'found', 'star', 'syndrome', 'patients', '10', 'none', 'shorter', 'isoforms', 'produced', 'interaction', 'phenotypes', 'fig', '1', 'c', 'fig', 's1a', 'fig', '1in', 'new', 'window', 'download', 'pptfig', '1cdk10', 'cyclin', 'form', 'interaction', 'complex', 'schematic', 'representation', 'different', 'protein', 'isoforms', 'analyzed', 'y2h', 'assays', 'amino', 'acid', 'numbers', 'indicated', 'black', 'boxes', 'indicate', 'internal', 'deletions', 'red', 'box', 'indicates', 'differing', 'amino', 'acid', 'sequence', 'compared', 'cdk10', 'p1', 'b', 'y2h', 'assay', 'set', 'cdk', 'proteins', 'expressed', 'baits', 'fusion', 'lexa', 'dna', 'binding', 'domain', 'cdk', 'interacting', 'proteins', 'expressed', 'preys', 'fusion', 'b42', 'transcriptional', 'activator', 'peg202', 'pjg45', 'empty', 'bait', 'prey', 'plasmids', 'expressing', 'lexa', 'b42', 'respectively', 'lacz', 'used', 'reporter', 'gene', 'blue', 'yeast', 'indicative', 'y2h', 'interaction', 'phenotype', 'c', 'y2h', 'assay', 'different', 'cdk10', 'cyclin', 'isoforms', 'aminoterminal', 'region', 'ets2', 'known', 'interact', 'cdk10', '9', 'also', 'assayed', 'western', 'blot', 'analysis', 'myccdk10', 'wt', 'kd', 'cycmv56his', 'expression', 'levels', 'transfected', 'hek293', 'cells', 'e', 'western', 'blot', 'analysis', 'myccdk10', 'wt', 'kd', 'immunoprecipitates', 'obtained', 'using', 'antimyc', 'antibody', 'inputs', 'correspond', '10', 'g', 'total', 'lysates', 'obtained', 'hek293', 'cells', 'coexpressing', 'myccdk10', 'wt', 'kd', 'cycmv56his', 'f', 'western', 'blot', 'analysis', 'immunoprecipitates', 'obtained', 'using', 'anticdk10', 'antibody', 'control', 'goat', 'antibody', 'human', 'breast', 'cancer', 'mcf7', 'cells', 'input', 'corresponds', '30', 'g', 'mcf7', 'total', 'cell', 'lysates', 'lower', 'band', 'doublet', 'observed', 'upper', 'panel', 'comigrates', 'exogenously', 'expressed', 'untagged', 'cdk10', 'thus', 'corresponds', 'endogenous', 'cdk10', 'upper', 'band', 'doublet', 'corresponds', 'nonspecific', 'signal', 'demonstrated', 'insensitivity', 'either', 'overexpression', 'cdk10', 'seen', 'left', 'lane', 'silencing', 'cdk10', 'fig', 's2b', 'another', 'experiment', 'longer', 'gel', 'migration', 'shown', 'fig', 's1dnext', 'examined', 'ability', 'cdk10', 'cyclin', 'interact', 'expressed', 'human', 'cells', 'fig', '1', 'e', 'tested', 'wildtype', 'cdk10', 'wt', 'kinase', 'dead', 'kd', 'mutant', 'bearing', 'd181a', 'amino', 'acid', 'substitution', 'abolishes', 'atp', 'binding', '12', 'expressed', 'cyclin', 'mv56his', 'andor', 'myccdk10', 'wt', 'kd', 'human', 'embryonic', 'kidney', 'cell', 'line', 'hek293', 'expression', 'level', 'cyclin', 'mv56his', 'significantly', 'increased', 'upon', 'coexpression', 'myccdk10', 'wt', 'kd', 'and', 'lesser', 'extent', 'myccdk10', 'wt', 'kd', 'increased', 'upon', 'coexpression', 'cyclin', 'mv56his', 'fig', '1d', 'immunoprecipitated', 'myccdk10', 'proteins', 'detected', 'presence', 'cyclin', 'cdk10', 'wt', 'kd', 'immunoprecipitates', 'proteins', 'coexpressed', 'pairwise', 'fig', '1e', 'confirmed', 'observations', 'detecting', 'presence', 'myccdk10', 'cyclin', 'mv56his', 'immunoprecipitates', 'fig', 's1b', 'experiments', 'confirmed', 'lack', 'robust', 'interaction', 'cdk10p2', 'isoform', 'cyclin', 'fig', 's1c', 'detect', 'interaction', 'endogenous', 'proteins', 'performed', 'immunoprecipitations', 'nontransfected', 'mcf7', 'cells', 'derived', 'human', 'breast', 'cancer', 'cdk10', 'cyclin', 'antibodies', 'detected', 'cognate', 'endogenous', 'proteins', 'western', 'blotting', 'readily', 'detected', 'cyclin', 'immunoprecipitates', 'obtained', 'cdk10', 'antibody', 'control', 'antibody', 'fig', '1f', 'results', 'confirm', 'physical', 'interaction', 'cdk10', 'cyclin', 'human', 'cellsto', 'unveil', 'hypothesized', 'cdk10cyclin', 'protein', 'kinase', 'activity', 'produced', 'gstcdk10', 'strepiicyclin', 'fusion', 'proteins', 'insect', 'cells', 'either', 'individually', 'combination', 'observed', 'gstcdk10', 'strepiicyclin', 'copurified', 'thus', 'confirming', 'interaction', 'yet', 'another', 'cellular', 'model', 'fig', '2a', 'performed', 'vitro', 'kinase', 'assays', 'purified', 'proteins', 'using', 'histone', 'h1', 'generic', 'substrate', 'histone', 'h1', 'phosphorylation', 'detected', 'lysates', 'cells', 'coexpressing', 'gstcdk10', 'strepiicyclin', 'm', 'phosphorylation', 'detected', 'gstcdk10', 'strepiicyclin', 'expressed', 'alone', 'strepiicyclin', 'coexpressed', 'gstcdk10', 'kd', 'fig', '2a', 'next', 'investigated', 'whether', 'ets2', 'known', 'interact', 'cdk10', '9', 'fig', '1c', 'phosphorylation', 'substrate', 'cdk10cyclin', 'm', 'detected', 'strong', 'phosphorylation', 'ets2', 'gstcdk10strepiicyclin', 'purified', 'heterodimer', 'whereas', 'phosphorylation', 'detected', 'using', 'gstcdk10', 'alone', 'gstcdk10', 'kd', 'strepiicyclin', 'heterodimer', 'fig', '2b', 'fig', '2in', 'new', 'window', 'download', 'pptfig', '2cdk10', 'cyclin', 'mdependent', 'protein', 'kinase', 'vitro', 'protein', 'kinase', 'assay', 'histone', 'h1', 'lysates', 'insect', 'cells', 'expressing', 'different', 'proteins', 'purified', 'glutathione', 'sepharose', 'matrix', 'capture', 'gstcdk10', 'wt', 'kd', 'fusion', 'proteins', 'alone', 'complex', 'strcycm', 'fusion', 'protein', 'purified', 'protein', 'expression', 'levels', 'analyzed', 'western', 'blots', 'top', 'upper', 'middle', 'kinase', 'activity', 'determined', 'autoradiography', 'histone', 'h1', 'whose', 'added', 'amounts', 'visualized', 'coomassie', 'staining', 'lower', 'middle', 'bottom', 'b', 'a', 'using', 'purified', 'recombinant', '6hisets2', 'substratecdk10', 'silencing', 'shown', 'increase', 'ets2driven', 'craf', 'transcription', 'activate', 'mapk', 'pathway', '6', 'investigated', 'whether', 'cyclin', 'also', 'involved', 'regulatory', 'pathway', 'aim', 'highly', 'specific', 'silencing', 'used', 'sirna', 'pools', 'mix', 'four', 'different', 'sirnas', 'low', 'final', 'concentration', '10', 'nm', 'cdk10', 'cyclin', 'sirna', 'pools', 'silenced', 'expression', 'cognate', 'targets', 'fig', '3', 'c', 'fig', 's2', 'and', 'interestingly', 'cyclin', 'sirna', 'pool', 'also', 'caused', 'marked', 'decrease', 'cdk10', 'protein', 'level', 'fig', '3a', 'fig', 's2b', 'results', 'shown', 'fig', '1d', 'suggest', 'cyclin', 'binding', 'stabilizes', 'cdk10', 'cyclin', 'silencing', 'induced', 'increase', 'craf', 'protein', 'mrna', 'levels', 'fig', '3', 'b', 'c', 'phosphorylated', 'erk1', 'erk2', 'protein', 'levels', 'fig', 's3b', 'similarly', 'cdk10', 'silencing', 'expected', 'effects', '6', 'cdk10', 'cyclin', 'silencing', 'decreased', 'sensitivity', 'er', 'mcf7', 'cells', 'tamoxifen', 'similar', 'extent', 'combined', 'silencing', 'genes', 'result', 'higher', 'resistance', 'drug', 'fig', 's3c', 'altogether', 'observations', 'demonstrate', 'functional', 'interaction', 'cyclin', 'cdk10', 'negatively', 'controls', 'ets2fig', '3in', 'new', 'window', 'download', 'pptfig', '3cyclin', 'silencing', 'upregulates', 'craf', 'expression', 'western', 'blot', 'analysis', 'endogenous', 'cdk10', 'cyclin', 'expression', 'levels', 'mcf7', 'cells', 'response', 'sirnamediated', 'gene', 'silencing', 'b', 'western', 'blot', 'analysis', 'endogenous', 'craf', 'expression', 'levels', 'mcf7', 'cells', 'response', 'cdk10', 'cyclin', 'silencing', 'quantification', 'shown', 'fig', 's3a', 'c', 'quantitative', 'rtpcr', 'analysis', 'cdk10', 'cyclin', 'm', 'craf', 'mrna', 'levels', 'response', 'cdk10', 'upper', 'cyclin', 'lower', 'silencing', 'p', '001', 'p', '0001we', 'wished', 'explore', 'mechanism', 'cdk10cyclin', 'controls', 'ets2', 'ets2', 'shortlived', 'protein', 'degraded', 'proteasome', '13', 'straightforward', 'hypothesis', 'cdk10cyclin', 'positively', 'controls', 'ets2', 'degradation', 'thus', 'examined', 'impact', 'cdk10', 'cyclin', 'silencing', 'ets2', 'expression', 'levels', 'silencing', 'cdk10', 'cyclin', 'caused', 'increase', 'expression', 'levels', 'exogenously', 'expressed', 'flagets2', 'protein', 'fig', 's4a', 'well', 'endogenous', 'ets2', 'protein', 'fig', '4a', 'increase', 'attributable', 'increased', 'ets2', 'mrna', 'levels', 'marginally', 'fluctuated', 'response', 'cdk10', 'cyclin', 'silencing', 'fig', 's4b', 'examined', 'expression', 'levels', 'flagtagged', 'ets2', 'protein', 'expressed', 'alone', 'combination', 'myccdk10', 'cdk10', 'kd', 'without', 'cyclin', 'mv56his', 'flagets2', 'readily', 'detected', 'expressed', 'alone', 'or', 'lesser', 'extent', 'coexpressed', 'cdk10', 'kd', 'however', 'expression', 'level', 'dramatically', 'decreased', 'coexpressed', 'cdk10', 'alone', 'cdk10', 'cyclin', 'fig', '4b', 'observations', 'suggest', 'endogenous', 'cyclin', 'levels', 'excess', 'compared', 'cdk10', 'mcf7', 'cells', 'show', 'major', 'decrease', 'ets2', 'levels', 'observed', 'upon', 'cdk10', 'coexpression', 'involves', 'cdk10', 'kinase', 'activity', 'treatment', 'cells', 'coexpressing', 'flagets2', 'cdk10', 'cyclin', 'proteasome', 'inhibitor', 'mg132', 'largely', 'rescued', 'flagets2', 'expression', 'levels', 'fig', '4b', 'fig', '4in', 'new', 'window', 'download', 'pptfig', '4cdk10cyclin', 'controls', 'ets2', 'stability', 'human', 'cancer', 'derived', 'cells', 'western', 'blot', 'analysis', 'endogenous', 'ets2', 'expression', 'levels', 'mcf7', 'cells', 'response', 'sirnamediated', 'cdk10', 'andor', 'cyclin', 'silencing', 'quantification', 'shown', 'fig', 's4b', 'b', 'western', 'blot', 'analysis', 'exogenously', 'expressed', 'flagets2', 'protein', 'levels', 'mcf7', 'cells', 'cotransfected', 'empty', 'vectors', 'coexpressing', 'myccdk10', 'wt', 'kd', 'myccdk10cycmv56his', 'latter', 'cells', 'treated', '16', 'h', 'mg132', 'proteasome', 'inhibitor', 'proper', 'expression', 'cdk10', 'cyclin', 'tagged', 'proteins', 'verified', 'western', 'blot', 'analysis', 'c', 'western', 'blot', 'analysis', 'expression', 'levels', 'exogenously', 'expressed', 'flagets2', 'wildtype', 'mutant', 'proteins', 'mcf7', 'cells', 'absence', 'c', 'response', 'myccdk10cycmv56his', 'expression', 'quantifications', 'shown', 'fig', 's4', 'c', 'da', 'mass', 'spectrometry', 'analysis', 'recombinant', 'ets2', 'phosphorylated', 'cdk10cyclin', 'vitro', 'revealed', 'existence', 'multiple', 'phosphorylated', 'residues', 'among', 'two', 'neighboring', 'phosphoserines', 'positions', '220', '225', 'may', 'form', 'phosphodegron', '14', 'figs', 's5', 's8', 'confirm', 'finding', 'compared', 'phosphorylation', 'level', 'recombinant', 'ets2wt', 'ets2sasa', 'protein', 'mutant', 'bearing', 'alanine', 'substitutions', 'two', 'serines', 'expected', 'existence', 'multiple', 'phosphorylation', 'sites', 'detected', 'small', 'reproducible', 'significant', 'decrease', 'phosphorylation', 'level', 'ets2sasa', 'compared', 'ets2wt', 'fig', 's9', 'thus', 'confirming', 'ser220ser225', 'phosphorylated', 'cdk10cyclin', 'm', 'establish', 'direct', 'link', 'ets2', 'phosphorylation', 'cdk10cyclin', 'degradation', 'examined', 'expression', 'levels', 'flagets2sasa', 'absence', 'cdk10cyclin', 'coexpression', 'differ', 'significantly', 'flagets2', 'contrary', 'flagets2dbm', 'bearing', 'deletion', 'nterminal', 'destruction', 'd', 'box', 'previously', 'shown', 'involved', 'apccdh1', 'mediated', 'degradation', 'ets2', '13', 'fig', '4c', 'however', 'contrary', 'flagets2', 'wild', 'type', 'expression', 'level', 'flagets2sasa', 'remained', 'insensitive', 'cdk10cyclin', 'coexpression', 'fig', '4d', 'altogether', 'results', 'suggest', 'cdk10cyclin', 'directly', 'controls', 'ets2', 'degradation', 'phosphorylation', 'two', 'serinesfinally', 'studied', 'lymphoblastoid', 'cell', 'line', 'derived', 'patient', 'star', 'syndrome', 'bearing', 'fam58a', 'mutation', 'c5551g', 'a', 'predicted', 'result', 'aberrant', 'splicing', '10', 'accordance', 'incomplete', 'skewing', 'x', 'chromosome', 'inactivation', 'previously', 'found', 'patient', 'detected', 'decreased', 'expression', 'level', 'cyclin', 'protein', 'star', 'cell', 'line', 'compared', 'control', 'lymphoblastoid', 'cell', 'line', 'line', 'preceding', 'observations', 'detected', 'increased', 'expression', 'level', 'ets2', 'protein', 'star', 'cell', 'line', 'compared', 'control', 'fig', '5a', 'fig', 's10a', 'examined', 'quantitative', 'rtpcr', 'mrna', 'expression', 'levels', 'corresponding', 'genes', 'star', 'cell', 'line', 'showed', 'decreased', 'expression', 'level', 'cyclin', 'mrna', 'expression', 'level', 'ets2', 'mrna', 'similar', 'control', 'cell', 'line', 'fig', '5b', 'demonstrate', 'increase', 'ets2', 'protein', 'expression', 'indeed', 'result', 'decreased', 'cyclin', 'expression', 'observed', 'star', 'patientderived', 'cell', 'line', 'expressed', 'cyclin', 'mv56his', 'cell', 'line', 'expression', 'caused', 'decrease', 'ets2', 'protein', 'levels', 'fig', '5c', 'fig', '5in', 'new', 'window', 'download', 'pptfig', '5decreased', 'cyclin', 'expression', 'star', 'patientderived', 'cells', 'results', 'increased', 'ets2', 'protein', 'level', 'western', 'blot', 'analysis', 'cyclin', 'ets2', 'protein', 'levels', 'star', 'patientderived', 'lymphoblastoid', 'cell', 'line', 'control', 'lymphoblastoid', 'cell', 'line', 'derived', 'healthy', 'individual', 'quantification', 'shown', 'fig', 's10a', 'b', 'quantitative', 'rtpcr', 'analysis', 'cyclin', 'ets2', 'mrna', 'levels', 'cells', 'p', '0001', 'c', 'western', 'blot', 'analysis', 'ets2', 'protein', 'levels', 'star', 'patientderived', 'lymphoblastoid', 'cell', 'line', 'transfected', 'empty', 'vector', 'vector', 'directing', 'expression', 'cyclin', 'mv56his', 'another', 'western', 'blot', 'revealing', 'endogenously', 'exogenously', 'expressed', 'cyclin', 'levels', 'shown', 'fig', 's10b', 'quantification', 'ets2', 'protein', 'levels', 'shown', 'fig', 's10cprevious', 'sectionnext', 'sectiondiscussionin', 'work', 'unveil', 'interaction', 'cdk10', 'last', 'orphan', 'cdk', 'discovered', 'pregenomic', 'era', '2', 'cyclin', 'm', 'cyclin', 'associated', 'human', 'genetic', 'disease', 'far', 'whose', 'functions', 'remain', 'unknown', '10', 'closest', 'paralogs', 'cdk10', 'within', 'cdk', 'family', 'cdk11', 'proteins', 'interact', 'ltype', 'cyclins', '15', 'interestingly', 'closest', 'paralog', 'cyclins', 'within', 'cyclin', 'family', 'cyclin', 'fig', 's11', 'fact', 'none', 'shorter', 'cdk10', 'isoforms', 'interact', 'robustly', 'cyclin', 'suggests', 'alternative', 'splicing', 'cdk10', 'gene', '16', '17', 'plays', 'important', 'role', 'regulating', 'cdk10', 'functionsthe', 'functional', 'relevance', 'interaction', 'cdk10', 'cyclin', 'supported', 'different', 'observations', 'proteins', 'seem', 'enhance', 'stability', 'judged', 'increased', 'expression', 'levels', 'partner', 'exogenously', 'coexpressed', 'fig', '1d', 'much', 'reduced', 'endogenous', 'cdk10', 'expression', 'level', 'observed', 'response', 'cyclin', 'silencing', 'fig', '3a', 'fig', 's2b', 'cdk10', 'subject', 'ubiquitinmediated', 'degradation', '18', 'observations', 'suggest', 'cyclin', 'protects', 'cdk10', 'degradation', 'cyclin', 'partner', 'cdk10', 'least', 'mcf7', 'cells', 'also', 'suggest', 'cyclin', 'stability', 'enhanced', 'upon', 'binding', 'cdk10', 'independently', 'kinase', 'activity', 'seen', 'cyclin', 'c', 'cdk8', '19', 'uncover', 'cyclin', 'mdependent', 'cdk10', 'protein', 'kinase', 'activity', 'vitro', 'thus', 'demonstrating', 'protein', 'named', 'cdk', 'sole', 'basis', 'amino', 'acid', 'sequence', 'indeed', 'genuine', 'cyclindependent', 'kinase', 'y2h', 'assays', 'reveal', 'truncated', 'cyclin', 'proteins', 'corresponding', 'hypothetical', 'products', 'two', 'star', 'syndromeassociated', 'fam58a', 'mutations', 'produce', 'interaction', 'phenotype', 'cdk10', 'hence', 'regardless', 'whether', 'mutated', 'mrnas', 'undergo', 'nonsensemediated', 'decay', 'suggested', 'decreased', 'cyclin', 'mrna', 'levels', 'star', 'cells', 'shown', 'fig', '5b', 'give', 'rise', 'truncated', 'cyclin', 'proteins', 'females', 'affected', 'star', 'syndrome', 'must', 'exhibit', 'compromised', 'cdk10cyclin', 'kinase', 'activity', 'least', 'tissues', 'specific', 'developmental', 'stageswe', 'show', 'ets2', 'known', 'interactor', 'cdk10', 'phosphorylation', 'substrate', 'cdk10cyclin', 'vitro', 'cdk10cyclin', 'kinase', 'activity', 'positively', 'controls', 'ets2', 'degradation', 'proteasome', 'control', 'seems', 'exerted', 'fine', 'mechanism', 'judged', 'sensitivity', 'ets2', 'levels', 'partially', 'decreased', 'cdk10', 'cyclin', 'levels', 'achieved', 'mcf7', 'cells', 'observed', 'star', 'cells', 'respectively', 'findings', 'offer', 'straightforward', 'explanation', 'already', 'reported', 'upregulation', 'ets2driven', 'transcription', 'craf', 'response', 'cdk10', 'silencing', '6', 'bring', 'evidence', 'cdk10cyclin', 'directly', 'controls', 'ets2', 'degradation', 'phosphorylation', 'two', 'neighboring', 'serines', 'may', 'form', 'noncanonical', 'trcp', 'phosphodegron', 'dsmcpas', '14', 'none', 'two', 'serines', 'precede', 'proline', 'conform', 'usual', 'cdk', 'phosphorylation', 'sites', 'however', 'multiple', 'socalled', 'transcriptional', 'cdks', 'cdk7', '8', '9', '11', 'cdk10', 'may', 'belong', 'fig', 's11', 'shown', 'phosphorylate', 'variety', 'motifs', 'non', 'prolinedirected', 'fashion', 'especially', 'context', 'molecular', 'docking', 'substrate', '20', 'here', 'hypothesized', 'highaffinity', 'interaction', 'cdk10', 'pointed', 'domain', 'ets2', '6', '9', 'fig', '1c', 'would', 'allow', 'dockingmediated', 'phosphorylation', 'atypical', 'sites', 'control', 'ets2', 'degradation', 'involves', 'number', 'players', 'including', 'apccdh1', '13', 'cullinring', 'ligase', 'crl4', '21', 'formal', 'identification', 'ubiquitin', 'ligase', 'involved', 'cdk10cyclin', 'pathway', 'elucidation', 'concerted', 'action', 'ubiquitin', 'ligases', 'regulate', 'ets2', 'degradation', 'require', 'studiesour', 'results', 'present', 'number', 'significant', 'biological', 'medical', 'implications', 'first', 'shed', 'light', 'regulation', 'ets2', 'plays', 'important', 'role', 'development', '22', 'frequently', 'deregulated', 'many', 'cancers', '23', 'second', 'results', 'contribute', 'understanding', 'molecular', 'mechanisms', 'causing', 'tamoxifen', 'resistance', 'associated', 'reduced', 'cdk10', 'expression', 'levels', 'suggest', 'that', 'like', 'cdk10', '6', 'cyclin', 'could', 'also', 'predictive', 'clinical', 'marker', 'hormone', 'therapy', 'response', 'er', 'positive', 'breast', 'cancer', 'patients', 'third', 'findings', 'offer', 'interesting', 'hypothesis', 'molecular', 'mechanisms', 'underlying', 'star', 'syndrome', 'ets2', 'transgenic', 'mice', 'showing', 'less', 'twofold', 'overexpression', 'ets2', 'present', 'severe', 'cranial', 'abnormalities', '24', 'observed', 'star', 'patients', 'could', 'thus', 'caused', 'least', 'part', 'increased', 'ets2', 'protein', 'levels', 'another', 'expected', 'consequence', 'enhanced', 'ets2', 'expression', 'levels', 'would', 'decreased', 'risk', 'develop', 'certain', 'types', 'cancers', 'increased', 'risk', 'develop', 'others', 'studies', 'various', 'mouse', 'models', 'including', 'models', 'syndrome', 'three', 'copies', 'ets2', 'exist', 'revealed', 'ets2', 'dosage', 'repress', 'promote', 'tumor', 'growth', 'and', 'hence', 'ets2', 'exerts', 'noncell', 'autonomous', 'functions', 'cancer', '25', 'intringuingly', 'one', 'star', 'patients', 'identified', 'far', 'diagnosed', 'nephroblastoma', '26', 'finally', 'findings', 'facilitate', 'general', 'exploration', 'biological', 'functions', 'cdk10', 'and', 'particular', 'role', 'control', 'cell', 'division', 'previous', 'studies', 'suggested', 'either', 'positive', 'role', 'cell', 'cycle', 'control', '5', '6', 'tumorsuppressive', 'activity', 'cancers', '7', '8', 'severe', 'growth', 'retardation', 'exhibited', 'star', 'patients', 'strongly', 'suggests', 'cdk10cyclin', 'plays', 'important', 'role', 'control', 'cell', 'proliferationprevious', 'sectionnext', 'sectionmaterials', 'methodscloning', 'cdk10', 'cyclin', 'cdnas', 'plasmid', 'constructions', 'tamoxifen', 'response', 'analysis', 'quantitative', 'rtpcr', 'mass', 'spectrometry', 'experiments', 'antibody', 'production', 'detailed', 'si', 'materials', 'methodsyeast', 'twohybrid', 'interaction', 'assays', 'performed', 'yeast', 'interaction', 'mating', 'assays', 'previously', 'described', '27', 'mammalian', 'cell', 'cultures', 'transfections', 'grew', 'human', 'hek293', 'mcf7', 'cells', 'dmem', 'supplemented', '10', 'volvol', 'fbs', 'invitrogen', 'grew', 'lymphoblastoid', 'cells', 'rpmi', '1640', 'glutamax', 'supplemented', '15', 'volvol', 'fbs', 'transfected', 'hek293', 'mcf7', 'cells', 'using', 'lipofectamine', '2000', 'invitrogen', 'plasmids', 'lipofectamine', 'rnaimax', 'invitrogen', 'sirnas', 'jetprime', 'polyplus', 'plasmidssirnas', 'combinations', 'according', 'manufacturers', 'instructions', 'transfected', 'lymphoblastoid', 'cells', 'electroporation', 'neon', 'invitrogen', 'ets2', 'stability', 'studies', 'treated', 'mcf7', 'cells', '32', 'h', 'transfection', '10', 'mg132', 'fisher', 'scientific', '16', 'hcoimmunoprecipitation', 'western', 'blot', 'experiments', 'collected', 'cells', 'scraping', 'pbs', 'centrifugation', 'lymphoblastoid', 'cells', 'lysed', 'sonication', 'lysis', 'buffer', 'containing', '60', 'mm', 'glycerophosphate', '15', 'mm', 'pnitrophenylphosphate', '25', 'mm', '3', 'nmorpholino', 'propanesulfonic', 'acid', 'mops', 'ph', '72', '15', 'mm', 'egta', '15', 'mm', 'mgcl2', '1', 'mm', 'na', 'vanadate', '1', 'mm', 'naf', '1mm', 'phenylphosphate', '01', 'nonidet', 'p40', 'protease', 'inhibitor', 'mixture', 'roche', 'spun', 'lysates', '15', 'min', '20000', 'g', '4', 'c', 'collected', 'supernatants', 'determined', 'protein', 'content', 'using', 'bradford', 'assay', 'performed', 'immunoprecipitation', 'experiments', '500', 'g', 'total', 'proteins', 'lysis', 'buffer', 'precleared', 'lysates', '20', 'l', 'protein', 'gagarose', 'beads', 'incubated', '1', 'h', '4', 'c', 'rotating', 'wheel', 'added', '5', 'g', 'antibody', 'supernatants', 'incubated', '1', 'h', '4', 'c', 'rotating', 'wheel', 'added', '20', 'l', 'protein', 'gagarose', 'beads', 'incubated', '1', 'h', '4', 'c', 'rotating', 'wheel', 'collected', 'beads', 'centrifugation', '30', '18000', 'g', '4', 'c', 'washed', 'three', 'times', 'bead', 'buffer', 'containing', '50', 'mm', 'tris', 'ph', '74', '5', 'mm', 'naf', '250', 'mm', 'nacl', '5', 'mm', 'edta', '5', 'mm', 'egta', '01', 'nonidet', 'p40', 'protease', 'inhibitor', 'coktail', 'roche', 'directly', 'added', 'sample', 'buffer', 'washed', 'pellets', 'heatdenatured', 'proteins', 'ran', 'samples', '10', 'bistris', 'sdspage', 'transferred', 'proteins', 'onto', 'hybond', 'nitrocellulose', 'membranes', 'processed', 'blots', 'according', 'standard', 'procedures', 'western', 'blot', 'experiments', 'used', 'following', 'primary', 'antibodies', 'antimyc', 'abcam', 'ab9106', '12000', 'antiv5', 'invitrogen', 'r960', '15000', 'antitubulin', 'santa', 'cruz', 'biotechnology', 'b7', '1500', 'anticdk10', 'covalab', 'pab0847p', '1500', 'santa', 'cruz', 'biotechnology', 'c19', '1500', 'anticycm', 'homemade', 'dilution', '1500', 'covalab', 'pab0882p', 'dilution', '1500', 'antiraf1', 'santa', 'cruz', 'biotechnology', 'c20', '11000', 'antiets2', 'santa', 'cruz', 'biotechnology', 'c20', '11000', 'antiflag', 'sigma', 'f7425', '11000', 'antiactin', 'sigma', 'a5060', '15000', 'used', 'hrpcoupled', 'antigoat', 'santa', 'cruz', 'biotechnology', 'sc2033', 'dilution', '12000', 'antimouse', 'biorad', '170', '6516', 'dilution', '13000', 'antirabbit', 'biorad', '172', '1019', '15000', 'secondary', 'antibodies', 'revealed', 'blots', 'enhanced', 'chemiluminescence', 'supersignal', 'west', 'femto', 'thermo', 'scientific', 'production', 'purification', 'recombinant', 'proteinsgstcdk10', 'kd', 'strepiicycm', 'generated', 'recombinant', 'bacmids', 'dh10bac', 'escherichia', 'coli', 'baculoviruses', 'sf9', 'cells', 'using', 'bactobac', 'system', 'described', 'provider', 'invitrogen', 'infected', 'sf9', 'cells', 'gstcdk10', 'gstcdk10kd', 'producing', 'viruses', 'coinfected', 'cells', 'strepiicycm', 'producing', 'viruses', 'collected', 'cells', '72', 'h', 'infection', 'purify', 'gstfusion', 'proteins', 'spun', '250', 'ml', 'cells', 'resuspended', 'pellet', '40', 'ml', 'lysis', 'buffer', 'pbs', '250', 'mm', 'nacl', '05', 'nonidet', 'p40', '50', 'mm', 'naf', '10', 'mm', 'glycerophosphate', '03', 'mm', 'navanadate', 'containing', 'protease', 'inhibitor', 'mixture', 'roche', 'lysed', 'cells', 'sonication', 'spun', 'lysate', '30', 'min', '15000', 'g', 'collected', 'soluble', 'fraction', 'added', '1ml', 'glutathionesepharose', 'matrix', 'incubated', '1', 'h', '4', 'c', 'washed', 'four', 'times', 'lysis', 'buffer', 'one', 'time', 'kinase', 'buffer', 'see', 'finally', 'resuspended', 'beads', '100', 'l', 'kinase', 'buffer', 'containing', '10', 'volvol', 'glycerol', 'storage6hisets2', 'transformed', 'origami2', 'de3', 'novagen', '6hisets2', 'expression', 'vector', 'induced', 'expression', '02', 'mm', 'isopropyl', 'd1thiogalactopyranoside', '3', 'h', '22', 'c', 'purify', '6hisets2', 'spun', '50', 'ml', 'cells', 'resuspended', 'pellet', '2', 'ml', 'lysis', 'buffer', 'pbs', '300', 'mm', 'nacl', '10', 'mm', 'imidazole', '1', 'mm', 'dtt', '01', 'nonidet', 'p40', 'containing', 'protease', 'inhibitor', 'mixture', 'without', 'edta', 'roche', 'lysed', 'cells', '16', 'bar', 'using', 'cell', 'disruptor', 'spun', 'lysate', '10', 'min', '20000', 'g', 'collected', 'soluble', 'fraction', 'added', '200', 'l', 'cobalt', 'beads', 'thermo', 'scientific', '1', 'h', 'incubation', '4', 'c', 'rotating', 'wheel', 'washed', 'four', 'times', 'lysis', 'buffer', 'elute', 'incubated', 'beads', '30', 'min', 'elution', 'buffer', 'pbs', '250', 'mm', 'imidazole', 'ph', '76', 'containing', 'protease', 'inhibitor', 'mixture', 'spun', '30', '10000', 'g', 'collected', 'eluted', 'proteinprotein', 'kinase', 'assays', 'mixed', 'glutathionesepharose', 'beads', 'harboring', 'gstcdk10', 'wt', 'kd', 'either', 'monomeric', 'complexed', 'strepiicycm', '227', 'bsa', '15', 'mm', 'dtt', '100', 'atp', '5', 'ci', 'atp', '32p', '775', 'histone', 'h1', '1', '6hisets2', 'added', 'kinase', 'buffer', '25', 'mm', 'tris', 'hcl', '10', 'mm', 'mgcl2', '1', 'mm', 'egta', '1', 'mm', 'dtt', '37', 'heparin', 'ph', '75', 'total', 'volume', '30', 'l', 'incubated', 'reactions', '30', 'min', '30', 'c', 'added', 'laemli', 'sample', 'buffer', 'heatdenatured', 'samples', 'ran', '10', 'bistris', 'sdspage', 'cut', 'gel', 'slices', 'detect', 'gstcdk10', 'strepiicycm', 'western', 'blotting', 'stained', 'gel', 'slices', 'containing', 'substrate', 'coomassie', 'r250', 'biorad', 'dried', 'them', 'detected', 'incorporated', 'radioactivity', 'autoradiography', 'identified', 'four', 'unrelated', 'girls', 'anogenital', 'renal', 'malformations', 'dysmorphic', 'facial', 'features', 'normal', 'intellect', 'syndactyly', 'toes', 'similar', 'combination', 'features', 'reported', 'previously', 'mother', 'daughter', 'pair1', 'table', '1', 'supplementary', 'note', 'online', 'authors', 'noted', 'clinical', 'overlap', 'townesbrocks', 'syndrome', 'suggested', 'phenotype', 'represented', 'separate', 'autosomal', 'dominant', 'entity', 'mim601446', 'define', 'cardinal', 'features', 'syndrome', 'characteristic', 'facial', 'appearance', 'apparent', 'telecanthus', 'broad', 'tripartite', 'nasal', 'tip', 'variable', 'syndactyly', 'toes', '2', '5', 'hypoplastic', 'labia', 'anal', 'atresia', 'urogenital', 'malformations', 'fig', '1a', 'h', 'also', 'observed', 'variety', 'features', 'table', '1', 'figure', '1', 'clinical', 'molecular', 'characterization', 'star', 'syndrome', 'figure', '1', 'clinical', 'molecular', 'characterization', 'star', 'syndrome', 'f', 'facial', 'appearances', 'cases', '1', '3', 'apparent', 'telecanthus', 'dysplastic', 'ears', 'thin', 'upper', 'lips', 'ace', 'toe', 'syndactyly', '2', '5', '3', '5', '4', '5', 'bdf', 'cases', 'illustrate', 'recognizable', 'features', 'star', 'syndrome', 'specific', 'parental', 'consent', 'obtained', 'publication', 'photographs', 'anal', 'atresia', 'hypoplastic', 'labia', 'shown', 'gh', 'xray', 'films', 'feet', 'case', '2', 'showing', 'four', 'rays', 'left', 'deltashaped', '4th', '5th', 'metatarsals', 'right', 'h', 'compare', 'clinical', 'picture', 'arraycgh', 'data', 'log2', 'ratio', 'represents', 'copy', 'number', 'loss', 'six', 'probes', 'spanning', '379', '507', 'kb', 'one', 'probe', 'positioned', 'within', 'fam58a', 'deletion', 'remove', 'parts', 'functional', 'genes', 'j', 'schematic', 'structure', 'fam58a', 'position', 'mutations', 'fam58a', 'five', 'coding', 'exons', 'boxes', 'cyclin', 'domain', 'green', 'encoded', 'exons', '2', '4', 'horizontal', 'arrow', 'indicates', 'deletion', 'extending', '5', 'case', '1', 'includes', 'exons', '1', '2', 'whereas', 'horizontal', 'line', 'exon', '5', 'indicates', 'deletion', 'found', 'case', '3', 'removes', 'exon', '5', '3', 'sequence', 'pink', 'horizontal', 'bars', 'boxes', 'indicate', 'amplicons', 'used', 'qpcr', 'sequencing', 'one', 'alternative', 'exon', '5', 'amplicon', 'indicated', 'space', 'constraints', 'mutation', '201dupt', 'case', '4', 'results', 'immediate', 'stop', 'codon', '5551g', '5551g', 'splice', 'mutations', 'cases', '2', '5', '6', 'predicted', 'deleterious', 'alter', 'conserved', 'splice', 'donor', 'acceptor', 'site', 'intron', '4', 'respectively', 'full', 'size', 'image', '97', 'kb', 'table', '1', 'clinical', 'features', 'star', 'syndrome', 'cases', 'table', '1', 'clinical', 'features', 'star', 'syndrome', 'cases', 'full', 'table', 'basis', 'phenotypic', 'overlap', 'townesbrocks', 'okihiro', 'feingold', 'syndromes', 'analyzed', 'sall1', 'ref', '2', 'sall4', 'ref', '3', 'mycn4', 'found', 'mutations', 'genes', 'supplementary', 'methods', 'online', 'next', 'carried', 'genomewide', 'highresolution', 'oligonucleotide', 'array', 'comparative', 'genomic', 'hybridization', 'cgh', '5', 'analysis', 'supplementary', 'methods', 'genomic', 'dna', 'severely', 'affected', 'individual', 'case', '1', 'lower', 'lid', 'coloboma', 'epilepsy', 'syringomyelia', 'identified', 'heterozygous', 'deletion', '379', '507', 'kb', 'xq28', 'removed', 'exons', '1', '2', 'fam58a', 'fig', '1ij', 'using', 'realtime', 'pcr', 'confirmed', 'deletion', 'child', 'excluded', 'unaffected', 'parents', 'supplementary', 'fig', '1a', 'online', 'supplementary', 'methods', 'supplementary', 'table', '1', 'online', 'cgh', 'customized', 'oligonucleotide', 'array', 'enriched', 'probes', 'xq28', 'followed', 'breakpoint', 'cloning', 'defined', 'exact', 'deletion', 'size', '40068', 'bp', 'g152514164', '152554231del', 'chromosome', 'x', 'ncbi', 'build', '362', 'fig', '1j', 'supplementary', 'figs', '23', 'online', 'deletion', 'removes', 'coding', 'regions', 'exons', '1', '2', 'well', 'intron', '1', '2774', 'bp', '492', 'bp', 'intron', '2', '36608', 'bp', '5', 'sequence', 'including', '5', 'utr', 'entire', 'krt18p48', 'pseudogene', 'ncbi', 'gene', 'id', '340598', 'paternity', 'proven', 'using', 'routine', 'methods', 'find', 'deletions', 'overlapping', 'fam58a', 'available', 'copy', 'number', 'variation', 'cnv', 'databases', 'subsequently', 'carried', 'qpcr', 'analysis', 'three', 'affected', 'individuals', 'cases', '2', '3', '4', 'motherdaughter', 'pair', 'literature', 'cases', '5', '6', 'case', '3', 'detected', 'de', 'novo', 'heterozygous', 'deletion', '11', '103', 'kb', 'overlapping', 'exon', '5', 'supplementary', 'fig', '1b', 'online', 'using', 'xq28targeted', 'array', 'cgh', 'breakpoint', 'cloning', 'identified', 'deletion', '4249', 'bp', 'g152504123', '152508371del', 'chromosome', 'x', 'ncbi', 'build', '362', 'fig', '1j', 'supplementary', 'figs', '23', 'removed', '1265', 'bp', 'intron', '4', 'exon', '5', 'including', '3', 'utr', '2454', 'bp', '3', 'sequence', 'found', 'heterozygous', 'fam58a', 'point', 'mutations', 'remaining', 'cases', 'fig', '1j', 'supplementary', 'fig', '2', 'supplementary', 'methods', 'supplementary', 'table', '1', 'case', '2', 'identified', 'mutation', '5551g', 'a', 'affecting', 'splice', 'donor', 'site', 'intron', '4', 'case', '4', 'identified', 'frameshift', 'mutation', '201dupt', 'immediately', 'results', 'premature', 'stop', 'codon', 'n68xfsx1', 'cases', '5', '6', 'detected', 'mutation', '5561g', 'a', 'alters', 'splice', 'acceptor', 'site', 'intron', '4', 'validated', 'point', 'mutations', 'deletions', 'independent', 'rounds', 'pcr', 'sequencing', 'qpcr', 'confirmed', 'paternity', 'de', 'novo', 'status', 'point', 'mutations', 'deletions', 'sporadic', 'cases', 'none', 'mutations', 'seen', 'dna', '60', 'unaffected', 'female', 'controls', 'larger', 'deletions', 'involving', 'fam58a', 'found', '93', 'unrelated', 'arraycgh', 'investigations', 'analyzing', 'xchromosome', 'inactivation', 'supplementary', 'methods', 'supplementary', 'fig', '4', 'online', 'found', 'complete', 'skewing', 'x', 'inactivation', 'cases', '1', '3', '6', 'almost', 'complete', 'skewing', 'case', '2', 'suggesting', 'cells', 'carrying', 'mutation', 'active', 'x', 'chromosome', 'growth', 'disadvantage', 'fetal', 'development', 'using', 'rtpcr', 'rna', 'lymphoblastoid', 'cells', 'case', '2', 'supplementary', 'fig', '2', 'find', 'aberrant', 'splice', 'products', 'additional', 'evidence', 'mutated', 'allele', 'inactivated', 'furthermore', 'fam58a', 'subjected', 'x', 'inactivation6', 'cases', '1', '3', 'parental', 'origin', 'deletions', 'could', 'determined', 'result', 'lack', 'informative', 'snps', 'case', '5', 'mother', 'case', '6', 'gave', 'birth', 'two', 'boys', 'clinically', 'unaffected', 'samples', 'available', 'cannot', 'exclude', 'condition', 'lethal', 'males', 'fetal', 'losses', 'reported', 'families', 'function', 'fam58a', 'unknown', 'gene', 'consists', 'five', 'coding', 'exons', '642bp', 'coding', 'region', 'encodes', 'protein', '214', 'amino', 'acids', 'genbank', 'lists', 'mrna', 'length', '1257', 'bp', 'reference', 'sequence', 'nm', '1522742', 'expression', 'gene', 'est', 'data', 'found', '27', '48', 'adult', 'tissues', 'including', 'kidney', 'colon', 'cervix', 'uterus', 'heart', 'ncbi', 'expression', 'viewer', 'unigene', 'hs496943', 'expression', 'also', 'noted', '24', '26', 'listed', 'tumor', 'tissues', 'well', 'embryo', 'fetus', 'genes', 'homologous', 'fam58a', 'ncbi', 'homologene', '13362', 'found', 'x', 'chromosome', 'chimpanzee', 'dog', 'zebrafish', 'similar', 'gene', 'chromosome', '23', 'however', 'mouse', 'rat', 'true', 'homologs', 'species', 'similar', 'intronless', 'genes', 'chromosomes', '11', 'mouse', '10', 'rat', 'likely', 'arising', 'retrotransposon', 'insertion', 'event', 'murine', 'x', 'chromosome', 'flanking', 'genes', 'atp2b3', 'dusp9', 'conserved', 'remnants', 'fam58a', 'sequence', 'detected', 'fam58a', 'contains', 'cyclinboxfold', 'domain', 'proteinbinding', 'domain', 'found', 'cyclins', 'role', 'cell', 'cycle', 'transcription', 'control', 'human', 'phenotype', 'resulting', 'cyclin', 'gene', 'mutation', 'yet', 'reported', 'homozygous', 'knockout', 'mice', 'ccnd1', 'encoding', 'cyclin', 'd1', 'viable', 'small', 'reduced', 'lifespan', 'also', 'dystrophic', 'changes', 'retina', 'likely', 'result', 'decreased', 'cell', 'proliferation', 'degeneration', 'photoreceptor', 'cells', 'embryogenesis7', '8', 'cyclin', 'd1', 'colocalizes', 'sall4', 'nucleus', 'proteins', 'cooperatively', 'mediate', 'transcriptional', 'repression9', 'phenotype', 'cases', 'overlaps', 'considerably', 'townesbrocks', 'syndrome', 'caused', 'sall1', 'mutations1', 'carried', 'coimmunoprecipitation', 'find', 'sall1', 'sall4', 'would', 'interact', 'fam58a', 'manner', 'similar', 'observed', 'sall4', 'cyclin', 'd1', 'found', 'fam58a', 'interacts', 'sall1', 'sall4', 'supplementary', 'fig', '5', 'online', 'supporting', 'hypothesis', 'fam58a', 'sall1', 'participate', 'developmental', 'pathway', 'fam58a', 'mutations', 'lead', 'star', 'syndrome', 'growth', 'retardation', 'cases', 'table', '1', 'retinal', 'abnormalities', 'three', 'cases', 'reminiscent', 'reduced', 'body', 'size', 'retinal', 'anomalies', 'cyclin', 'd1', 'knockout', 'mice7', '8', 'therefore', 'proliferation', 'defect', 'might', 'partly', 'responsible', 'star', 'syndrome', 'address', 'question', 'carried', 'knockdown', 'fam58a', 'mrna', 'followed', 'proliferation', 'assay', 'transfection', 'hek293', 'cells', 'three', 'different', 'fam58aspecific', 'rnai', 'oligonucleotides', 'resulted', 'significant', 'reduction', 'fam58a', 'mrna', 'expression', 'proliferation', 'transfected', 'cells', 'supplementary', 'methods', 'supplementary', 'fig', '6', 'online', 'supporting', 'link', 'fam58a', 'cell', 'proliferation', 'found', 'lossoffunction', 'mutations', 'fam58a', 'result', 'rather', 'homogeneous', 'clinical', 'phenotype', 'additional', 'anomalies', 'case', '1', 'likely', 'result', 'effect', '40kb', 'deletion', 'expression', 'neighboring', 'gene', 'possibly', 'atp2b3', 'dusp9', 'however', 'cannot', 'exclude', 'homogeneous', 'phenotype', 'results', 'ascertainment', 'bias', 'fam58a', 'mutations', 'including', 'missense', 'changes', 'could', 'result', 'broader', 'spectrum', 'malformations', 'genes', 'causing', 'overlapping', 'phenotypes', 'star', 'syndrome', 'townesbrocks', 'syndrome', 'seem', 'act', 'pathway', 'note', 'mycn', 'gene', 'mutated', 'feingold', 'syndrome', 'direct', 'regulator', 'cyclin', 'd2', 'refs', '1011', 'thus', 'worth', 'exploring', 'whether', 'phenotypic', 'similarities', 'feingold', 'star', 'syndrome', 'might', 'explained', 'direct', 'regulation', 'fam58a', 'mycn', 'fam58a', 'located', 'approximately', '056', 'mb', 'centromeric', 'mecp2', 'xq28', 'duplications', 'overlapping', 'mecp2', 'fam58a', 'described', 'associated', 'clinical', 'phenotype', 'females12', 'deletions', 'overlapping', 'mecp2', 'fam58a', 'observed', 'date13', 'although', 'genes', 'fam58a', 'mecp2', 'implicated', 'brain', 'development', 'fam58a', 'mecp2', 'genes', 'region', 'known', 'result', 'xlinked', 'dominant', 'phenotypes', 'thus', 'deletion', 'genes', 'allele', 'might', 'lethal', 'males', 'females'], tags=['Text_0'])"
      ]
     },
     "execution_count": 42,
     "metadata": {},
     "output_type": "execute_result"
    }
   ],
   "source": [
    "sentences_train = constructLabeledSentences(allText_train)\n",
    "sentences_test = constructLabeledSentences(allText_test)\n",
    "sentences_train[0]"
   ]
  },
  {
   "cell_type": "markdown",
   "metadata": {},
   "source": [
    "### Classification w/ Doc2Vec\n"
   ]
  },
  {
   "cell_type": "code",
   "execution_count": 43,
   "metadata": {},
   "outputs": [],
   "source": [
    "from gensim.models import Doc2Vec\n",
    "\n",
    "Text_INPUT_DIM=300\n",
    "filename='docEmbeddings_5_clean.d2v'\n",
    "\n",
    "if os.path.isfile(filename):\n",
    "    text_model = Doc2Vec.load(filename)\n",
    "else:\n",
    "    text_model = Doc2Vec(min_count=1, window=5, size=Text_INPUT_DIM, sample=1e-4, negative=5, workers=4, iter=5,seed=1)\n",
    "    text_model.build_vocab(sentences_train)\n",
    "    text_model.train(sentences_train, total_examples=text_model.corpus_count, epochs=text_model.iter)\n",
    "    text_model.save(filename)"
   ]
  },
  {
   "cell_type": "code",
   "execution_count": 44,
   "metadata": {
    "scrolled": true
   },
   "outputs": [],
   "source": [
    "# grab the training data vectors learned by Dov2Vec\n",
    "text_train_arrays = text_model.docvecs.vectors_docs"
   ]
  },
  {
   "cell_type": "markdown",
   "metadata": {},
   "source": [
    "### Predict on test set"
   ]
  },
  {
   "cell_type": "code",
   "execution_count": 45,
   "metadata": {},
   "outputs": [],
   "source": [
    "# turn the test set into embedded vectors based on text_model\n",
    "test_size = len(test_df_truncated)\n",
    "text_test_arrays = np.zeros((test_size, Text_INPUT_DIM))\n",
    "\n",
    "for i in range(test_size):\n",
    "    text_test_arrays[i] = text_model.infer_vector(sentences_test[i][0])"
   ]
  },
  {
   "cell_type": "code",
   "execution_count": 46,
   "metadata": {
    "scrolled": true
   },
   "outputs": [],
   "source": [
    "# Find the class and ID of the document most similar to each of the test examples\n",
    "\n",
    "#print(u'SIMILAR/DISSIMILAR DOCS PER MODEL %s:\\n' % text_model)\n",
    "#for label, index in [('MOST', 0), ('MEDIAN', len(sims)//2), ('LEAST', len(sims) - 1)]:\n",
    "#    print(u'%s %s: «%s»\\n' % (label, sims[index], ' '.join(train_df.iloc[int(sims[index][0].split('_')[1])].Text)))\n",
    "#train_df.iloc[most_similar_index].Text\n",
    "test_size = len(test_df_truncated)\n",
    "pred_class = np.zeros((test_size, 1))\n",
    "pred_ID = np.zeros((test_size, 1))\n",
    "\n",
    "for i in range(test_size):\n",
    "    sims = text_model.docvecs.most_similar([text_test_arrays[i]], topn=len(text_model.docvecs))\n",
    "    most_similar_index = int(sims[0][0].split('_')[1])\n",
    "    j = 1\n",
    "    while most_similar_index > len(train_df):\n",
    "        most_similar_index = int(sims[j][0].split('_')[1])\n",
    "        j = j+1\n",
    "    pred_class[i] = train_df.iloc[most_similar_index].Class\n",
    "    pred_ID[i] = test_df_truncated.iloc[i].ID\n",
    "   \n"
   ]
  },
  {
   "cell_type": "code",
   "execution_count": 48,
   "metadata": {},
   "outputs": [],
   "source": [
    "# one hot -> series\n",
    "sol_size = len(solution_df_truncated)\n",
    "desired_class = np.zeros((sol_size,1))\n",
    "desired_ID = np.zeros((sol_size,1))\n",
    "\n",
    "for i in range(sol_size):\n",
    "    desired_class[i] = np.where(solution_df_truncated.iloc[i] == 1)[0][0]+1\n",
    "    desired_ID[i] =  solution_df_truncated.index[i]"
   ]
  },
  {
   "cell_type": "code",
   "execution_count": 49,
   "metadata": {},
   "outputs": [
    {
     "name": "stdout",
     "output_type": "stream",
     "text": [
      "<class 'numpy.ndarray'>\n",
      "<class 'numpy.ndarray'>\n"
     ]
    }
   ],
   "source": [
    "y_pred = pred_class.ravel()\n",
    "y_true = desired_class.ravel()\n",
    "print(type(y_pred))\n",
    "print(type(y_true))"
   ]
  },
  {
   "cell_type": "code",
   "execution_count": 50,
   "metadata": {},
   "outputs": [
    {
     "data": {
      "image/png": "[encoded data removed]",
      "text/plain": [
       "<Figure size 432x288 with 2 Axes>"
      ]
     },
     "metadata": {
      "needs_background": "light"
     },
     "output_type": "display_data"
    }
   ],
   "source": [
    "# build confusion matrix\n",
    "confusion = pd.crosstab(y_true,y_pred,margins = False)\n",
    "sns.heatmap(confusion,annot=True)\n",
    "plt.xlabel('Predicted')\n",
    "plt.ylabel('Desired')\n",
    "plt.show()"
   ]
  },
  {
   "cell_type": "code",
   "execution_count": 51,
   "metadata": {
    "scrolled": true
   },
   "outputs": [
    {
     "name": "stdout",
     "output_type": "stream",
     "text": [
      "              precision    recall  f1-score   support\n",
      "\n",
      "         1.0       0.46      0.40      0.43        99\n",
      "         2.0       0.38      0.27      0.31        98\n",
      "         3.0       0.18      0.22      0.20         9\n",
      "         4.0       0.43      0.56      0.49        85\n",
      "         5.0       0.40      0.43      0.41        28\n",
      "         6.0       0.29      0.48      0.36        23\n",
      "         7.0       0.47      0.59      0.52       106\n",
      "         8.0       0.20      0.03      0.05        34\n",
      "         9.0       0.83      0.50      0.62        10\n",
      "\n",
      "    accuracy                           0.42       492\n",
      "   macro avg       0.40      0.39      0.38       492\n",
      "weighted avg       0.41      0.42      0.41       492\n",
      "\n",
      "MCC: 0.3072630287391503\n"
     ]
    }
   ],
   "source": [
    "# some basic metrics of this result\n",
    "from sklearn.metrics import classification_report\n",
    "from sklearn.metrics import matthews_corrcoef\n",
    "\n",
    "print(classification_report(y_true,y_pred))\n",
    "print('MCC:', matthews_corrcoef(y_true,y_pred))"
   ]
  },
  {
   "cell_type": "code",
   "execution_count": 52,
   "metadata": {},
   "outputs": [],
   "source": [
    "# save our results so far as \"cleaned\" data\n",
    "import pickle\n",
    "\n",
    "# Saving the objects:\n",
    "with open('cleaned_train_test_d2v.pkl', 'wb') as f:  # Python 3: open(..., 'wb')\n",
    "    pickle.dump([train_df, test_df, test_df_truncated, solution_df_truncated,\n",
    "                 desired_class, desired_ID,\n",
    "                 text_train_arrays, text_test_arrays], f)\n",
    "    \n"
   ]
  },
  {
   "cell_type": "markdown",
   "metadata": {},
   "source": [
    "out of curiosity, what are the metrics if we assess the training set set?"
   ]
  },
  {
   "cell_type": "code",
   "execution_count": 54,
   "metadata": {},
   "outputs": [],
   "source": [
    "# Don't have to run this line since these variables already exist in your workspace\n",
    "import pickle\n",
    "\n",
    "train_df, test_df, test_df_truncated, solution_df_truncated,desired_class, desired_ID,text_train_arrays, text_test_arrays = pickle.load( open( \"cleaned_train.pkl\", \"rb\" ) )\n"
   ]
  },
  {
   "cell_type": "code",
   "execution_count": 55,
   "metadata": {},
   "outputs": [],
   "source": [
    "train_size = train_df.shape[0]\n",
    "pred_class = np.zeros((train_size, 1))\n",
    "pred_ID = np.zeros((train_size, 1))\n",
    "\n",
    "for i in range(train_size):\n",
    "    sims = text_model.docvecs.most_similar([text_train_arrays[i]], topn=len(text_model.docvecs))\n",
    "    most_similar_index = int(sims[0][0].split('_')[1])\n",
    "    j = 1\n",
    "    while most_similar_index >= len(train_df):\n",
    "        most_similar_index = int(sims[j][0].split('_')[1])\n",
    "        j = j+1\n",
    "    pred_class[i] = train_df.iloc[most_similar_index].Class\n",
    "    pred_ID[i] = train_df.iloc[i].ID\n",
    "    \n",
    "    "
   ]
  },
  {
   "cell_type": "code",
   "execution_count": 56,
   "metadata": {},
   "outputs": [],
   "source": [
    "desired_class = train_df.Class"
   ]
  },
  {
   "cell_type": "code",
   "execution_count": 57,
   "metadata": {},
   "outputs": [
    {
     "data": {
      "image/png": "[encoded data removed]",
      "text/plain": [
       "<Figure size 432x288 with 2 Axes>"
      ]
     },
     "metadata": {
      "needs_background": "light"
     },
     "output_type": "display_data"
    }
   ],
   "source": [
    "# build confusion matrix\n",
    "confusion = pd.crosstab(pred_class.ravel(),desired_class,margins = False)\n",
    "sns.heatmap(confusion,annot=True)\n",
    "plt.xlabel('Predicted')\n",
    "plt.ylabel('Desired')\n",
    "plt.show()"
   ]
  },
  {
   "cell_type": "code",
   "execution_count": 58,
   "metadata": {},
   "outputs": [
    {
     "name": "stdout",
     "output_type": "stream",
     "text": [
      "              precision    recall  f1-score   support\n",
      "\n",
      "           1       0.60      0.60      0.60       566\n",
      "           2       0.53      0.53      0.53       452\n",
      "           3       0.40      0.40      0.40        89\n",
      "           4       0.73      0.73      0.73       686\n",
      "           5       0.35      0.35      0.35       242\n",
      "           6       0.48      0.48      0.48       273\n",
      "           7       0.66      0.66      0.66       952\n",
      "           8       0.42      0.42      0.42        19\n",
      "           9       0.68      0.68      0.68        37\n",
      "\n",
      "    accuracy                           0.60      3316\n",
      "   macro avg       0.54      0.54      0.54      3316\n",
      "weighted avg       0.60      0.60      0.60      3316\n",
      "\n",
      "MCC: 0.5095497301461036\n"
     ]
    }
   ],
   "source": [
    "print(classification_report(desired_class,pred_class.ravel()))\n",
    "print('MCC:', matthews_corrcoef(desired_class,pred_class.ravel()))"
   ]
  },
  {
   "cell_type": "markdown",
   "metadata": {},
   "source": [
    "As expected, performance is higher when evaluating on the training set"
   ]
  },
  {
   "cell_type": "markdown",
   "metadata": {},
   "source": [
    "## Bag of Words\n",
    "Bag of words embedding is based on the number of occurance of each word in the text, so we'd expect classification accuracy to be lower than doc2vec\n",
    "\n",
    "In this section, we do the following:\n",
    "1. Embed the word into vectors\n",
    "2. Truncate the vectors with SVD"
   ]
  },
  {
   "cell_type": "code",
   "execution_count": null,
   "metadata": {},
   "outputs": [],
   "source": [
    "from sklearn.feature_extraction.text import CountVectorizer\n",
    "from sklearn.decomposition import TruncatedSVD"
   ]
  },
  {
   "cell_type": "code",
   "execution_count": null,
   "metadata": {},
   "outputs": [],
   "source": [
    "# define bag of words vectorizer \n",
    "count_vectorizer = CountVectorizer(\n",
    "    analyzer=\"word\", tokenizer=nltk.word_tokenize,\n",
    "    preprocessor=None, stop_words='english', max_features=None)\n",
    "\n",
    "# define SVD truncation operation\n",
    "svd = TruncatedSVD(n_components=25, n_iter=25, random_state=12)\n"
   ]
  },
  {
   "cell_type": "code",
   "execution_count": null,
   "metadata": {},
   "outputs": [],
   "source": [
    "# embed training set\n",
    "bag_of_words_train = count_vectorizer.fit_transform(allText_train)\n",
    "\n",
    "bow_truncated_train = svd.fit_transform(bag_of_words_train)"
   ]
  },
  {
   "cell_type": "code",
   "execution_count": null,
   "metadata": {},
   "outputs": [],
   "source": [
    "# embed testing set\n",
    "bag_of_words_test = count_vectorizer.fit_transform(allText_test)\n",
    "\n",
    "bow_truncated_test = svd.fit_transform(bag_of_words_test)\n"
   ]
  },
  {
   "cell_type": "code",
   "execution_count": null,
   "metadata": {},
   "outputs": [],
   "source": [
    "# save training and testing set\n",
    "X_train = bow_truncated_train\n",
    "X_test = bow_truncated_test\n",
    "\n",
    "# Saving the objects:\n",
    "with open('cleaned_train_test_BoW.pkl', 'wb') as f:  # Python 3: open(..., 'wb')\n",
    "    pickle.dump([X_train, X_test], f)"
   ]
  },
  {
   "cell_type": "markdown",
   "metadata": {},
   "source": [
    "## Term Frequency - Inferse Document Frequency (TF-IDF)\n",
    "\n",
    "TF-IDF evaluates how relevant a word is to a document in a collection of documents."
   ]
  },
  {
   "cell_type": "code",
   "execution_count": null,
   "metadata": {},
   "outputs": [],
   "source": [
    "# define vectorizer and SVD object\n",
    "tfidf_vectorizer = TfidfVectorizer(\n",
    "    analyzer=\"word\", tokenizer=nltk.word_tokenize,\n",
    "    preprocessor=None, stop_words='english', max_features=None)    \n",
    "\n",
    "svd = TruncatedSVD(n_components=25, n_iter=25, random_state=12)\n"
   ]
  },
  {
   "cell_type": "code",
   "execution_count": null,
   "metadata": {},
   "outputs": [],
   "source": [
    "# trianing set\n",
    "tfidf_train_embedded = tfidf_vectorizer.fit_transform(allText_train)\n",
    "tfidf_train_truncated = svd.fit_transform(tfidf_train_embedded)\n",
    "\n",
    "# testing set\n",
    "tfidf_test_embedded = tfidf_vectorizer.fit_transform(allText_train)\n",
    "tfidf_test_truncated = svd.fit_transform(tfidf_test_embedded)\n",
    "\n",
    "len(tfidf_vectorizer.get_feature_names())\n"
   ]
  },
  {
   "cell_type": "code",
   "execution_count": null,
   "metadata": {},
   "outputs": [],
   "source": [
    "# save objects\n",
    "with open('cleaned_train_test_tfidf.pkl', 'wb') as f:  # Python 3: open(..., 'wb')\n",
    "    pickle.dump([tfidf_train_truncated, tfidf_test_truncated], f)"
   ]
  }
 ],
 "metadata": {
  "kernelspec": {
   "display_name": "Python 3",
   "language": "python",
   "name": "python3"
  },
  "language_info": {
   "codemirror_mode": {
    "name": "ipython",
    "version": 3
   },
   "file_extension": ".py",
   "mimetype": "text/x-python",
   "name": "python",
   "nbconvert_exporter": "python",
   "pygments_lexer": "ipython3",
   "version": "3.7.4"
  }
 },
 "nbformat": 4,
 "nbformat_minor": 4
}
